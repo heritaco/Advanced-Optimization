{
 "cells": [
  {
   "cell_type": "markdown",
   "id": "eaf22093",
   "metadata": {},
   "source": [
    "<style>\n",
    "body {\n",
    "    max-width: 900px;\n",
    "    margin: 40px auto;\n",
    "    padding: 0 20px;\n",
    "    font-family: \"Georgia\", serif;\n",
    "    line-height: 1.6;\n",
    "}\n",
    "</style>\n",
    "\n",
    "<div style=\"text-align: center; padding: 60px 60px\">\n",
    "  <h1 style=\"font-weight: bold; font-size: 3.1em\">\n",
    "    GA-UFLP-1\n",
    "  </h1>\n",
    "</div>"
   ]
  },
  {
   "cell_type": "markdown",
   "id": "083fe91b",
   "metadata": {},
   "source": [
    "## **CONFIGURACIÓN DE LA NOTEBOOK**"
   ]
  },
  {
   "cell_type": "code",
   "execution_count": 1,
   "id": "85c9a8e6",
   "metadata": {},
   "outputs": [],
   "source": [
    "from cargar_datos import *\n",
    "from ga_uflp import *\n",
    "from graficas import *"
   ]
  },
  {
   "cell_type": "code",
   "execution_count": 2,
   "id": "ee2c17ed",
   "metadata": {},
   "outputs": [],
   "source": [
    "num_ejecuciones = 9\n",
    "random_seed = 8\n",
    "path = \"resultados\""
   ]
  },
  {
   "cell_type": "code",
   "execution_count": null,
   "id": "f790d2ac",
   "metadata": {},
   "outputs": [],
   "source": [
    "configuraciones = [\n",
    "    # Mejor solucion\n",
    "    {\n",
    "        \"tamaño_de_poblacion\": 300,\n",
    "        \"tasa_de_mutacion\": 1,\n",
    "        \"tasa_de_crossover\": 0,\n",
    "        \"tamaño_del_torneo\": 30,\n",
    "        \"maximo_de_generaciones\": 1000,\n",
    "        \"tipo_de_crossover\": \"un punto\"\n",
    "    },\n",
    "    # Pues\n",
    "    {\n",
    "        \"tamaño_de_poblacion\": 150,\n",
    "        \"tasa_de_mutacion\": 0.75,\n",
    "        \"tasa_de_crossover\": 0.25,\n",
    "        \"tamaño_del_torneo\": 10,\n",
    "        \"maximo_de_generaciones\": 1000,\n",
    "        \"tipo_de_crossover\": \"uniforme\"\n",
    "    },\n",
    "    # Solucion mas rapida\n",
    "    {\n",
    "        \"tamaño_de_poblacion\": 30,\n",
    "        \"tasa_de_mutacion\": 1,\n",
    "        \"tasa_de_crossover\": 0,\n",
    "        \"tamaño_del_torneo\": 10,\n",
    "        \"maximo_de_generaciones\": 1000,\n",
    "        \"tipo_de_crossover\": \"un punto\"\n",
    "    }\n",
    "]"
   ]
  },
  {
   "cell_type": "code",
   "execution_count": null,
   "id": "be29e33e",
   "metadata": {},
   "outputs": [
    {
     "name": "stdout",
     "output_type": "stream",
     "text": [
      "Ejecutando GA para UFLP-1 con semilla aleatoria: 8\n",
      "\n",
      "--- Ejecutando configuracion: N=321, M=0.6, C=0.6, T=16, G=1000, tc=un punto ---\n",
      "Ejecucion 1/9: Mejor Costo = 23468.00, Tiempo = 7.64s, Generaciones = 1000\n",
      "Ejecucion 2/9: Mejor Costo = 23468.00, Tiempo = 7.13s, Generaciones = 1000\n",
      "Ejecucion 3/9: Mejor Costo = 23468.00, Tiempo = 7.20s, Generaciones = 1000\n"
     ]
    },
    {
     "ename": "KeyboardInterrupt",
     "evalue": "",
     "output_type": "error",
     "traceback": [
      "\u001b[31m---------------------------------------------------------------------------\u001b[39m",
      "\u001b[31mKeyboardInterrupt\u001b[39m                         Traceback (most recent call last)",
      "\u001b[36mCell\u001b[39m\u001b[36m \u001b[39m\u001b[32mIn[4]\u001b[39m\u001b[32m, line 28\u001b[39m\n\u001b[32m     25\u001b[39m \u001b[38;5;28;01melse\u001b[39;00m:\n\u001b[32m     26\u001b[39m     \u001b[38;5;28;01mraise\u001b[39;00m \u001b[38;5;167;01mValueError\u001b[39;00m(\u001b[33mf\u001b[39m\u001b[33m\"\u001b[39m\u001b[33mTipo de crossover desconocido: \u001b[39m\u001b[38;5;132;01m{\u001b[39;00mconfig[\u001b[33m'\u001b[39m\u001b[33mtipo_de_crossover\u001b[39m\u001b[33m'\u001b[39m]\u001b[38;5;132;01m}\u001b[39;00m\u001b[33m\"\u001b[39m)\n\u001b[32m---> \u001b[39m\u001b[32m28\u001b[39m mejor_solucion, mejor_fitness, historial_de_fitnesses, tiempo_de_ejecucion, num_generaciones = \u001b[43mga\u001b[49m\u001b[43m.\u001b[49m\u001b[43mrun\u001b[49m\u001b[43m(\u001b[49m\u001b[43m)\u001b[49m\n\u001b[32m     29\u001b[39m resultados[nombre_configuracion].append({\n\u001b[32m     30\u001b[39m     \u001b[33m\"\u001b[39m\u001b[33mmejor_solucion\u001b[39m\u001b[33m\"\u001b[39m: mejor_solucion+\u001b[32m1\u001b[39m,\n\u001b[32m     31\u001b[39m     \u001b[33m\"\u001b[39m\u001b[33mmejor_costo\u001b[39m\u001b[33m\"\u001b[39m: mejor_fitness,\n\u001b[32m   (...)\u001b[39m\u001b[32m     34\u001b[39m     \u001b[33m\"\u001b[39m\u001b[33mhistorial_de_fitnesses\u001b[39m\u001b[33m\"\u001b[39m: historial_de_fitnesses\n\u001b[32m     35\u001b[39m })\n\u001b[32m     36\u001b[39m \u001b[38;5;28mprint\u001b[39m(\u001b[33mf\u001b[39m\u001b[33m\"\u001b[39m\u001b[33mEjecucion \u001b[39m\u001b[38;5;132;01m{\u001b[39;00mejecucion\u001b[38;5;250m \u001b[39m+\u001b[38;5;250m \u001b[39m\u001b[32m1\u001b[39m\u001b[38;5;132;01m}\u001b[39;00m\u001b[33m/\u001b[39m\u001b[38;5;132;01m{\u001b[39;00mnum_ejecuciones\u001b[38;5;132;01m}\u001b[39;00m\u001b[33m: Mejor Costo = \u001b[39m\u001b[38;5;132;01m{\u001b[39;00mmejor_fitness\u001b[38;5;132;01m:\u001b[39;00m\u001b[33m.2f\u001b[39m\u001b[38;5;132;01m}\u001b[39;00m\u001b[33m, Tiempo = \u001b[39m\u001b[38;5;132;01m{\u001b[39;00mtiempo_de_ejecucion\u001b[38;5;132;01m:\u001b[39;00m\u001b[33m.2f\u001b[39m\u001b[38;5;132;01m}\u001b[39;00m\u001b[33ms, Generaciones = \u001b[39m\u001b[38;5;132;01m{\u001b[39;00mnum_generaciones\u001b[38;5;132;01m}\u001b[39;00m\u001b[33m\"\u001b[39m)\n",
      "\u001b[36mFile \u001b[39m\u001b[32m/workspaces/Advanced-Optimization/ga_uflp.py:179\u001b[39m, in \u001b[36mUFLP_GA.run\u001b[39m\u001b[34m(self)\u001b[39m\n\u001b[32m    177\u001b[39m \u001b[38;5;28;01mwhile\u001b[39;00m \u001b[38;5;28mlen\u001b[39m(nueva_poblacion) < \u001b[38;5;28mself\u001b[39m.tamaño_poblacion - \u001b[32m1\u001b[39m:\n\u001b[32m    178\u001b[39m     padre1 = \u001b[38;5;28mself\u001b[39m._seleccion_torneo()\n\u001b[32m--> \u001b[39m\u001b[32m179\u001b[39m     padre2 = \u001b[38;5;28;43mself\u001b[39;49m\u001b[43m.\u001b[49m\u001b[43m_seleccion_torneo\u001b[49m\u001b[43m(\u001b[49m\u001b[43m)\u001b[49m\n\u001b[32m    180\u001b[39m     \u001b[38;5;28;01mif\u001b[39;00m random.random() < \u001b[38;5;28mself\u001b[39m.tasa_crossover:\n\u001b[32m    181\u001b[39m         descendiente1, descendiente2 = \u001b[38;5;28mself\u001b[39m._operador_crossover(padre1, padre2)\n",
      "\u001b[36mFile \u001b[39m\u001b[32m/workspaces/Advanced-Optimization/ga_uflp.py:79\u001b[39m, in \u001b[36mUFLP_GA._seleccion_torneo\u001b[39m\u001b[34m(self)\u001b[39m\n\u001b[32m     78\u001b[39m \u001b[38;5;28;01mdef\u001b[39;00m\u001b[38;5;250m \u001b[39m\u001b[34m_seleccion_torneo\u001b[39m(\u001b[38;5;28mself\u001b[39m):\n\u001b[32m---> \u001b[39m\u001b[32m79\u001b[39m     torneo = \u001b[43mrandom\u001b[49m\u001b[43m.\u001b[49m\u001b[43msample\u001b[49m\u001b[43m(\u001b[49m\u001b[38;5;28;43mself\u001b[39;49m\u001b[43m.\u001b[49m\u001b[43mpoblacion\u001b[49m\u001b[43m,\u001b[49m\u001b[43m \u001b[49m\u001b[38;5;28;43mself\u001b[39;49m\u001b[43m.\u001b[49m\u001b[43mtamaño_torneo\u001b[49m\u001b[43m)\u001b[49m  \u001b[38;5;66;03m# Selecciona un subconjunto aleatorio de la poblacion.\u001b[39;00m\n\u001b[32m     80\u001b[39m     ganador = \u001b[38;5;28mmin\u001b[39m(torneo, key=\u001b[38;5;28;01mlambda\u001b[39;00m ind: ind[\u001b[33m'\u001b[39m\u001b[33mfitness\u001b[39m\u001b[33m'\u001b[39m])  \u001b[38;5;66;03m# Encuentra al individuo con la mejor fitness en el torneo.\u001b[39;00m\n\u001b[32m     81\u001b[39m     \u001b[38;5;28;01mreturn\u001b[39;00m ganador\n",
      "\u001b[36mFile \u001b[39m\u001b[32m/usr/local/python/3.12.1/lib/python3.12/random.py:450\u001b[39m, in \u001b[36mRandom.sample\u001b[39m\u001b[34m(self, population, k, counts)\u001b[39m\n\u001b[32m    448\u001b[39m         \u001b[38;5;28;01mwhile\u001b[39;00m j \u001b[38;5;129;01min\u001b[39;00m selected:\n\u001b[32m    449\u001b[39m             j = randbelow(n)\n\u001b[32m--> \u001b[39m\u001b[32m450\u001b[39m         \u001b[43mselected_add\u001b[49m\u001b[43m(\u001b[49m\u001b[43mj\u001b[49m\u001b[43m)\u001b[49m\n\u001b[32m    451\u001b[39m         result[i] = population[j]\n\u001b[32m    452\u001b[39m \u001b[38;5;28;01mreturn\u001b[39;00m result\n",
      "\u001b[31mKeyboardInterrupt\u001b[39m: "
     ]
    }
   ],
   "source": [
    "for i in range(2, 11):\n",
    "    file_name = f'UFLP-{i}'\n",
    "    n_instalaciones, n_clientes, costos_fijos, costos_de_transporte = cargar_datos('datos/'+file_name+'.txt')\n",
    "\n",
    "    resultados = {}\n",
    "    os.makedirs(os.path.join(path, file_name), exist_ok=True)\n",
    "   \n",
    "\n",
    "    # Ejecucion del algoritmo genetico\n",
    "    print(f\"Ejecutando GA para {file_name} con semilla aleatoria: {random_seed}\\n\")\n",
    "\n",
    "    for config in configuraciones:\n",
    "        nombre_configuracion = f\"N={config['tamaño_de_poblacion']}, M={config['tasa_de_mutacion']}, C={config['tasa_de_crossover']}, T={config['tamaño_del_torneo']}, G={config['maximo_de_generaciones']}, tc={config['tipo_de_crossover']}\"\n",
    "        print(f\"Ejecutando configuracion: {nombre_configuracion}\")\n",
    "        resultados[nombre_configuracion] = []\n",
    "\n",
    "        for ejecucion in range(num_ejecuciones):\n",
    "            ga = UFLP_GA(n_instalaciones, n_clientes, costos_fijos, costos_de_transporte,\n",
    "                        config[\"tamaño_de_poblacion\"], config[\"tasa_de_mutacion\"], config[\"tasa_de_crossover\"],\n",
    "                        config[\"tamaño_del_torneo\"], config[\"maximo_de_generaciones\"])\n",
    "            if config[\"tipo_de_crossover\"] == \"uniforme\":\n",
    "                ga._operador_de_crossover = ga._crossover_uniforme\n",
    "            elif config[\"tipo_de_crossover\"] == \"un punto\":\n",
    "                ga._operador_de_crossover = ga._crossover_un_punto\n",
    "            else:\n",
    "                raise ValueError(f\"Tipo de crossover desconocido: {config['tipo_de_crossover']}\")\n",
    "\n",
    "            mejor_solucion, mejor_fitness, historial_de_fitnesses, tiempo_de_ejecucion, num_generaciones = ga.run()\n",
    "            resultados[nombre_configuracion].append({\n",
    "                \"mejor_solucion\": mejor_solucion+1,\n",
    "                \"mejor_costo\": mejor_fitness,\n",
    "                \"tiempo_de_ejecucion\": tiempo_de_ejecucion,\n",
    "                \"num_generaciones\": num_generaciones,\n",
    "                \"historial_de_fitnesses\": historial_de_fitnesses\n",
    "            })\n",
    "            print(f\"{ejecucion + 1}/{num_ejecuciones}  \")\n",
    "    print(\"\\n\")\n",
    "\n",
    "\n",
    "    # Resumen\n",
    "    tablas_resumen = {}\n",
    "    for nombre_configuracion, resultados_ejecuciones in resultados.items():\n",
    "        costos = [res[\"mejor_costo\"] for res in resultados_ejecuciones]\n",
    "        tiempos = [res[\"tiempo_de_ejecucion\"] for res in resultados_ejecuciones]\n",
    "        mejor_costo = min(costos)\n",
    "        peor_costo = max(costos)\n",
    "        costo_promedio = np.mean(costos)\n",
    "        desviacion_estandar_costo = np.std(costos)\n",
    "        tiempo_promedio = np.mean(tiempos)\n",
    "        desviacion_porcentual = (peor_costo - mejor_costo) / mejor_costo * 100 if mejor_costo != 0 else np.inf\n",
    "\n",
    "        tablas_resumen[nombre_configuracion] = pd.DataFrame({\n",
    "            \"Métrica\": [\"Mejor Costo\", \"Peor Costo\", \"Costo Promedio\", \"Desviacion Estandar Costo\", \"Tiempo Promedio de Ejecucion (s)\", \"Desviacion Porcentual (%)\"],\n",
    "            \"Valor\": [f\"{mejor_costo:.2f}\", f\"{peor_costo:.2f}\", f\"{costo_promedio:.2f}\", f\"{desviacion_estandar_costo:.2f}\", f\"{tiempo_promedio:.2f}\", f\"{desviacion_porcentual:.2f}\"]\n",
    "        })\n",
    "\n",
    "        os.makedirs(os.path.join(path, file_name, nombre_configuracion), exist_ok=True)\n",
    "\n",
    "    for nombre_configuracion, resumen_df in tablas_resumen.items():\n",
    "        resumen_df.to_csv(os.path.join(path, file_name, nombre_configuracion, f\"resumen.csv\"), index=False)\n",
    "\n",
    "\n",
    "    # Graficar resultados\n",
    "    curva_corvengencia_individual(resultados, path, file_name)\n",
    "    box_plot_costos(resultados, path, file_name)\n",
    "    guardar_resultados(resultados, path, file_name, random_seed)\n",
    "\n",
    "    curva_convergencia_comparacion(resultados, path, file_name)\n",
    "    box_plot_costos_comparacion(resultados, path, file_name)\n",
    "    resumen_tablas(resultados, path, file_name, num_ejecuciones, tablas_resumen, random_seed)\n"
   ]
  }
 ],
 "metadata": {
  "kernelspec": {
   "display_name": "Python 3",
   "language": "python",
   "name": "python3"
  },
  "language_info": {
   "codemirror_mode": {
    "name": "ipython",
    "version": 3
   },
   "file_extension": ".py",
   "mimetype": "text/x-python",
   "name": "python",
   "nbconvert_exporter": "python",
   "pygments_lexer": "ipython3",
   "version": "3.12.1"
  }
 },
 "nbformat": 4,
 "nbformat_minor": 5
}
