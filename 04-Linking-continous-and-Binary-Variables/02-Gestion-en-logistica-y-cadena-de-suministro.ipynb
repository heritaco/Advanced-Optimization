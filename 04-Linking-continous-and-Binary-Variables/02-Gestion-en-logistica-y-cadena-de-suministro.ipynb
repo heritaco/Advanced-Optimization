{
 "cells": [
  {
   "cell_type": "markdown",
   "metadata": {},
   "source": [
    "<div style=\"position: relative; text-align: center; padding: 30px;\">\n",
    "  <h1><strong>Gestión en Logística y Cadena de Suministro</strong></h1>\n",
    "  <h3><strong>Ejercicio 2</strong></h3>\n",
    "</div>"
   ]
  },
  {
   "cell_type": "markdown",
   "metadata": {},
   "source": [
    "Un fabricante de equipos de aire acondicionado ha experimentado un incremento significativo en la demanda de dichos equipos en algunas zonas de los Estados Unidos. La compañía anticipa una demanda total para el próximo año de $d_j$ unidades para la zona geográfica $j$ del país, que está dividido en $n$ zonas de demanda.  \n",
    "\n",
    "La gerencia está considerando el diseño de una red de manufactura y ha seleccionado $m$ sitios potenciales para ubicar plantas productivas. Se puede abrir una sola planta en cada sitio. Dichas plantas pueden tener una capacidad de producción de $Q_1$ o de $Q_2$ unidades.  \n",
    "\n",
    "Para cada posible sitio potencial se especifican dos costos fijos anuales de operación $f_{1i}$ y $f_{2i}$ para $i = 1, \\dots, m$.  \n",
    "- $f_{1i}$ corresponde a la selección del sitio para ubicar una planta con capacidad de $Q_1$ unidades anuales.  \n",
    "- $f_{2i}$ corresponde a la selección del sitio para ubicar una planta con una capacidad de $Q_2$ unidades anuales.  \n",
    "\n",
    "Sea también $c_{ij}$, para $i = 1, \\dots, m$ y $j = 1, \\dots, n$, el costo de producción y transporte por unidad del sitio $i$ a la zona $j$.  "
   ]
  },
  {
   "cell_type": "markdown",
   "metadata": {},
   "source": [
    "Se requiere formular el problema para determinar lo siguiente: \n",
    "\n",
    "- ¿En cuáles sitios se debe abrir una planta productiva y con qué capacidad?  \n",
    "- ¿Cuántos equipos deben enviarse desde cada una de las plantas productivas a cada una de las zonas de demanda? \n",
    "- ¿A cuánto asciende el costo total?"
   ]
  },
  {
   "cell_type": "markdown",
   "metadata": {},
   "source": [
    "Procedamos a modelar el problema paso a paso. Se trata de decidir, para cada uno de los m sitios potenciales, si se abre una planta (y de qué capacidad) y, en caso afirmativo, cuánto producir y enviar a cada una de las n zonas de demanda, de forma que se satisfagan todas las demandas y se minimicen los costos totales (fijos y variables).\n",
    "\n",
    "A continuación, definimos las variables de decisión, los parámetros y luego la formulación completa del modelo de optimización.\n",
    "\n",
    "\n",
    "\n",
    "\n",
    "## 1. Parámetros\n",
    "\n",
    "- $m$: Número de sitios potenciales para ubicar plantas.\n",
    "- $n$: Número de zonas de demanda.\n",
    "- $d_j$ o $d_j$ para $j=1,\\ldots,n$: Demanda anual de la zona $j$.\n",
    "- $Q_1$ y $Q_2$: Capacidades anuales posibles de una planta.\n",
    "- $f_{1i}$: Costo fijo anual si se abre la planta en el sitio $i$ con capacidad $Q_1$.\n",
    "- $f_{2i}$: Costo fijo anual si se abre la planta en el sitio $i$ con capacidad $Q_2$.\n",
    "- $c_{ij}$: Costo de producción y transporte por unidad desde el sitio $i$ a la zona $j$.\n",
    "\n",
    "\n",
    "\n",
    "\n",
    "## 2. Variables de Decisión\n",
    "\n",
    "### Variables de asignación (flujos):\n",
    "- $x_{ij} \\ge 0$: Número de equipos enviados desde la planta ubicada en el sitio $i$ a la zona $j$.\n",
    "\n",
    "### Variables binarias de selección de planta:\n",
    "Utilizamos dos variables binarias para cada sitio $i$:\n",
    "- $y_{1i} \\in \\{0,1\\}$: Toma el valor 1 si se abre la planta en el sitio $i$ con capacidad $Q_1$; 0 en caso contrario.\n",
    "- $y_{2i} \\in \\{0,1\\}$: Toma el valor 1 si se abre la planta en el sitio $i$ con capacidad $Q_2$; 0 en caso contrario.\n",
    "\n",
    "> **Nota:** Se permite abrir a lo sumo una planta en cada sitio, es decir, se selecciona solo una de las dos opciones o ninguna.\n",
    "\n",
    "\n",
    "\n",
    "\n",
    "## 3. Función Objetivo\n",
    "\n",
    "El costo total se compone de:\n",
    "- **Costos fijos:** Si se abre la planta en el sitio $i$ con capacidad $Q_1$ se incurre en un costo de $f_{1i}$; si se abre con capacidad $Q_2$, se incurre en $f_{2i}$.\n",
    "- **Costos variables:** Por cada unidad enviada desde el sitio $i$ a la zona $j$ se paga $c_{ij}$.\n",
    "\n",
    "Así, la función objetivo (minimizar el costo total) es:\n",
    "\n",
    "$$\n",
    "\\min \\quad \\sum_{i=1}^{m} \\Big( f_{1i}\\,y_{1i} + f_{2i}\\,y_{2i} \\Big) + \\sum_{i=1}^{m} \\sum_{j=1}^{n} c_{ij}\\,x_{ij}.\n",
    "$$\n",
    "\n",
    "\n",
    "\n",
    "\n",
    "## 4. Restricciones\n",
    "\n",
    "### a) Satisfacción de la demanda\n",
    "\n",
    "Cada zona $j$ debe recibir al menos la cantidad demandada $d_j$:\n",
    "\n",
    "$$\n",
    "\\sum_{i=1}^{m} x_{ij} \\ge d_j, \\quad \\forall \\, j = 1, \\ldots, n.\n",
    "$$\n",
    "\n",
    "### b) Restricción de capacidad en cada planta\n",
    "\n",
    "La cantidad producida (y enviada) desde cada planta $i$ no puede exceder la capacidad de la planta, la cual depende de la decisión tomada en dicho sitio. Es decir, para cada sitio $i$:\n",
    "\n",
    "$$\n",
    "\\sum_{j=1}^{n} x_{ij} \\le Q_1\\,y_{1i} + Q_2\\,y_{2i}, \\quad \\forall \\, i = 1, \\ldots, m.\n",
    "$$\n",
    "\n",
    "### c) A lo sumo una planta por sitio\n",
    "\n",
    "En cada sitio se puede seleccionar como máximo una de las dos opciones (o ninguna):\n",
    "\n",
    "$$\n",
    "y_{1i} + y_{2i} \\le 1, \\quad \\forall \\, i = 1, \\ldots, m.\n",
    "$$\n",
    "\n",
    "### d) No negatividad y dominio de variables\n",
    "\n",
    "$$\n",
    "x_{ij} \\ge 0, \\quad \\forall \\, i = 1, \\ldots, m,\\; \\forall \\, j = 1, \\ldots, n,\n",
    "$$\n",
    "$$\n",
    "y_{1i}, \\, y_{2i} \\in \\{0,1\\}, \\quad \\forall \\, i = 1, \\ldots, m.\n",
    "$$\n",
    "\n",
    "\n",
    "\n",
    "\n",
    "## Interpretación de la solución\n",
    "\n",
    "- **Selección de plantas y capacidad:** Las variables binarias $y_{1i}$ y $y_{2i}$ indican en qué sitios se abre una planta y qué capacidad se elige. Si, por ejemplo, $y_{1i} = 1$, entonces en el sitio $i$ se instala una planta con capacidad $Q_1$ y se incurre en un costo fijo $f_{1i}$.\n",
    "- **Asignación de envíos:** Las variables $x_{ij}$ indican el número de unidades (equipos) que se producen en la planta $i$ y se envían a la zona $j$. Estas variables aseguran que se satisfaga la demanda de cada zona y se respete la capacidad instalada en cada planta.\n",
    "- **Costo total:** La función objetivo suma los costos fijos de abrir las plantas seleccionadas y los costos variables asociados al envío de cada unidad desde los sitios de producción a las zonas de demanda.\n",
    "\n",
    "Este modelo de programación lineal entera mixta (MILP) permite determinar, de forma óptima, en qué sitios abrir las plantas, qué capacidad instalar en cada uno y cómo asignar los envíos para minimizar el costo total, cumpliendo con la demanda y las limitaciones de capacidad.\n",
    "\n",
    "\n",
    "\n",
    "\n",
    "Esta es la formulación completa del problema de optimización propuesto. Si necesitas mayor detalle en algún paso o ejemplos numéricos, házmelo saber."
   ]
  },
  {
   "cell_type": "code",
   "execution_count": 15,
   "metadata": {},
   "outputs": [],
   "source": [
    "from ortools.linear_solver import pywraplp"
   ]
  },
  {
   "cell_type": "code",
   "execution_count": 16,
   "metadata": {},
   "outputs": [],
   "source": [
    "solver = pywraplp.Solver.CreateSolver('SCIP')"
   ]
  },
  {
   "cell_type": "code",
   "execution_count": 17,
   "metadata": {},
   "outputs": [],
   "source": [
    "epsilon = 1e-6"
   ]
  },
  {
   "cell_type": "markdown",
   "metadata": {},
   "source": [
    "### **Conjunto de índices**"
   ]
  },
  {
   "cell_type": "markdown",
   "metadata": {},
   "source": [
    "- $m$: Número de sitios potenciales para ubicar plantas.\n",
    "- $n$: Número de zonas de demanda.\n",
    "- $d_j$ o $d_j$ para $j=1,\\ldots,n$: Demanda anual de la zona $j$.\n",
    "- $Q_1$ y $Q_2$: Capacidades anuales posibles de una planta.\n",
    "- $f_{1i}$: Costo fijo anual si se abre la planta en el sitio $i$ con capacidad $Q_1$.\n",
    "- $f_{2i}$: Costo fijo anual si se abre la planta en el sitio $i$ con capacidad $Q_2$.\n",
    "- $c_{ij}$: Costo de producción y transporte por unidad desde el sitio $i$ a la zona $j$.\n",
    "\n",
    "\n"
   ]
  },
  {
   "cell_type": "markdown",
   "metadata": {},
   "source": [
    "### **Parámetros**"
   ]
  },
  {
   "cell_type": "code",
   "execution_count": 18,
   "metadata": {},
   "outputs": [],
   "source": [
    "n = 4  # Zonas: 1-zona sur, 2-zona medio oeste, 3-zona este, 4-zona oeste\n",
    "m = 4  # Ciudades: 1-Nueva York, 2-Atlanta, 3-Chicago, 4-San Diego\n",
    "\n",
    "# Demanda\n",
    "d = [180000, 120000, 110000, 100000]\n",
    "\n",
    "# Cantidades\n",
    "Q1 = 200000\n",
    "Q2 = 400000\n",
    "\n",
    "# Costos fijos\n",
    "f1 = [6300000, 5500000, 5600000, 6100000]\n",
    "f2 = [10000000, 8200000, 9300000, 10200000]\n",
    "\n",
    "# Costos variables\n",
    "c = [\n",
    "    [211, 232, 240, 300],\n",
    "    [232, 212, 230, 280],\n",
    "    [238, 230, 215, 270],\n",
    "    [299, 280, 270, 225]\n",
    "]"
   ]
  },
  {
   "cell_type": "markdown",
   "metadata": {},
   "source": [
    "### **Variables de decisión**"
   ]
  },
  {
   "cell_type": "markdown",
   "metadata": {},
   "source": [
    "Variables de asignación (flujos):  \n",
    "- $x_{ij} \\ge 0$: Número de equipos enviados desde la planta ubicada en el sitio $i$ a la zona $j$."
   ]
  },
  {
   "cell_type": "code",
   "execution_count": 19,
   "metadata": {},
   "outputs": [],
   "source": [
    "# Variables continuas: x[i][j] es la cantidad enviada desde la planta en la ciudad i a la zona j\n",
    "x = {}\n",
    "for i in range(m):\n",
    "    for j in range(n):\n",
    "        x[i, j] = solver.NumVar(0, solver.infinity(), f'x_{i}_{j}')"
   ]
  },
  {
   "cell_type": "markdown",
   "metadata": {},
   "source": [
    "Variables binarias de selección de planta:  \n",
    "Utilizamos dos variables binarias para cada sitio $i$:\n",
    "- $y_{1i} \\in \\{0,1\\}$: Toma el valor 1 si se abre la planta en el sitio $i$ con capacidad $Q_1$; 0 en caso contrario.\n",
    "- $y_{2i} \\in \\{0,1\\}$: Toma el valor 1 si se abre la planta en el sitio $i$ con capacidad $Q_2$; 0 en caso contrario."
   ]
  },
  {
   "cell_type": "code",
   "execution_count": 20,
   "metadata": {},
   "outputs": [],
   "source": [
    "# Variables binarias: y1[i] indica si se abre la planta en la ciudad i con capacidad Q1\n",
    "y1 = {}\n",
    "y2 = {}\n",
    "for i in range(m):\n",
    "    y1[i] = solver.BoolVar(f'y1_{i}')\n",
    "    y2[i] = solver.BoolVar(f'y2_{i}')"
   ]
  },
  {
   "cell_type": "markdown",
   "metadata": {},
   "source": [
    "> **Nota:** Se permite abrir a lo sumo una planta en cada sitio, es decir, se selecciona solo una de las dos opciones o ninguna."
   ]
  },
  {
   "cell_type": "markdown",
   "metadata": {},
   "source": [
    "### **Función objetivo**"
   ]
  },
  {
   "cell_type": "markdown",
   "metadata": {},
   "source": [
    "El costo total se compone de:\n",
    "- **Costos fijos:** Si se abre la planta en el sitio $i$ con capacidad $Q_1$ se incurre en un costo de $f_{1i}$; si se abre con capacidad $Q_2$, se incurre en $f_{2i}$.\n",
    "- **Costos variables:** Por cada unidad enviada desde el sitio $i$ a la zona $j$ se paga $c_{ij}$."
   ]
  },
  {
   "cell_type": "markdown",
   "metadata": {},
   "source": [
    "\n",
    "Así, la función objetivo (minimizar el costo total) es:\n",
    "\n",
    "$$\n",
    "\\min \\quad \\sum_{i=1}^{m} \\Big( f_{1i}\\,y_{1i} + f_{2i}\\,y_{2i} \\Big) + \\sum_{i=1}^{m} \\sum_{j=1}^{n} c_{ij}\\,x_{ij}.\n",
    "$$\n"
   ]
  },
  {
   "cell_type": "code",
   "execution_count": 21,
   "metadata": {},
   "outputs": [],
   "source": [
    "costo = solver.Objective()\n",
    "\n",
    "costo = (\n",
    "    sum(f1[i] * y1[i] + f2[i] * y2[i] for i in range(m)) # Gastos fijos\n",
    "    + sum(c[i][j] * x[i, j] for i in range(m) for j in range(n)) #  Gastos variables\n",
    ")\n",
    "\n",
    "solver.Minimize(costo)"
   ]
  },
  {
   "cell_type": "markdown",
   "metadata": {},
   "source": [
    "### **Restricciones**"
   ]
  },
  {
   "cell_type": "markdown",
   "metadata": {},
   "source": [
    "**Satisfacción de la demanda**\n",
    "\n",
    "Cada zona $j$ debe recibir al menos la cantidad demandada $d_j$:\n",
    "\n",
    "$$\n",
    "\\sum_{i=1}^{m} x_{ij} \\ge d_j, \\quad \\forall \\, j = 1, \\ldots, n.\n",
    "$$\n"
   ]
  },
  {
   "cell_type": "code",
   "execution_count": 22,
   "metadata": {},
   "outputs": [],
   "source": [
    "# Satisfacción de la demanda: cada zona j debe recibir al menos d[j] unidades\n",
    "for j in range(n):\n",
    "    constraint_expr = solver.Sum(x[i, j] for i in range(m))\n",
    "    solver.Add(constraint_expr >= d[j])"
   ]
  },
  {
   "cell_type": "markdown",
   "metadata": {},
   "source": [
    "**Restricción de capacidad en cada planta**\n",
    "\n",
    "La cantidad producida (y enviada) desde cada planta $i$ no puede exceder la capacidad de la planta, la cual depende de la decisión tomada en dicho sitio. Es decir, para cada sitio $i$:\n",
    "\n",
    "$$\n",
    "\\sum_{j=1}^{n} x_{ij} \\le Q_1\\,y_{1i} + Q_2\\,y_{2i}, \\quad \\forall \\, i = 1, \\ldots, m.\n",
    "$$\n"
   ]
  },
  {
   "cell_type": "code",
   "execution_count": 23,
   "metadata": {},
   "outputs": [],
   "source": [
    "# Restricción de capacidad en cada planta: lo enviado desde la planta i no puede exceder la capacidad instalada\n",
    "for i in range(m):\n",
    "    capacity = Q1 * y1[i] + Q2 * y2[i]\n",
    "    solver.Add(solver.Sum(x[i, j] for j in range(n)) <= capacity)"
   ]
  },
  {
   "cell_type": "markdown",
   "metadata": {},
   "source": [
    "**A lo sumo una planta por sitio**\n",
    "\n",
    "En cada sitio se puede seleccionar como máximo una de las dos opciones (o ninguna):\n",
    "\n",
    "$$\n",
    "y_{1i} + y_{2i} \\le 1, \\quad \\forall \\, i = 1, \\ldots, m.\n",
    "$$"
   ]
  },
  {
   "cell_type": "code",
   "execution_count": 24,
   "metadata": {},
   "outputs": [],
   "source": [
    "# A lo sumo una planta por ciudad: en cada ciudad se puede seleccionar a lo sumo una capacidad\n",
    "for i in range(m):\n",
    "    solver.Add(y1[i] + y2[i] <= 1)"
   ]
  },
  {
   "cell_type": "markdown",
   "metadata": {},
   "source": [
    "**No negatividad y dominio de variables**\n",
    "\n",
    "$$\n",
    "x_{ij} \\ge 0, \\quad \\forall \\, i = 1, \\ldots, m,\\; \\forall \\, j = 1, \\ldots, n,\n",
    "$$\n",
    "$$\n",
    "y_{1i}, \\, y_{2i} \\in \\{0,1\\}, \\quad \\forall \\, i = 1, \\ldots, m.\n",
    "$$"
   ]
  },
  {
   "cell_type": "markdown",
   "metadata": {},
   "source": [
    "### **Resolver**"
   ]
  },
  {
   "cell_type": "code",
   "execution_count": 25,
   "metadata": {},
   "outputs": [
    {
     "data": {
      "text/plain": [
       "0"
      ]
     },
     "execution_count": 25,
     "metadata": {},
     "output_type": "execute_result"
    }
   ],
   "source": [
    "solver.Solve()"
   ]
  },
  {
   "cell_type": "code",
   "execution_count": 26,
   "metadata": {},
   "outputs": [
    {
     "name": "stdout",
     "output_type": "stream",
     "text": [
      "Costo total = 129,700,000.00\n"
     ]
    }
   ],
   "source": [
    "print(f'Costo total = {solver.Objective().Value():,.2f}')"
   ]
  },
  {
   "cell_type": "code",
   "execution_count": 27,
   "metadata": {},
   "outputs": [
    {
     "name": "stdout",
     "output_type": "stream",
     "text": [
      "Decisión de abrir plantas y capacidades:\n",
      "Ciudad 1: No se abre planta.\n",
      "Ciudad 2: Abrir planta con capacidad 400000 (costo fijo = 8,200,000)\n",
      "Ciudad 3: No se abre planta.\n",
      "Ciudad 4: Abrir planta con capacidad 200000 (costo fijo = 6,100,000)\n"
     ]
    }
   ],
   "source": [
    "print('Decisión de abrir plantas y capacidades:')\n",
    "for i in range(m):\n",
    "    if y1[i].solution_value() > 0.5:\n",
    "        print(f'Ciudad {i+1}: Abrir planta con capacidad {Q1} (costo fijo = {f1[i]:,})')\n",
    "    elif y2[i].solution_value() > 0.5:\n",
    "        print(f'Ciudad {i+1}: Abrir planta con capacidad {Q2} (costo fijo = {f2[i]:,})')\n",
    "    else:\n",
    "        print(f'Ciudad {i+1}: No se abre planta.')"
   ]
  },
  {
   "cell_type": "code",
   "execution_count": 28,
   "metadata": {},
   "outputs": [
    {
     "name": "stdout",
     "output_type": "stream",
     "text": [
      "Asignación de envíos (x[i][j]):\n",
      "Envío desde Ciudad 2 a Zona 1: 180,000 unidades\n",
      "Envío desde Ciudad 2 a Zona 2: 120,000 unidades\n",
      "Envío desde Ciudad 2 a Zona 3: 100,000 unidades\n",
      "Envío desde Ciudad 4 a Zona 3: 10,000 unidades\n",
      "Envío desde Ciudad 4 a Zona 4: 100,000 unidades\n"
     ]
    }
   ],
   "source": [
    "print('Asignación de envíos (x[i][j]):')\n",
    "for i in range(m):\n",
    "    for j in range(n):\n",
    "        cantidad = x[i, j].solution_value()\n",
    "        if cantidad > epsilon:  # Mostrar solo flujos significativos\n",
    "            print(f'Envío desde Ciudad {i+1} a Zona {j+1}: {cantidad:,.0f} unidades')"
   ]
  }
 ],
 "metadata": {
  "kernelspec": {
   "display_name": "Python 3",
   "language": "python",
   "name": "python3"
  },
  "language_info": {
   "codemirror_mode": {
    "name": "ipython",
    "version": 3
   },
   "file_extension": ".py",
   "mimetype": "text/x-python",
   "name": "python",
   "nbconvert_exporter": "python",
   "pygments_lexer": "ipython3",
   "version": "3.12.1"
  }
 },
 "nbformat": 4,
 "nbformat_minor": 2
}
