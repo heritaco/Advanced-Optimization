{
 "cells": [
  {
   "cell_type": "markdown",
   "metadata": {},
   "source": [
    "<div style=\"position: relative; text-align: center; padding: 30px;\">\n",
    "  <h1><strong>Gestión en Logística y Cadena de Suministro</strong></h1>\n",
    "  <h3><strong>Ejercicio 2</strong></h3>\n",
    "</div>"
   ]
  },
  {
   "cell_type": "markdown",
   "metadata": {},
   "source": [
    "Un fabricante de equipos de aire acondicionado ha experimentado un incremento significativo en la demanda de dichos equipos en algunas zonas de los Estados Unidos. La compañía anticipa una demanda total para el próximo año de $d_j$ unidades para la zona geográfica $j$ del país, que está dividido en $n$ zonas de demanda.  \n",
    "\n",
    "La gerencia está considerando el diseño de una red de manufactura y ha seleccionado $m$ sitios potenciales para ubicar plantas productivas. Se puede abrir una sola planta en cada sitio. Dichas plantas pueden tener una capacidad de producción de $Q_1$ o de $Q_2$ unidades.  \n",
    "\n",
    "Para cada posible sitio potencial se especifican dos costos fijos anuales de operación $f_{1i}$ y $f_{2i}$ para $i = 1, \\dots, m$.  \n",
    "- $f_{1i}$ corresponde a la selección del sitio para ubicar una planta con capacidad de $Q_1$ unidades anuales.  \n",
    "- $f_{2i}$ corresponde a la selección del sitio para ubicar una planta con una capacidad de $Q_2$ unidades anuales.  \n",
    "\n",
    "Sea también $c_{ij}$, para $i = 1, \\dots, m$ y $j = 1, \\dots, n$, el costo de producción y transporte por unidad del sitio $i$ a la zona $j$.  \n",
    "\n",
    "Se requiere formular el problema para determinar lo siguiente:\n",
    "\n",
    "- **En cuáles sitios se debe abrir una planta productiva y con qué capacidad.**  \n",
    "- **Cuántos equipos deben enviarse desde cada una de las plantas productivas a cada una de las zonas de demanda.**  \n",
    "- **A cuánto asciende el costo total.**  \n"
   ]
  },
  {
   "cell_type": "markdown",
   "metadata": {},
   "source": [
    "- La compañía anticipa una demanda total para el próximo año de $d_j$ unidades para la zona geográfica $j$ del país, que está dividido en $n$ zonas de demanda.  \n",
    "-  $m$ sitios potenciales para ubicar plantas productivas\n",
    "-  Dichas plantas pueden tener una capacidad de producción de $Q_1$ o de $Q_2$ unidades.\n",
    "-   dos costos fijos anuales de operación $f_{1i}$ y $f_{2i}$ para $i = 1, \\dots, m$.  "
   ]
  },
  {
   "cell_type": "markdown",
   "metadata": {},
   "source": [
    "### **Conjunto de Índices**"
   ]
  },
  {
   "cell_type": "markdown",
   "metadata": {},
   "source": [
    "En este problema, los conjuntos de índices principales son:  \n",
    "\n",
    "- $i$ : Índice para los sitios potenciales de las plantas productivas, con $i \\in M = \\{1, 2, \\dots, m\\}$.  \n",
    "- $j$ : Índice para las zonas de demanda, con $j \\in N = \\{1, 2, \\dots, n\\}$.  \n",
    "\n",
    "Estos índices nos permiten referenciar:  \n",
    "- **Los sitios potenciales para ubicar una planta** mediante $i$.  \n",
    "- **Las zonas de demanda** mediante $j$.  \n",
    "\n",
    "Así, cualquier variable o parámetro del problema estará indexado por estos conjuntos. Por ejemplo:  \n",
    "- $f_{1i}, f_{2i}$ representan los costos fijos anuales en cada sitio $i$.  \n",
    "- $d_j$ representa la demanda en la zona $j$.  \n",
    "- $c_{ij}$ representa el costo de producción y transporte de $i$ a $j$."
   ]
  },
  {
   "cell_type": "markdown",
   "metadata": {},
   "source": []
  }
 ],
 "metadata": {
  "language_info": {
   "name": "python"
  }
 },
 "nbformat": 4,
 "nbformat_minor": 2
}
