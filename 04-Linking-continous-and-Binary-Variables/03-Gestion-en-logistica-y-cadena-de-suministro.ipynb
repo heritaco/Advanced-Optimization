{
 "cells": [
  {
   "cell_type": "markdown",
   "metadata": {},
   "source": [
    "<div style=\"position: relative; text-align: center; padding: 30px;\">\n",
    "  <h1><strong>Gestión en Logística y Cadena de Suministro</strong></h1>\n",
    "  <h3><strong>Ejercicio 3</strong></h3>\n",
    "</div>"
   ]
  },
  {
   "cell_type": "code",
   "execution_count": null,
   "metadata": {},
   "outputs": [
    {
     "data": {
      "text/plain": [
       "<ortools.linear_solver.pywraplp.Constraint; proxy of <Swig Object of type 'operations_research::MPConstraint *' at 0x000001DA3F37DD70> >"
      ]
     },
     "metadata": {},
     "output_type": "display_data"
    }
   ],
   "source": [
    "# Restricción 1: Cada curso debe programarse exactamente una vez\n",
    "for i in C: # Cursos\n",
    "    solver.Add(sum(x[i, d, p] for d in D for p in P) == 1) # Cada curso debe programarse exactamente una vez en un día y periodo\n",
    "\n",
    "# Restricción 2: Cursos incompatibles no pueden programarse al mismo tiempo\n",
    "for (i, j) in I: # Cursos incompatibles\n",
    "    for d in D: # Días\n",
    "        for p in P: # Periodos\n",
    "            solver.Add(x[i, d, p] + x[j, d, p] <= 1) # Cursos incompatibles no pueden programarse al mismo tiempo\n",
    "\n",
    "# Restricción 3: Si un periodo de un día se usa, z[d] = 1\n",
    "for d in D: # Días \n",
    "    solver.Add(sum(x[i, d, p] for i in C for p in P) <= len(C) * z[d]) # Si un periodo de un día se usa, z[d] = 1 \n",
    "\n",
    "# Restricción 4: Relación entre y y los días utilizados\n",
    "solver.Add(y >= sum(z[d] for d in D)) # Número mínimo de días necesarios "
   ]
  },
  {
   "cell_type": "markdown",
   "metadata": {},
   "source": [
    "Una vez que se inicia un trabajo en cualquier máquina, debe procesarse hasta su finalización. El objetivo es minimizar la suma de los tiempos de finalización de todos los trabajos. Los datos que especifican una instancia del problema son $m$, $n$ y $p_{ij}$ para $j = 1, \\dots, n$ y $i = 1, \\dots, m$, que es el tiempo de procesamiento del trabajo $j$ en la máquina $i$, y el orden de procesamiento en las $m$ máquinas, $j(1), \\dots, j(m)$, para el trabajo $j$, $j = 1, \\dots, n$.  Formule el problema.\n"
   ]
  }
 ],
 "metadata": {
  "language_info": {
   "name": "python"
  }
 },
 "nbformat": 4,
 "nbformat_minor": 2
}
