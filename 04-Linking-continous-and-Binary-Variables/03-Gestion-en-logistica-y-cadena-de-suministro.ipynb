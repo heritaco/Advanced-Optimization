{
 "cells": [
  {
   "cell_type": "markdown",
   "metadata": {},
   "source": [
    "<div style=\"position: relative; text-align: center; padding: 30px;\">\n",
    "  <h1><strong>Gestión en Logística y Cadena de Suministro</strong></h1>\n",
    "  <h3><strong>Ejercicio 3</strong></h3>\n",
    "</div>"
   ]
  },
  {
   "cell_type": "markdown",
   "metadata": {},
   "source": [
    "Una vez que se inicia un trabajo en cualquier máquina, debe procesarse hasta su finalización. El objetivo es minimizar la suma de los tiempos de finalización de todos los trabajos. Los datos que especifican una instancia del problema son $m$, $n$ y $p_{ij}$ para $j = 1, \\dots, n$ y $i = 1, \\dots, m$, que es el tiempo de procesamiento del trabajo $j$ en la máquina $i$, y el orden de procesamiento en las $m$ máquinas, $j(1), \\dots, j(m)$, para el trabajo $j$, $j = 1, \\dots, n$.  Formule el problema.\n"
   ]
  }
 ],
 "metadata": {
  "language_info": {
   "name": "python"
  }
 },
 "nbformat": 4,
 "nbformat_minor": 2
}
