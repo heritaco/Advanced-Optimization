{
 "cells": [
  {
   "cell_type": "markdown",
   "metadata": {},
   "source": [
    "<div style=\"position: relative; text-align: center; padding: 30px;\">\n",
    "  <h1><strong>Gestión en Logística y Cadena de Suministro</strong></h1>\n",
    "  <h3><strong>Ejercicio 1</strong></h3>\n",
    "</div>"
   ]
  },
  {
   "cell_type": "markdown",
   "metadata": {},
   "source": [
    "Un fabricante de juguetes está planeando producir $n$ nuevos modelos de juguetes en sus $m$ plantas productivas, debido a que con los modelos que se fabrican actualmente no se está utilizando toda la capacidad de las líneas de ensamblaje de sus plantas. Suponga que $b_i$ denota la capacidad productiva disponible en la planta $i$ para la fabricación de los nuevos modelos, expresada en horas. Adicionalmente, sean $f_j$ el costo fijo en el que incurre cada una de las plantas si decide fabricar el modelo $j$, $t_{ij}$ la tasa de producción (en unidades por hora) del modelo de juguete $j$ en la planta $i$, $p_j$ el precio de venta del modelo de juguete $j$, y $c_{ij}$ el costo variable de producción del modelo de juguete $j$ en la planta $i$."
   ]
  },
  {
   "cell_type": "markdown",
   "metadata": {},
   "source": [
    "Se requiere determinar lo siguiente:\n",
    "\n",
    "- Modelos nuevos de juguetes a fabricar.\n",
    "- Cantidad a producir de cada modelo nuevo de juguete en cada una de las plantas."
   ]
  },
  {
   "cell_type": "code",
   "execution_count": 12,
   "metadata": {},
   "outputs": [],
   "source": [
    "from ortools.linear_solver import pywraplp"
   ]
  },
  {
   "cell_type": "code",
   "execution_count": 13,
   "metadata": {},
   "outputs": [],
   "source": [
    "# Crear solver\n",
    "solver = pywraplp.Solver.CreateSolver('SCIP')"
   ]
  },
  {
   "cell_type": "markdown",
   "metadata": {},
   "source": [
    "### **Conjunto de Índices**"
   ]
  },
  {
   "cell_type": "markdown",
   "metadata": {},
   "source": [
    "-  $n$: Número de nuevos modelos de juguetes a producir.\n",
    "-  $m$: Número de plantas productivas disponibles.\n",
    "-  $b_i$: Capacidad productiva disponible en la planta $i$, expresada en horas.\n",
    "-  $f_j$: Costo fijo en el que incurre cada planta si decide fabricar el modelo $j$.\n",
    "-  $t_{ij}$: Tasa de producción (en unidades por hora) del modelo de juguete $j$ en la planta $i$.\n",
    "-  $p_j$: Precio de venta del modelo de juguete $j$.\n",
    "-  $c_{ij}$: Costo variable de producción del modelo de juguete $j$ en la planta $i$."
   ]
  },
  {
   "cell_type": "markdown",
   "metadata": {},
   "source": [
    "### **Parámetros**"
   ]
  },
  {
   "cell_type": "code",
   "execution_count": 14,
   "metadata": {},
   "outputs": [],
   "source": [
    "n = 5\n",
    "m = 4\n",
    "b = [1737, 2646, 2690, 1253]\n",
    "f = [42000, 100000, 35000, 31000, 23000]\n",
    "t = [\n",
    "    [165, 163, 188, 145, 170],\n",
    "    [91, 83, 146, 190, 191],\n",
    "    [151, 175, 163, 147, 77],\n",
    "    [84, 188, 122, 180, 107]\n",
    "]\n",
    "p = [56, 58, 45, 40, 38]\n",
    "c = [\n",
    "    [15, 17, 10, 7, 4],\n",
    "    [10, 19, 7,  6, 4],\n",
    "    [13, 15, 8,  7, 7],\n",
    "    [11, 15, 10, 8, 7]\n",
    "]"
   ]
  },
  {
   "cell_type": "markdown",
   "metadata": {},
   "source": [
    "### **Variables de decisión**"
   ]
  },
  {
   "cell_type": "markdown",
   "metadata": {},
   "source": [
    "$$\n",
    "\\text{Para}\\quad i=1,...,m; \\quad j=1,...,n: \n",
    "$$\n",
    "\n",
    "$$\n",
    "x_{ij} = \\text{Unidades a producir del modelo $j$ en la planta $i$}"
   ]
  },
  {
   "cell_type": "code",
   "execution_count": 15,
   "metadata": {},
   "outputs": [],
   "source": [
    "x = {} # x[i,j] = cantidad de producto i que se produce en la planta j\n",
    "for i in range(m): # plantas\n",
    "    for j in range(n): # productos\n",
    "        x[(i, j)] = solver.IntVar(0, solver.infinity(), f'x[{i},{j}]') # intvar porque es la cantidad de productos"
   ]
  },
  {
   "cell_type": "markdown",
   "metadata": {},
   "source": [
    "\n",
    "$$y_{ij} = \\begin{cases} \n",
    "1, & \\text{si se produce el modelo j en la planta i} \\\\\n",
    "0, & \\text{en otro caso}\n",
    "\\end{cases} \n",
    "$$"
   ]
  },
  {
   "cell_type": "code",
   "execution_count": 16,
   "metadata": {},
   "outputs": [],
   "source": [
    "y = {} # y[i,j] = 1 si la planta j produce el producto i, 0 en otro caso\n",
    "for i in range(m): # plantas\n",
    "    for j in range(n): # productos\n",
    "        y[(i, j)] = solver.BoolVar(f'y[{i},{j}]')"
   ]
  },
  {
   "cell_type": "markdown",
   "metadata": {},
   "source": [
    "### **Función objetivo**"
   ]
  },
  {
   "cell_type": "markdown",
   "metadata": {},
   "source": [
    "Objetivo: Maximizar el beneficio = ingresos - costos"
   ]
  },
  {
   "cell_type": "markdown",
   "metadata": {},
   "source": [
    "$$\n",
    "\\max \\sum_{j=1}^{n} p_j \\left( \\sum_{i=1}^{m} x_{ij} \\right) - \\left( \\sum_{j=1}^{n} f_j \\left( \\sum_{i=1}^{m} y_{ij} \\right) + \\sum_{j=1}^{n} \\sum_{i=1}^{m} c_j \\cdot x_{ij} \\right)\n",
    "$$"
   ]
  },
  {
   "cell_type": "code",
   "execution_count": 17,
   "metadata": {},
   "outputs": [],
   "source": [
    "beneficio = solver.Objective()\n",
    "\n",
    "beneficio = (\n",
    "    sum(p[j] * x[(i, j)] for i in range(m) for j in range(n)) # Ingresos\n",
    "    - (sum(f[j] * y[(i, j)] for i in range(m) for j in range(n)) # Costos fijos\n",
    "    + sum(c[i][j] * x[(i, j)] for i in range(m) for j in range(n))) # Costos variables\n",
    ")\n",
    "\n",
    "\n",
    "solver.Maximize(beneficio)"
   ]
  },
  {
   "cell_type": "markdown",
   "metadata": {},
   "source": [
    "### **Restricciones**"
   ]
  },
  {
   "cell_type": "markdown",
   "metadata": {},
   "source": [
    "Tenemos que sumar sobre los modelos. Me voy a gastar las horas que hago fabricando juguetes. "
   ]
  },
  {
   "cell_type": "markdown",
   "metadata": {},
   "source": [
    "$$\n",
    "\\begin{aligned}\n",
    "\\sum_{i=1}^{n} \\frac{1}{t_{ij}} x_{ij} &\\leq b_i \\\\\n",
    "x_{ij} &\\in \\mathbb{Z}_+ \\\\\n",
    "y_{ij} &\\in \\{0,1\\} \n",
    "\\end{aligned}\n",
    "$$"
   ]
  },
  {
   "cell_type": "markdown",
   "metadata": {},
   "source": [
    "Es $\\frac{1}{t_{ij}} x_{ij}$ porque las unidades estan por hora"
   ]
  },
  {
   "cell_type": "markdown",
   "metadata": {},
   "source": [
    "nos falta la regla!"
   ]
  },
  {
   "cell_type": "markdown",
   "metadata": {},
   "source": [
    "$$\n",
    "x \\leq M \\delta\n",
    "$$\n",
    "\n",
    "$$\n",
    "x_{ij} \\leq b_i \\cdot t_{ij} \\cdot y_{ij} \n",
    "$$\n",
    "\n",
    "El modelo j en la planta i tiene que valer"
   ]
  },
  {
   "cell_type": "markdown",
   "metadata": {},
   "source": [
    "Entonces las restricciones nos quedan de la siguiente manera:"
   ]
  },
  {
   "cell_type": "markdown",
   "metadata": {},
   "source": [
    "$$\n",
    "\\begin{aligned}\n",
    "\\sum_{i=1}^{n} \\frac{1}{t_{ij}} x_{ij} &\\leq b_i \\\\\n",
    "x_{ij} &\\leq b_i \\cdot t_{ij} \\cdot y_{ij} \\\\\n",
    "x_{ij} &\\in \\mathbb{Z}_+ \\\\\n",
    "y_{ij} &\\in \\{0,1\\} \n",
    "\\end{aligned}\n",
    "$$"
   ]
  },
  {
   "cell_type": "markdown",
   "metadata": {},
   "source": [
    "$$\n",
    "\\begin{aligned}\n",
    "\\sum_{i=1}^{n} \\frac{1}{t_{ij}} x_{ij} &\\leq b_i \\\\\n",
    "\\end{aligned}\n",
    "$$"
   ]
  },
  {
   "cell_type": "code",
   "execution_count": 18,
   "metadata": {},
   "outputs": [],
   "source": [
    "for i in range(m):\n",
    "    solver.Add(solver.Sum(x[(i, j)] / t[i][j] for j in range(n)) <= b[i])"
   ]
  },
  {
   "cell_type": "markdown",
   "metadata": {},
   "source": [
    "$$\n",
    "\\begin{aligned}\n",
    "x_{ij} &\\leq b_i \\cdot t_{ij} \\cdot y_{ij} \\\\\n",
    "\\end{aligned}\n",
    "$$"
   ]
  },
  {
   "cell_type": "code",
   "execution_count": 19,
   "metadata": {},
   "outputs": [],
   "source": [
    "for j in range(n):\n",
    "    for j in range(n):\n",
    "        solver.Add(x[(i, j)] <= b[i] * t[i][j] * y[(i, j)])"
   ]
  },
  {
   "cell_type": "markdown",
   "metadata": {},
   "source": [
    "Las otras 2 ya están cuando declaramos las variables."
   ]
  },
  {
   "cell_type": "markdown",
   "metadata": {},
   "source": [
    "### **Resolver**"
   ]
  },
  {
   "cell_type": "code",
   "execution_count": 20,
   "metadata": {},
   "outputs": [
    {
     "data": {
      "text/plain": [
       "0"
      ]
     },
     "execution_count": 20,
     "metadata": {},
     "output_type": "execute_result"
    }
   ],
   "source": [
    "solver.Solve()"
   ]
  },
  {
   "cell_type": "code",
   "execution_count": 21,
   "metadata": {},
   "outputs": [
    {
     "name": "stdout",
     "output_type": "stream",
     "text": [
      "Beneficio máximo = 59205431.0\n"
     ]
    }
   ],
   "source": [
    "print(\"Beneficio máximo =\", solver.Objective().Value())"
   ]
  },
  {
   "cell_type": "code",
   "execution_count": 23,
   "metadata": {},
   "outputs": [
    {
     "name": "stdout",
     "output_type": "stream",
     "text": [
      "Cantidades a producir por planta y modelo:\n",
      "Planta 0, Modelo 0: 286605.0\n",
      "Planta 1, Modelo 4: 505386.0\n",
      "Planta 2, Modelo 1: 470750.0\n",
      "Planta 3, Modelo 1: 235564.0\n"
     ]
    }
   ],
   "source": [
    "print(\"Cantidades a producir por planta y modelo:\")\n",
    "for i in range(m):\n",
    "    for j in range(n):\n",
    "        if x[(i, j)].solution_value() > 0:\n",
    "            print(f\"Planta {i}, Modelo {j}: {x[(i, j)].solution_value()}\")"
   ]
  }
 ],
 "metadata": {
  "kernelspec": {
   "display_name": "Python 3",
   "language": "python",
   "name": "python3"
  },
  "language_info": {
   "codemirror_mode": {
    "name": "ipython",
    "version": 3
   },
   "file_extension": ".py",
   "mimetype": "text/x-python",
   "name": "python",
   "nbconvert_exporter": "python",
   "pygments_lexer": "ipython3",
   "version": "3.12.1"
  }
 },
 "nbformat": 4,
 "nbformat_minor": 2
}
