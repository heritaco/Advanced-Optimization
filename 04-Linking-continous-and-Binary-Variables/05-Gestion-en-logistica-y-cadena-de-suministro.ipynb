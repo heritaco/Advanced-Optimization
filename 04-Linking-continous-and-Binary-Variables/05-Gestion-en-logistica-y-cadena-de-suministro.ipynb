{
 "cells": [
  {
   "cell_type": "markdown",
   "metadata": {},
   "source": [
    "<div style=\"position: relative; text-align: center; padding: 30px;\">\n",
    "  <h1><strong>TSP</strong></h1>\n",
    "  <h3><strong>Ejercicio 5</strong></h3>\n",
    "</div>"
   ]
  },
  {
   "cell_type": "markdown",
   "metadata": {},
   "source": [
    "Implementar el modelo MTZ o el modelo de flujo en redes (o ambos) para el problema del TSP vistos en clase con la siguiente instancia del problema:"
   ]
  },
  {
   "cell_type": "code",
   "execution_count": 25,
   "metadata": {},
   "outputs": [],
   "source": [
    "from ortools.linear_solver import pywraplp"
   ]
  },
  {
   "cell_type": "code",
   "execution_count": 26,
   "metadata": {},
   "outputs": [],
   "source": [
    "solver = pywraplp.Solver.CreateSolver('SCIP')"
   ]
  },
  {
   "cell_type": "markdown",
   "metadata": {},
   "source": [
    "### **Conjunto de índices**"
   ]
  },
  {
   "cell_type": "markdown",
   "metadata": {},
   "source": [
    "Modelo del TSP con variables de flujo:  \n",
    "Sean $x_{ij} = 1$, $i, j \\in N : i \\neq j$ las variables de decisión que indican que se visita la ciudad $j$ inmediatamente después de la ciudad $i$ y $x_{ij} = 0$ en otro caso. Asimismo, sean $y_{ij} \\geq 0$, $i, j \\in N : i \\neq j$ las variables de decisión que denotan el flujo de la ciudad $i$ a la ciudad $j$. Se considera el parámetro $b_i$, $i \\in N$, con $b_1 = n - 1$ y $b_i = -1$, $i = 2, \\ldots, n$."
   ]
  },
  {
   "cell_type": "markdown",
   "metadata": {},
   "source": [
    "### **Parámetros**"
   ]
  },
  {
   "cell_type": "code",
   "execution_count": 27,
   "metadata": {},
   "outputs": [],
   "source": [
    "# Define the distance matrix\n",
    "tij = [\n",
    "    [0, 26, 82, 65, 100, 145, 100],\n",
    "    [66, 0, 56, 39, 109, 156, 80],\n",
    "    [43, 57, 0, 16, 53, 100, 128],\n",
    "    [27, 41, 62, 0, 97, 144, 37],\n",
    "    [109, 135, 161, 174, 0, 47, 41],\n",
    "    [157, 161, 114, 130, 60, 0, 23],\n",
    "    [30, 101, 123, 89, 75, 105, 0]\n",
    "]\n",
    "\n",
    "n = len(tij)"
   ]
  },
  {
   "cell_type": "markdown",
   "metadata": {},
   "source": [
    "### **Variables de decisión**"
   ]
  },
  {
   "cell_type": "code",
   "execution_count": 28,
   "metadata": {},
   "outputs": [],
   "source": [
    "# Decision variables\n",
    "x = {}\n",
    "y = {}\n",
    "for i in range(n):\n",
    "    for j in range(n):\n",
    "        if i != j:\n",
    "            x[i, j] = solver.BoolVar(f'x[{i},{j}]')\n",
    "            y[i, j] = solver.NumVar(0, solver.infinity(), f'y[{i},{j}]')"
   ]
  },
  {
   "cell_type": "markdown",
   "metadata": {},
   "source": [
    "### **Función objetivo**"
   ]
  },
  {
   "cell_type": "markdown",
   "metadata": {},
   "source": [
    "$$ \\min \\sum_{i \\in N} \\sum_{j \\in N : i \\neq j} t_{ij} x_{ij} $$"
   ]
  },
  {
   "cell_type": "code",
   "execution_count": 29,
   "metadata": {},
   "outputs": [],
   "source": [
    "camino = solver.Objective()\n",
    "\n",
    "camino = sum(tij[i][j] * x[i, j] for i in range(n) for j in range(n) if i != j)\n",
    "\n",
    "solver.Minimize(camino)"
   ]
  },
  {
   "cell_type": "markdown",
   "metadata": {},
   "source": [
    "### **Restricciones**"
   ]
  },
  {
   "cell_type": "markdown",
   "metadata": {},
   "source": [
    "$$ \\sum_{j \\in N : i \\neq j} x_{ij} = 1 \\quad \\forall i \\in N $$\n",
    "$$ \\sum_{i \\in N : i \\neq j} x_{ij} = 1 \\quad \\forall j \\in N $$\n",
    "$$ \\sum_{j \\in N : i \\neq j} y_{ij} - \\sum_{j \\in N : i \\neq j} y_{ji} = b_i \\quad \\forall i \\in N $$\n",
    "$$ y_{ij} \\leq (n - 1) x_{ij} \\quad \\forall i, j \\in N : i \\neq j $$\n",
    "$$ y_{ij} \\geq 0 \\quad \\forall i, j \\in N : i \\neq j $$\n",
    "$$ x_{ij} \\in \\{0, 1\\} \\quad \\forall i, j \\in N : i \\neq j $$"
   ]
  },
  {
   "cell_type": "code",
   "execution_count": 30,
   "metadata": {},
   "outputs": [],
   "source": [
    "for i in range(n):\n",
    "    solver.Add(solver.Sum(x[i, j] for j in range(n) if i != j) == 1)\n",
    "\n",
    "for j in range(n):\n",
    "    solver.Add(solver.Sum(x[i, j] for i in range(n) if i != j) == 1)\n",
    "\n",
    "b = [n - 1] + [-1] * (n - 1) # b = [n - 1, -1, -1, ..., -1]\n",
    "for i in range(n):\n",
    "    solver.Add(solver.Sum(y[i, j] for j in range(n) if i != j) - solver.Sum(y[j, i] for j in range(n) if i != j) == b[i])\n",
    "\n",
    "for i in range(n):\n",
    "    for j in range(n):\n",
    "        if i != j:\n",
    "            solver.Add(y[i, j] <= (n - 1) * x[i, j])"
   ]
  },
  {
   "cell_type": "markdown",
   "metadata": {},
   "source": [
    "### **Resolver**"
   ]
  },
  {
   "cell_type": "code",
   "execution_count": 31,
   "metadata": {},
   "outputs": [
    {
     "data": {
      "text/plain": [
       "0"
      ]
     },
     "execution_count": 31,
     "metadata": {},
     "output_type": "execute_result"
    }
   ],
   "source": [
    "solver.Solve()"
   ]
  },
  {
   "cell_type": "code",
   "execution_count": 32,
   "metadata": {},
   "outputs": [
    {
     "name": "stdout",
     "output_type": "stream",
     "text": [
      "Objective value = 280.0\n",
      "City 0 -> City 1\n",
      "City 1 -> City 3\n",
      "City 2 -> City 4\n",
      "City 3 -> City 2\n",
      "City 4 -> City 5\n",
      "City 5 -> City 6\n",
      "City 6 -> City 0\n"
     ]
    }
   ],
   "source": [
    "print('Objective value =', solver.Objective().Value())\n",
    "for i in range(n):\n",
    "    for j in range(n):\n",
    "        if i != j and x[i, j].solution_value() > 0.5:\n",
    "            print(f'City {i} -> City {j}')"
   ]
  }
 ],
 "metadata": {
  "kernelspec": {
   "display_name": "Python 3",
   "language": "python",
   "name": "python3"
  },
  "language_info": {
   "codemirror_mode": {
    "name": "ipython",
    "version": 3
   },
   "file_extension": ".py",
   "mimetype": "text/x-python",
   "name": "python",
   "nbconvert_exporter": "python",
   "pygments_lexer": "ipython3",
   "version": "3.12.1"
  }
 },
 "nbformat": 4,
 "nbformat_minor": 2
}
