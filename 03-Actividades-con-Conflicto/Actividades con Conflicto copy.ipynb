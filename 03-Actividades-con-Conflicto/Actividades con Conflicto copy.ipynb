{
 "cells": [
  {
   "cell_type": "markdown",
   "metadata": {},
   "source": [
    "<div style=\"text-align: center; padding: 30px\">\n",
    "  <h1><strong>Actividades con Conflicto</strong></h1>\n",
    "  <h3><strong>Ejercicio 0</strong></h3>\n",
    "</div>"
   ]
  },
  {
   "cell_type": "markdown",
   "metadata": {},
   "source": [
    "El departamento de una universidad debe hacer la programación de los exámenes finales de los cursos que imparte dicho departamento. Cada examen tiene una duración de dos horas. Se necesita determinar el número de días necesario para la realización de dichos exámenes en los siguientes periodos de tiempo: 8:00 a 10:00, 10:15 a 12:15, 14:00 a 16:00 y 16:15 a 18:15, que dan como resultado cuatro periodos de dos horas por día, que deben servir para programar los exámenes de los cursos en distintos salones de clase. Para cada uno de los cursos, se proporciona una lista de los cursos que son incompatibles (ver Tabla 1), es decir, cursos que no se pueden programar al mismo tiempo, porque ambos están siendo por cursados por uno o varios de los estudiantes. Se requiere formular el problema para determinar el número mínimo de días necesarios para la realización de los exámenes de los 11 cursos. "
   ]
  },
  {
   "cell_type": "code",
   "execution_count": 60,
   "metadata": {},
   "outputs": [],
   "source": [
    "from ortools.linear_solver import pywraplp"
   ]
  },
  {
   "cell_type": "markdown",
   "metadata": {},
   "source": [
    "### **Uso de Python y el Solver SCIP**"
   ]
  },
  {
   "cell_type": "markdown",
   "metadata": {},
   "source": [
    "\n",
    "\n",
    "En Python, utilizamos el solver `SCIP` para definir y resolver este problema. Para declarar variables binarias, se utiliza el método:\n",
    "\n",
    "```python\n",
    "solver.BoolVar(name)\n",
    "```"
   ]
  },
  {
   "cell_type": "code",
   "execution_count": 61,
   "metadata": {},
   "outputs": [],
   "source": [
    "solver = pywraplp.Solver.CreateSolver('SCIP')"
   ]
  },
  {
   "cell_type": "markdown",
   "metadata": {},
   "source": [
    "### **Conjuntos de Índices**"
   ]
  },
  {
   "cell_type": "markdown",
   "metadata": {},
   "source": [
    "- **C**: Conjunto de cursos, $C = \\{1, 2, \\dots, 11\\}$\n",
    "- **P**: Conjunto de periodos, $P = \\{1, 2, \\dots, 11\\}$\n",
    "- **I**: Conjunto de pares $(i, j)$ tales que $i, j \\in C$ y están en conflicto.\n",
    "- Para cada $i \\in C$, **$I_i$**: Conjunto de cursos incompatibles con $i$.  \n",
    "    Ejemplo: $I_1 = \\{2, 5, 7, 10, 11\\}$"
   ]
  },
  {
   "cell_type": "code",
   "execution_count": 62,
   "metadata": {},
   "outputs": [],
   "source": [
    "# Conjuntos\n",
    "C = set(range(1, 12))  # Cursos {1, 2, ..., 11}\n",
    "P = set(range(1, 5))   # Periodos {1, 2, 3, 4}\n",
    "D = set(range(1, 12))  # Días (máximo 11 días posibles)\n",
    "\n",
    "# Incompatibilidades (ejemplo: curso 1 es incompatible con cursos 2, 5, 7, 10 y 11)\n",
    "I = [(1, 2), (1, 5), (1, 7), (1, 10), (1, 11),\n",
    "     (2, 1), (2, 5), (2, 7), (2, 10), (2, 11),\n",
    "     (4, 3), (4, 5), (4, 6), (4, 7), (4, 10), (4, 11),\n",
    "     (3, 4), (3, 5), (3, 6), (3, 7), (3, 9), (3, 10), (3, 11),\n",
    "     (5, 1), (5, 2), (5, 3), (5, 4), (5, 6), (5, 7), (5, 8), (5, 9), (5, 10), (5, 11),\n",
    "     (6, 3), (6, 4), (6, 5), (6, 7), (6, 9), (6, 10), (6, 11),\n",
    "     (7, 1), (7, 2), (7, 3), (7, 4), (7, 5), (7, 6), (7, 8), (7, 9), (7, 10), (7, 11),\n",
    "     (8, 5), (8, 7), (8, 10), (8, 11),\n",
    "     (9, 3), (9, 5), (9, 6), (9, 7), (9, 10), (9, 11),\n",
    "     (10, 1), (10, 2), (10, 3), (10, 4), (10, 5), (10, 6), (10, 7), (10, 8), (10, 9), (10, 11),\n",
    "     (11, 1), (11, 2), (11, 3), (11, 4), (11, 5), (11, 6), (11, 7), (11, 8), (11, 9), (11, 10) \n",
    "     ]"
   ]
  },
  {
   "cell_type": "markdown",
   "metadata": {},
   "source": [
    "### **Parámetros**"
   ]
  },
  {
   "cell_type": "markdown",
   "metadata": {},
   "source": [
    "\n",
    "\n",
    "Los parámetros capturan la información del problema, que en este caso se refiere a los cursos en conflicto. Esto puede representarse de la siguiente manera:\n",
    "\n",
    "```math\n",
    "\\forall i, j \\in C: \n",
    "a_{i,j} = \n",
    "\\begin{cases} \n",
    "1 & \\text{si } i \\text{ y } j \\text{ están en conflicto}, \\\\ \n",
    "0 & \\text{en otro caso}.\n",
    "\\end{cases}\n",
    "```"
   ]
  },
  {
   "cell_type": "markdown",
   "metadata": {},
   "source": [
    "### **Variables de Decisión**"
   ]
  },
  {
   "cell_type": "markdown",
   "metadata": {},
   "source": [
    "\n",
    "\n",
    "Las variables de decisión están relacionadas con la respuesta al problema: determinar en qué periodo se programa el examen de cada curso. \n",
    "\n",
    "- Para cada $i \\in C$ y $j \\in P$: \n",
    "    ```math\n",
    "    x_{i,j} = \n",
    "    \\begin{cases} \n",
    "    1 & \\text{si el examen del curso } i \\text{ se asigna al periodo } j, \\\\ \n",
    "    0 & \\text{en otro caso}.\n",
    "    \\end{cases}\n",
    "    ```\n",
    "\n",
    "- Sea **$y$**: el número mínimo de días necesarios para programar los exámenes.\n",
    "\n",
    "- Para cada $k \\in P$: \n",
    "    ```math\n",
    "    z_k = \n",
    "    \\begin{cases} \n",
    "    1 & \\text{si se utiliza el periodo } k, \\\\ \n",
    "    0 & \\text{en otro caso}.\n",
    "    \\end{cases}\n",
    "    ```"
   ]
  },
  {
   "cell_type": "markdown",
   "metadata": {},
   "source": [
    "\n",
    "\n",
    "$$\n",
    "\\begin{aligned}\n",
    "x_{i,j} &= \n",
    "\\begin{cases} \n",
    "1 & \\text{si el examen del curso $i$ se asigna al periodo $j; \\quad \\forall i \\in C, \\forall j \\in P$} \\\\ \n",
    "0 & \\text{en otro caso}.\n",
    "\\end{cases} \\\\\n",
    "\n",
    "y &= \\text{ el número mínimo de días necesarios para programar los exámenes. }\n",
    "\\\\\n",
    "\n",
    "z_k &= \n",
    "\\begin{cases} \n",
    "1 & \\text{si se utiliza el periodo $k; \\quad \\forall k \\in P$} \\\\ \n",
    "0 & \\text{en otro caso}.\n",
    "\\end{cases}\n",
    "\n",
    "\\end{aligned} \n",
    "$$\n"
   ]
  },
  {
   "cell_type": "code",
   "execution_count": 63,
   "metadata": {},
   "outputs": [],
   "source": [
    "# Variables de decisión\n",
    "x = {}  # x[i, d, p] = 1 si el curso i se programa el día d en el periodo p\n",
    "for i in C: # Cursos\n",
    "    for d in D: # Días\n",
    "        for p in P: # Periodos\n",
    "            x[i, d, p] = solver.BoolVar(f'x[{i},{d},{p}]') # Variable binaria (0, 1) para indicar si el curso i se programa el día d en el periodo p\n",
    "\n",
    "z = {}  # z[d] = 1 si se utiliza el día d\n",
    "for d in D: # Días\n",
    "    z[d] = solver.BoolVar(f'z[{d}]') # Variable binaria (0, 1) para indicar si se utiliza el día d \n",
    "\n",
    "#Chat: y = solver.IntVar(0, solver.infinity(), 'y')  # Número mínimo de días necesarios"
   ]
  },
  {
   "cell_type": "code",
   "execution_count": 64,
   "metadata": {},
   "outputs": [],
   "source": [
    "# Definir y como la suma de las variables z (días utilizados)\n",
    "y_vars = [solver.BoolVar(f'y[{d}]') for d in D]\n",
    "\n",
    "# Restricciones de incompatibilidad\n",
    "y = solver.Sum(y_vars)"
   ]
  },
  {
   "cell_type": "markdown",
   "metadata": {},
   "source": [
    "### **Función Objetivo**"
   ]
  },
  {
   "cell_type": "markdown",
   "metadata": {},
   "source": [
    "\n",
    "\n",
    "El objetivo es minimizar el número mínimo de días necesarios para programar los exámenes, representado por la variable **$y$**:\n",
    "\n",
    "```math\n",
    "\\min y\n",
    "```"
   ]
  },
  {
   "cell_type": "code",
   "execution_count": 65,
   "metadata": {},
   "outputs": [],
   "source": [
    "# Función objetivo: minimizar y\n",
    "solver.Minimize(y)"
   ]
  },
  {
   "cell_type": "markdown",
   "metadata": {},
   "source": [
    "### **Restricciones**"
   ]
  },
  {
   "cell_type": "markdown",
   "metadata": {},
   "source": [
    "\n",
    "\n",
    "De manera similar, planteamos nuestras restricciones: se tienen que cumplir las demandas exactas de cada ciudad, sólo se puede transportar a lo máximo la demanda total y la cantidad transportada no puede ser negativa. Todo esto para asegurarnos de que nuestra función objetivo nos dé una solución factible.\n",
    "\n",
    "- **$y \\geq \\frac{\\sum z_k}{4}$**   (El número mínimo de días está relacionado con los periodos requeridos)\n",
    "\n",
    "- **$\\sum x_{i,j}$**  \n",
    "  (Se debe garantizar que se asignen los cursos de forma adecuada)\n",
    "\n",
    "- **$x_{i,k} + x_{j,j} \\leq z_k, \\quad \\forall i \\in C$**  \n",
    "  (Relación entre los cursos asignados y los periodos utilizados)\n",
    "\n",
    "- **$z_{k+1} \\leq z_k, \\quad \\forall k \\in P, \\, k = 1, \\dots, |P|-1$**  \n",
    "  (La asignación de periodos debe ser consecutiva)\n",
    "\n",
    "- **$y \\in \\mathbb{Z}^+$**  \n",
    "  (El número mínimo de días debe ser un entero positivo)\n",
    "\n",
    "- **$x_{i,j} \\in \\{0,1\\}, \\quad \\forall i \\in C, \\, j \\in P$**  \n",
    "  (Asignación binaria de cursos a periodos)\n",
    "\n",
    "- **$z_k \\in \\{0,1\\}, \\quad \\forall k \\in P$**  \n",
    "  (Uso binario de periodos)"
   ]
  },
  {
   "cell_type": "markdown",
   "metadata": {},
   "source": [
    "\n",
    "$$\n",
    "\\begin{aligned}\n",
    "\\sum_{d \\in D} \\sum_{p \\in P} x_{i, d, p} & = 1 \\quad \\forall i \\in C \\\\\n",
    "x_{i, d, p} + x_{j, d, p} & \\leq 1 \\quad \\forall (i, j) \\in I, \\, \\forall d \\in D, \\, \\forall p \\in P\\\\\n",
    "\\sum_{i \\in C} \\sum_{p \\in P} x_{i, d, p} & \\leq |C| \\cdot z_d \\quad \\forall d \\in D \\\\\n",
    "y & \\geq \\sum_{d \\in D} z_d\n",
    "\\end{aligned}\n",
    "$$"
   ]
  },
  {
   "cell_type": "code",
   "execution_count": 66,
   "metadata": {},
   "outputs": [
    {
     "data": {
      "text/plain": [
       "<ortools.linear_solver.pywraplp.Constraint; proxy of <Swig Object of type 'operations_research::MPConstraint *' at 0x000001AEE4B77780> >"
      ]
     },
     "execution_count": 11,
     "metadata": {},
     "output_type": "execute_result"
    }
   ],
   "source": [
    "# Restricción 1: Cada curso debe programarse exactamente una vez\n",
    "for i in C: # Cursos\n",
    "    solver.Add(sum(x[i, d, p] for d in D for p in P) == 1) # Cada curso debe programarse exactamente una vez en un día y periodo\n",
    "\n",
    "# Restricción 2: Cursos incompatibles no pueden programarse al mismo tiempo\n",
    "for (i, j) in I: # Cursos incompatibles\n",
    "    for d in D: # Días\n",
    "        for p in P: # Periodos\n",
    "            solver.Add(x[i, d, p] + x[j, d, p] <= 1) # Cursos incompatibles no pueden programarse al mismo tiempo\n",
    "\n",
    "# Restricción 3: Si un periodo de un día se usa, z[d] = 1\n",
    "for d in D: # Días \n",
    "    solver.Add(sum(x[i, d, p] for i in C for p in P) <= len(C) * z[d]) # Si un periodo de un día se usa, z[d] = 1 \n",
    "\n",
    "# Restricción 4: Relación entre y y los días utilizados\n",
    "solver.Add(y >= sum(z[d] for d in D)) # Número mínimo de días necesarios "
   ]
  },
  {
   "cell_type": "code",
   "execution_count": 67,
   "metadata": {},
   "outputs": [
    {
     "data": {
      "text/plain": [
       "0"
      ]
     },
     "execution_count": 8,
     "metadata": {},
     "output_type": "execute_result"
    }
   ],
   "source": [
    "# Resolviendo el problema\n",
    "solver.Solve() "
   ]
  },
  {
   "cell_type": "code",
   "execution_count": 68,
   "metadata": {},
   "outputs": [
    {
     "name": "stdout",
     "output_type": "stream",
     "text": [
      "Solución Óptima:\n",
      "Número mínimo de días: 2.0\n",
      "\n",
      "Asignación de exámenes:\n",
      "Curso 1 en día 1 en periodo 1\n",
      "Curso 2 en día 1 en periodo 2\n",
      "Curso 3 en día 1 en periodo 1\n",
      "Curso 4 en día 1 en periodo 2\n",
      "Curso 5 en día 1 en periodo 3\n",
      "Curso 6 en día 1 en periodo 4\n",
      "Curso 7 en día 2 en periodo 1\n",
      "Curso 8 en día 1 en periodo 1\n",
      "Curso 9 en día 1 en periodo 2\n",
      "Curso 10 en día 2 en periodo 2\n",
      "Curso 11 en día 2 en periodo 3\n"
     ]
    }
   ],
   "source": [
    "# Resultados\n",
    "print(\"Solución Óptima:\")\n",
    "print(f'Número mínimo de días: {solver.Objective().Value()}')\n",
    "\n",
    "print(\"\\nAsignación de exámenes:\")\n",
    "for i in C: # Cursos\n",
    "    for d in D: # Días\n",
    "        for p in P: # Periodos\n",
    "            if x[i, d, p].solution_value() == 1: # Si el curso i se programa el día d en el periodo p\n",
    "                print(f\"Curso {i} en día {d} en periodo {p}\")\n",
    "# print(\"Días utilizados:\")\n",
    "# for d in D:\n",
    "    # if z[d].solution_value() > 0.5:\n",
    "        # print(f\"  Día {d}\")"
   ]
  },
  {
   "cell_type": "markdown",
   "metadata": {},
   "source": [
    "Aquí tienes la conversión del documento en LaTeX a Markdown:\n",
    "\n",
    "---\n",
    "\n",
    "## Propuesta de una Solución a un Problema de Optimización\n",
    "\n",
    "El departamento de una universidad debe hacer la programación de los exámenes finales de los cursos que imparte dicho departamento. Cada examen tiene una duración de dos horas. Se necesita determinar el número de días necesario para la realización de dichos exámenes en los siguientes periodos de tiempo: 8:00 a 10:00, 10:15 a 12:15, 14:00 a 16:00 y 16:15 a 18:15, que dan como resultado cuatro periodos de dos horas por día, que deben servir para programar los exámenes de los cursos en distintos salones de clase. Para cada uno de los cursos, se proporciona una lista de los cursos que son incompatibles (ver Tabla 1), es decir, cursos que no se pueden programar al mismo tiempo, porque ambos están siendo por cursados por uno o varios de los estudiantes. Se requiere formular el problema para determinar el número mínimo de días necesarios para la realización de los exámenes de los 11 cursos. \n",
    "\n",
    "### Conjuntos de Índices\n",
    "\n",
    "- **C**: Conjunto de cursos, $C = \\{1, 2, \\dots, 11\\}$\n",
    "- **P**: Conjunto de periodos, $P = \\{1, 2, \\dots, 11\\}$\n",
    "- **I**: Conjunto de pares $(i, j)$ tales que $i, j \\in C$ y están en conflicto.\n",
    "- Para cada $i \\in C$, **$I_i$**: Conjunto de cursos incompatibles con $i$.  \n",
    "    Ejemplo: $I_1 = \\{2, 5, 7, 10, 11\\}$\n",
    "\n",
    "### Parámetros\n",
    "\n",
    "Los parámetros capturan la información del problema, que en este caso se refiere a los cursos en conflicto. Esto puede representarse de la siguiente manera:\n",
    "\n",
    "```math\n",
    "\\forall i, j \\in C: \n",
    "a_{i,j} = \n",
    "\\begin{cases} \n",
    "1 & \\text{si } i \\text{ y } j \\text{ están en conflicto}, \\\\ \n",
    "0 & \\text{en otro caso}.\n",
    "\\end{cases}\n",
    "```\n",
    "\n",
    "### Variables de Decisión\n",
    "\n",
    "Las variables de decisión están relacionadas con la respuesta al problema: determinar en qué periodo se programa el examen de cada curso. \n",
    "\n",
    "- Para cada $i \\in C$ y $j \\in P$: \n",
    "    ```math\n",
    "    x_{i,j} = \n",
    "    \\begin{cases} \n",
    "    1 & \\text{si el examen del curso } i \\text{ se asigna al periodo } j, \\\\ \n",
    "    0 & \\text{en otro caso}.\n",
    "    \\end{cases}\n",
    "    ```\n",
    "\n",
    "- Sea **$y$**: el número mínimo de días necesarios para programar los exámenes.\n",
    "\n",
    "- Para cada $k \\in P$: \n",
    "    ```math\n",
    "    z_k = \n",
    "    \\begin{cases} \n",
    "    1 & \\text{si se utiliza el periodo } k, \\\\ \n",
    "    0 & \\text{en otro caso}.\n",
    "    \\end{cases}\n",
    "    ```\n",
    "\n",
    "### Función Objetivo\n",
    "\n",
    "El objetivo es minimizar el número mínimo de días necesarios para programar los exámenes, representado por la variable **$y$**:\n",
    "\n",
    "```math\n",
    "\\min y\n",
    "```\n",
    "\n",
    "### Restricciones\n",
    "\n",
    "De manera similar, planteamos nuestras restricciones: se tienen que cumplir las demandas exactas de cada ciudad, sólo se puede transportar a lo máximo la demanda total y la cantidad transportada no puede ser negativa. Todo esto para asegurarnos de que nuestra función objetivo nos dé una solución factible.\n",
    "\n",
    "Las restricciones garantizan que la solución obtenida por la función objetivo sea factible. Estas se formulan de la siguiente manera:\n",
    "\n",
    "- **$y \\geq \\frac{\\sum z_k}{4}$**  \n",
    "  (El número mínimo de días está relacionado con los periodos requeridos)\n",
    "\n",
    "- **$\\sum x_{i,j}$**  \n",
    "  (Se debe garantizar que se asignen los cursos de forma adecuada)\n",
    "\n",
    "- **$x_{i,k} + x_{j,j} \\leq z_k, \\quad \\forall i \\in C$**  \n",
    "  (Relación entre los cursos asignados y los periodos utilizados)\n",
    "\n",
    "- **$z_{k+1} \\leq z_k, \\quad \\forall k \\in P, \\, k = 1, \\dots, |P|-1$**  \n",
    "  (La asignación de periodos debe ser consecutiva)\n",
    "\n",
    "- **$y \\in \\mathbb{Z}^+$**  \n",
    "  (El número mínimo de días debe ser un entero positivo)\n",
    "\n",
    "- **$x_{i,j} \\in \\{0,1\\}, \\quad \\forall i \\in C, \\, j \\in P$**  \n",
    "  (Asignación binaria de cursos a periodos)\n",
    "\n",
    "- **$z_k \\in \\{0,1\\}, \\quad \\forall k \\in P$**  \n",
    "  (Uso binario de periodos)\n",
    "\n",
    "### Uso de Python y el Solver SCIP\n",
    "\n",
    "En Python, utilizamos el solver `SCIP` para definir y resolver este problema. Para declarar variables binarias, se utiliza el método:\n",
    "\n",
    "```python\n",
    "solver.BoolVar(name)\n",
    "```\n",
    "\n",
    "--- \n",
    "\n",
    "Este es el formato en Markdown de tu documento en LaTeX. He usado notación en línea para las fórmulas matemáticas y bloques de código para las ecuaciones y ejemplos de Python."
   ]
  },
  {
   "cell_type": "code",
   "execution_count": 1,
   "metadata": {},
   "outputs": [
    {
     "name": "stdout",
     "output_type": "stream",
     "text": [
      "No se encontró una solución óptima.\n"
     ]
    }
   ],
   "source": [
    "from ortools.linear_solver import pywraplp\n",
    "\n",
    "# Definición de los cursos y periodos\n",
    "C = range(1, 12)  # 11 cursos\n",
    "P = range(1, 5)   # 4 periodos\n",
    "\n",
    "# Conjunto de incompatibilidades entre cursos (ejemplo basado en la tabla mencionada)\n",
    "incompatibles = {\n",
    "    1: {2, 5, 7, 10, 11},\n",
    "    2: {1, 5, 7, 10, 11},\n",
    "    3: {4, 5, 6, 7, 10, 11},\n",
    "    4: {3, 5, 6, 7, 9, 10, 11},\n",
    "    5: {1, 2, 3, 4, 6, 7, 8, 9, 10, 11},\n",
    "    6: {3, 4, 5, 7, 9, 10, 11},\n",
    "    7: {1, 2, 3, 4, 5, 6, 8, 9, 10, 11},\n",
    "    8: {5, 7, 10, 11},\n",
    "    9: {3, 5, 6, 7, 10, 11},\n",
    "    10: {1, 2, 3, 4, 5, 6, 7, 8, 9, 11},\n",
    "    11: {1, 2, 3, 4, 5, 6, 7, 8, 9, 10}\n",
    "}\n",
    "\n",
    "\n",
    "\n",
    "# Crear el solver usando SCIP\n",
    "solver = pywraplp.Solver.CreateSolver('SCIP')\n",
    "\n",
    "if not solver:\n",
    "    print(\"Solver no se pudo crear.\")\n",
    "    exit()\n",
    "\n",
    "# Variables de decisión\n",
    "x = {}  # x[i, j] = 1 si el examen de i se programa en el periodo j\n",
    "z = {}  # z[k] = 1 si se utiliza el periodo k\n",
    "\n",
    "# Crear las variables binarias\n",
    "for i in C:\n",
    "    for j in P:\n",
    "        x[i, j] = solver.BoolVar(f\"x_{i}_{j}\")  # Variable binaria\n",
    "\n",
    "for k in P:\n",
    "    z[k] = solver.BoolVar(f\"z_{k}\")  # Variable binaria para periodos\n",
    "\n",
    "# Variable para el número mínimo de días\n",
    "y = solver.IntVar(0, 100, \"y\")  # Variable entera para los días\n",
    "\n",
    "# Función objetivo: Minimizar el número de días\n",
    "solver.Minimize(y)\n",
    "\n",
    "# Restricciones\n",
    "\n",
    "# 1. El número mínimo de días debe estar relacionado con los periodos utilizados\n",
    "solver.Add(y >= sum(z[k] for k in P) / 4)\n",
    "\n",
    "# 2. Cada curso debe ser asignado a un único periodo\n",
    "for i in C:\n",
    "    solver.Add(sum(x[i, j] for j in P) == 1)\n",
    "\n",
    "# 3. Si dos cursos están en conflicto, no pueden ser asignados al mismo periodo\n",
    "for i in C:\n",
    "    for j in C:\n",
    "        if i != j and j in incompatibles.get(i, set()):\n",
    "            for k in P:\n",
    "                solver.Add(x[i, k] + x[j, k] <= 1)\n",
    "\n",
    "# 4. Relación entre los cursos asignados y los periodos utilizados\n",
    "for i in C:\n",
    "    for k in P:\n",
    "        solver.Add(x[i, k] <= z[k])\n",
    "\n",
    "# 5. Los periodos deben ser consecutivos\n",
    "for k in range(1, len(P)):\n",
    "    solver.Add(z[k + 1] <= z[k])\n",
    "\n",
    "# 6. Los valores de las variables son enteros y binarias\n",
    "solver.Add(y >= 1)  # El número mínimo de días debe ser un número entero positivo\n",
    "for k in P:\n",
    "    solver.Add(z[k] >= 0)  # Los valores de z deben ser binarios\n",
    "for i in C:\n",
    "    for j in P:\n",
    "        solver.Add(x[i, j] >= 0)  # Los valores de x deben ser binarios\n",
    "\n",
    "# Optimizar el modelo\n",
    "status = solver.Solve()\n",
    "\n",
    "# Obtener el resultado\n",
    "if status == pywraplp.Solver.OPTIMAL:\n",
    "    print(\"Número mínimo de días: \", y.solution_value())\n",
    "    for i in C:\n",
    "        for j in P:\n",
    "            if x[i, j].solution_value() > 0.5:  # Si el valor de x[i, j] es 1\n",
    "                print(f\"El examen del curso {i} se programa en el periodo {j}\")\n",
    "\n",
    "    # Mostrar la utilización de los periodos\n",
    "    for k in P:\n",
    "        if z[k].solution_value() > 0.5:  # Si el valor de z[k] es 1\n",
    "            print(f\"Se utiliza el periodo {k}\")\n",
    "else:\n",
    "    print(\"No se encontró una solución óptima.\")\n"
   ]
  }
 ],
 "metadata": {
  "kernelspec": {
   "display_name": "Python 3",
   "language": "python",
   "name": "python3"
  },
  "language_info": {
   "codemirror_mode": {
    "name": "ipython",
    "version": 3
   },
   "file_extension": ".py",
   "mimetype": "text/x-python",
   "name": "python",
   "nbconvert_exporter": "python",
   "pygments_lexer": "ipython3",
   "version": "3.12.1"
  }
 },
 "nbformat": 4,
 "nbformat_minor": 2
}
