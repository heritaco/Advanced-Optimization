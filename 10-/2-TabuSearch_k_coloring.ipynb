{
  "cells": [
    {
      "cell_type": "markdown",
      "metadata": {
        "id": "_CW6UHlRp7hm"
      },
      "source": [
        "# Implementación del algoritmo de búsqueda tabú para el problema de $k$- coloreado de un grafo descrito en:\n",
        "\n",
        "Hertz, A., and de Werra, D. Using tabu search technique for graph coloring. *Computing*, 39: 345-351, 1987."
      ]
    },
    {
      "cell_type": "code",
      "execution_count": 2,
      "metadata": {
        "id": "9MIZ6d3sYZNM"
      },
      "outputs": [],
      "source": [
        "import random"
      ]
    },
    {
      "cell_type": "code",
      "execution_count": 3,
      "metadata": {
        "id": "qmcr24AMmVMp"
      },
      "outputs": [],
      "source": [
        "filename='DSJC125-1.txt'"
      ]
    },
    {
      "cell_type": "markdown",
      "metadata": {
        "id": "maRwlCAsltPv"
      },
      "source": [
        "Función $read\\_data(filename)$: La función debe recibir como argumento el nombre del archivo de datos ($FileName$). Debe abrir el archivo, leer cada una de las aristas del grafo y almacenar el grafo mediante los conjuntos de adyacencia de los nodos. Debe regresar el conjunto de nodos del grafo y las listas de adyacencia de cada uno de los nodos."
      ]
    },
    {
      "cell_type": "code",
      "execution_count": 4,
      "metadata": {
        "colab": {
          "base_uri": "https://localhost:8080/"
        },
        "id": "ulTNbHsRQAxv",
        "outputId": "daf93b90-f33e-4b48-9ac7-0e959af9083b"
      },
      "outputs": [
        {
          "name": "stdout",
          "output_type": "stream",
          "text": [
            "{1, 2, 3, 4, 5, 6, 7, 8, 9, 10, 11, 12, 13, 14, 15, 16, 17, 18, 19, 20, 21, 22, 23, 24, 25, 26, 27, 28, 29, 30, 31, 32, 33, 34, 35, 36, 37, 38, 39, 40, 41, 42, 43, 44, 45, 46, 47, 48, 49, 50, 51, 52, 53, 54, 55, 56, 57, 58, 59, 60, 61, 62, 63, 64, 65, 66, 67, 68, 69, 70, 71, 72, 73, 74, 75, 76, 77, 78, 79, 80, 81, 82, 83, 84, 85, 86, 87, 88, 89, 90, 91, 92, 93, 94, 95, 96, 97, 98, 99, 100, 101, 102, 103, 104, 105, 106, 107, 108, 109, 110, 111, 112, 113, 114, 115, 116, 117, 118, 119, 120, 121, 122, 123, 124, 125}\n",
            "{5: [1, 13, 19, 30, 35, 65, 77, 82, 84, 92, 118, 121], 1: [5, 29, 44, 53, 79, 80, 113, 120, 123], 6: [2, 9, 27, 38, 42, 56, 67, 69, 75, 82, 109, 120, 123], 2: [6, 11, 17, 27, 32, 40, 46, 79, 105], 8: [4, 15, 19, 21, 42, 57, 58, 62, 65, 103, 105, 110], 4: [8, 9, 38, 69, 72, 99, 105, 113], 9: [4, 6, 14, 28, 49, 52, 61, 66, 73, 77, 84, 91, 96, 100, 101, 111], 11: [2, 19, 32, 63, 67, 71, 77, 88, 96, 103, 106, 121, 122], 13: [5, 14, 23, 37, 46, 83, 84, 96, 99, 101, 116, 119], 14: [7, 9, 13, 52, 57, 61, 66, 76, 79, 80, 86, 87, 100, 103], 7: [14, 21, 41, 42, 51, 73, 77, 98], 15: [8, 30, 35, 55, 66, 69, 92, 93, 116], 16: [10, 12, 35, 41, 45, 59, 62, 78, 87, 98, 104, 105, 106, 114], 10: [16, 25, 31, 33, 46, 62, 67, 81, 87, 110, 118], 12: [16, 18, 34, 35, 42, 46, 47, 52, 72, 73, 100, 103], 17: [2, 22, 28, 38, 51, 52, 58, 61, 84, 94, 98, 99, 102, 112, 113, 122], 18: [12, 32, 66, 75, 84, 90, 114, 123], 19: [5, 8, 11, 28, 42, 48, 66, 98, 113, 114], 21: [7, 8, 24, 65, 74, 84, 92], 22: [17, 37, 41, 50, 54, 67, 68, 82, 85, 86, 90, 91, 120], 23: [13, 50, 71, 98, 110, 113, 115, 123], 24: [21, 29, 35, 45, 48, 50, 62, 63, 73, 76, 84, 88, 91, 112, 120], 25: [3, 10, 42, 46, 55, 69, 74, 106, 111], 3: [25, 35, 38, 41, 56, 62, 63, 88, 112, 115, 116], 27: [2, 6, 31, 36, 51, 70, 92, 98, 99, 103, 106, 116, 120, 124], 28: [9, 17, 19, 30, 52, 53, 66, 70, 74, 81], 29: [1, 24, 43, 54, 63, 64, 69, 118], 30: [5, 15, 28, 47, 53, 57, 63, 76], 31: [10, 27, 61, 67, 70, 74, 85, 91, 115, 119], 32: [2, 11, 18, 34, 50, 62, 70, 76, 85, 86, 98, 101, 103, 105, 112], 33: [10, 43, 63, 86, 93, 121, 124], 34: [12, 32, 44, 70, 103, 125], 35: [3, 5, 12, 15, 16, 24, 36, 41, 43, 51, 56, 63, 67, 68, 76, 96, 117], 36: [20, 27, 35, 46, 47, 57, 61, 65, 91, 102, 103], 20: [36, 47, 81, 85, 97, 102, 124], 37: [13, 22, 40, 49, 59, 62, 65, 66, 67, 77, 82, 88], 38: [3, 4, 6, 17, 56, 63, 88, 94, 103, 116], 39: [26, 63, 72, 74, 79, 94, 105], 26: [39, 46, 57, 65, 72, 82, 88, 93, 116, 117], 40: [2, 37, 71, 72, 76, 82, 85, 92, 111, 119, 124], 41: [3, 7, 16, 22, 35, 50, 51, 80, 89, 108, 110, 122], 42: [6, 7, 8, 12, 19, 25, 51, 59, 64, 84, 88, 102, 106, 107, 108, 122], 43: [29, 33, 35, 49, 55, 57, 68, 78], 44: [1, 34, 53, 56, 87, 90, 97, 120, 122], 45: [16, 24, 62, 64, 67, 83, 89, 93, 107, 122], 46: [2, 10, 12, 13, 25, 26, 36, 47, 91, 106, 111], 47: [12, 20, 30, 36, 46, 50, 61, 67, 99, 103, 105, 115, 120, 124], 48: [19, 24, 51, 52, 54, 65, 73, 86, 93, 100, 111], 49: [9, 37, 43, 52, 55, 58, 78, 84, 98, 99, 104, 107, 110, 114, 125], 50: [22, 23, 24, 32, 41, 47, 55, 57, 73, 83, 91, 110, 117], 51: [7, 17, 27, 35, 41, 42, 48, 59, 63, 73, 82, 89, 106, 107, 108, 114, 117, 122], 52: [9, 12, 14, 17, 28, 48, 49, 58, 61, 63, 80, 92, 102, 111, 118, 121], 53: [1, 28, 30, 44, 62, 68, 84, 90, 91, 111, 113, 115, 122], 54: [22, 29, 48, 55, 62, 83, 97, 112, 118], 55: [15, 25, 43, 49, 50, 54, 58, 62, 64, 77, 97, 119, 124], 56: [3, 6, 35, 38, 44, 60, 62, 71, 84, 99, 105, 118], 57: [8, 14, 26, 30, 36, 43, 50, 59, 60, 64, 84, 114], 58: [8, 17, 49, 52, 55, 61, 64, 65, 77, 82, 97, 100, 101, 108, 112, 119], 59: [16, 37, 42, 51, 57, 69, 74, 93, 103, 122], 60: [56, 57, 77, 95, 110, 125], 61: [9, 14, 17, 31, 36, 47, 52, 58, 77, 93, 95, 96, 111], 62: [3, 8, 10, 16, 24, 32, 37, 45, 53, 54, 55, 56, 66, 75, 89, 90, 92, 111, 125], 63: [3, 11, 24, 29, 30, 33, 35, 38, 39, 51, 52, 69, 84, 123, 124], 64: [29, 42, 45, 55, 57, 58, 66, 77, 91, 106, 108, 115, 119, 121], 65: [5, 8, 21, 26, 36, 37, 48, 58, 69, 75, 85, 103], 66: [9, 14, 15, 18, 19, 28, 37, 62, 64, 74, 75, 101, 102, 108, 112, 122], 67: [6, 10, 11, 22, 31, 35, 37, 45, 47, 69, 116], 68: [22, 35, 43, 53, 80, 86, 91, 97, 116, 119], 69: [4, 6, 15, 25, 29, 59, 63, 65, 67, 77, 78, 79, 83, 96, 97, 99, 103, 109], 70: [27, 28, 31, 32, 34, 90, 93, 94, 106, 118], 71: [11, 23, 40, 56, 87, 94, 98, 110, 113, 119], 72: [4, 12, 26, 39, 40, 73, 78, 87, 91, 107, 113, 124], 73: [7, 9, 12, 24, 48, 50, 51, 72, 92, 97, 105], 74: [21, 25, 28, 31, 39, 59, 66, 79, 82, 89, 92, 104, 107], 75: [6, 18, 62, 65, 66, 96, 98, 109], 76: [14, 24, 30, 32, 35, 40, 80, 83, 87, 94, 99, 104, 110], 77: [5, 7, 9, 11, 37, 55, 58, 60, 61, 64, 69, 84, 95, 96, 97, 101, 106, 107, 110], 78: [16, 43, 49, 69, 72, 82, 84, 91, 110, 112, 115], 79: [1, 2, 14, 39, 69, 74, 85, 89, 111], 80: [1, 14, 41, 52, 68, 76, 82, 91, 97, 105, 106, 114, 117, 125], 81: [10, 20, 28, 82, 86, 91, 94, 123], 82: [5, 6, 22, 26, 37, 40, 51, 58, 74, 78, 80, 81, 86, 106, 117], 83: [13, 45, 50, 54, 69, 76, 93, 98, 104, 105, 108, 114, 123], 84: [5, 9, 13, 17, 18, 21, 24, 42, 49, 53, 56, 57, 63, 77, 78, 89, 95, 97, 101, 102, 110, 116, 122], 85: [20, 22, 31, 32, 40, 65, 79, 100, 104, 125], 86: [14, 22, 32, 33, 48, 68, 81, 82, 92, 102], 87: [10, 14, 16, 44, 71, 72, 76], 88: [3, 11, 24, 26, 37, 38, 42, 91, 105, 106, 107, 123], 89: [41, 45, 51, 62, 74, 79, 84, 98, 99, 110, 115, 122], 90: [18, 22, 44, 53, 62, 70, 94, 97], 91: [9, 22, 24, 31, 36, 46, 50, 53, 64, 68, 72, 78, 80, 81, 88, 93, 96, 120], 92: [5, 15, 21, 27, 40, 52, 62, 73, 74, 86, 95, 115, 123], 93: [15, 26, 33, 45, 48, 59, 61, 70, 83, 91, 97, 106, 115, 118, 121, 123], 94: [17, 38, 39, 70, 71, 76, 81, 90, 95, 114], 95: [60, 61, 77, 84, 92, 94], 96: [9, 11, 13, 35, 61, 69, 75, 77, 91, 97, 113, 117, 122], 97: [20, 44, 54, 55, 58, 68, 69, 73, 77, 80, 84, 90, 93, 96, 101, 110], 98: [7, 16, 17, 19, 23, 27, 32, 49, 71, 75, 83, 89, 111, 114], 99: [4, 13, 17, 27, 47, 49, 56, 69, 76, 89, 120, 125], 100: [9, 12, 14, 48, 58, 85, 106, 115], 101: [9, 13, 32, 58, 66, 77, 84, 97, 122], 102: [17, 20, 36, 42, 52, 66, 84, 86, 104, 124], 103: [8, 11, 12, 14, 27, 32, 34, 36, 38, 47, 59, 65, 69, 115, 117], 104: [16, 49, 74, 76, 83, 85, 102, 105, 122], 105: [2, 4, 8, 16, 32, 39, 47, 56, 73, 80, 83, 88, 104, 124, 125], 106: [11, 16, 25, 27, 42, 46, 51, 64, 70, 77, 80, 82, 88, 93, 100], 107: [42, 45, 49, 51, 72, 74, 77, 88, 116, 122], 108: [41, 42, 51, 58, 64, 66, 83, 110, 113, 119, 122], 109: [6, 69, 75, 115, 118], 110: [8, 10, 23, 41, 49, 50, 60, 71, 76, 77, 78, 84, 89, 97, 108, 115, 118, 124, 125], 111: [9, 25, 40, 46, 48, 52, 53, 61, 62, 79, 98], 112: [3, 17, 24, 32, 54, 58, 66, 78, 113], 113: [1, 4, 17, 19, 23, 53, 71, 72, 96, 108, 112, 121], 114: [16, 18, 19, 49, 51, 57, 80, 83, 94, 98, 115, 119], 115: [3, 23, 31, 47, 53, 64, 78, 89, 92, 93, 100, 103, 109, 110, 114, 118], 116: [3, 13, 15, 26, 27, 38, 67, 68, 84, 107, 119, 123], 117: [26, 35, 50, 51, 80, 82, 96, 103, 119, 124], 118: [5, 10, 29, 52, 54, 56, 70, 93, 109, 110, 115, 119, 121], 119: [13, 31, 40, 55, 58, 64, 68, 71, 108, 114, 116, 117, 118], 120: [1, 6, 22, 24, 27, 44, 47, 91, 99], 121: [5, 11, 33, 52, 64, 93, 113, 118], 122: [11, 17, 41, 42, 44, 45, 51, 53, 59, 66, 84, 89, 96, 101, 104, 107, 108, 124], 123: [1, 6, 18, 23, 63, 81, 83, 88, 92, 93, 116], 124: [20, 27, 33, 40, 47, 55, 63, 72, 102, 105, 110, 117, 122], 125: [34, 49, 60, 62, 80, 85, 99, 105, 110]}\n"
          ]
        }
      ],
      "source": [
        "def read_data(filename):\n",
        "  V = set()\n",
        "  G = dict()\n",
        "  with open(filename, 'r') as file:\n",
        "    for line in file:\n",
        "      if line.strip():\n",
        "        u,v = map(int, line.strip().split())\n",
        "        V.add(u)\n",
        "        V.add(v)\n",
        "        if u not in G:\n",
        "          G[u] = []\n",
        "        if v not in G:\n",
        "          G[v] = []\n",
        "        G[u].append(v)\n",
        "        G[v].append(u)\n",
        "    return V, G\n",
        "  \n",
        "# Example usage\n",
        "V, G = read_data(filename) \n",
        "print(V)\n",
        "print(G)"
      ]
    },
    {
      "cell_type": "markdown",
      "metadata": {
        "id": "gI5sgvd4WWj-"
      },
      "source": [
        "Función $random\\_initial\\_solution(K, V, AdjList)$: La función recibe el número de clases de color ($K$), el conjunto de vértices ($V$) y las listas de adyacencia de los nodos ($AdjList$). Debe devolver una solución inicial, representada por una partición del conjunto de nodos, la información de la partición a la que está asignado cada nodo y el valor de la función objetivo."
      ]
    },
    {
      "cell_type": "code",
      "execution_count": 5,
      "metadata": {
        "id": "x7bSo8TrYLq-"
      },
      "outputs": [
        {
          "name": "stdout",
          "output_type": "stream",
          "text": [
            "Initial Partition: {1: 4, 2: 6, 3: 8, 4: 5, 5: 2, 6: 1, 7: 1, 8: 3, 9: 4, 10: 6, 11: 2, 12: 4, 13: 1, 14: 0, 15: 1, 16: 4, 17: 7, 18: 5, 19: 5, 20: 8, 21: 9, 22: 5, 23: 4, 24: 6, 25: 6, 26: 1, 27: 5, 28: 1, 29: 3, 30: 1, 31: 7, 32: 0, 33: 4, 34: 9, 35: 7, 36: 2, 37: 0, 38: 5, 39: 5, 40: 6, 41: 2, 42: 0, 43: 2, 44: 3, 45: 7, 46: 4, 47: 7, 48: 7, 49: 9, 50: 8, 51: 9, 52: 5, 53: 1, 54: 6, 55: 9, 56: 2, 57: 3, 58: 5, 59: 6, 60: 1, 61: 1, 62: 0, 63: 1, 64: 2, 65: 9, 66: 8, 67: 9, 68: 8, 69: 4, 70: 1, 71: 3, 72: 0, 73: 2, 74: 0, 75: 1, 76: 6, 77: 3, 78: 8, 79: 0, 80: 5, 81: 5, 82: 8, 83: 2, 84: 7, 85: 1, 86: 6, 87: 7, 88: 3, 89: 9, 90: 0, 91: 8, 92: 9, 93: 3, 94: 0, 95: 5, 96: 4, 97: 8, 98: 7, 99: 1, 100: 8, 101: 1, 102: 5, 103: 7, 104: 7, 105: 6, 106: 9, 107: 3, 108: 1, 109: 6, 110: 6, 111: 6, 112: 7, 113: 3, 114: 6, 115: 5, 116: 8, 117: 2, 118: 0, 119: 0, 120: 5, 121: 8, 122: 6, 123: 7, 124: 1, 125: 1}\n",
            "Objective Value: 1350\n"
          ]
        }
      ],
      "source": [
        "# Función $random\\_initial\\_solution(K, V, AdjList)$: La función recibe el número de clases de color ($K$), el conjunto de vértices ($V$) y las listas de adyacencia de los nodos ($AdjList$). Debe devolver una solución inicial, representada por una partición del conjunto de nodos, la información de la partición a la que está asignado cada nodo y el valor de la función objetivo.\n",
        "\n",
        "def random_initial_solution(K, V, AdjList):\n",
        "    # Inicializa la partición de nodos\n",
        "    partition = {v: random.randint(0, K-1) for v in V}\n",
        "    # Inicializa el valor de la función objetivo\n",
        "    objective_value = 0\n",
        "    # Recorre cada nodo y su lista de adyacencia\n",
        "    for v in V:\n",
        "        for neighbor in AdjList[v]:\n",
        "        # Si el nodo vecino tiene un color diferente, incrementa el valor de la función objetivo\n",
        "            if partition[v] != partition[neighbor]:\n",
        "                objective_value += 1\n",
        "    return partition, objective_value\n",
        "\n",
        "# Ejemplo de uso\n",
        "K = 10  # Número de colores/clases\n",
        "partition, objective_value = random_initial_solution(K, V, G)\n",
        "print(\"Initial Partition:\", partition)\n",
        "print(\"Objective Value:\", objective_value)"
      ]
    },
    {
      "cell_type": "markdown",
      "metadata": {
        "id": "aY8u5OFso9ji"
      },
      "source": [
        "Función $get\\_candidates(P, AdjList)$: La función debe recibir la partición del conjunto de vértices ($P$) y los conjuntos de adyacencia de los nodos ($AdjList$) como argumentos. Debe regresar el conjunto de nodos candidato que se pueden mover del subconjunto de vértices de la partición al que están asignados a otro subconjunto de la partición. Solo son elegibles aquellos nodos que son incidentes a aristas ilegales de la solución."
      ]
    },
    {
      "cell_type": "code",
      "execution_count": 6,
      "metadata": {
        "id": "aW2xE_ORtIy1"
      },
      "outputs": [
        {
          "name": "stdout",
          "output_type": "stream",
          "text": [
            "Candidates: {2, 3, 4, 6, 8, 9, 10, 12, 13, 14, 15, 16, 17, 20, 21, 22, 24, 25, 27, 28, 30, 32, 37, 38, 40, 46, 47, 49, 50, 51, 52, 53, 55, 57, 58, 59, 60, 62, 63, 65, 68, 69, 70, 71, 74, 75, 76, 77, 78, 79, 80, 82, 84, 85, 88, 89, 90, 91, 92, 94, 96, 97, 98, 99, 101, 102, 103, 105, 106, 107, 110, 111, 112, 113, 116, 118, 119, 120, 122, 124, 125}\n"
          ]
        }
      ],
      "source": [
        "# Función $get\\_candidates(P, AdjList)$: La función debe recibir la partición del conjunto de vértices ($P$) y los conjuntos de adyacencia de los nodos ($AdjList$) como argumentos. Debe regresar el conjunto de nodos candidato que se pueden mover del subconjunto de vértices de la partición al que están asignados a otro subconjunto de la partición. Solo son elegibles aquellos nodos que son incidentes a aristas ilegales de la solución.\n",
        "\n",
        "def get_candidates(P, AdjList):\n",
        "    # Convertir la partición (nodo -> color) a una estructura por clases (color -> lista de nodos)\n",
        "    groups = {}\n",
        "    for node, color in P.items():\n",
        "        groups.setdefault(color, []).append(node)\n",
        "    \n",
        "    # Inicializa un conjunto vacío para almacenar los nodos candidatos\n",
        "    Candidates = set()\n",
        "    # Recorre cada clase en la partición\n",
        "    for color in groups.keys():\n",
        "        clase = groups[color]\n",
        "        # Recorre cada par de nodos en la clase\n",
        "        for u in range(len(clase)):\n",
        "            for v in range(u+1, len(clase)):\n",
        "                # Verifica si hay una arista entre los dos nodos\n",
        "                if clase[u] in AdjList[clase[v]]:\n",
        "                    # Agrega los nodos al conjunto de candidatos\n",
        "                    Candidates.add(clase[u])\n",
        "                    Candidates.add(clase[v])\n",
        "    return Candidates\n",
        "\n",
        "# Ejemplo de uso\n",
        "Candidates = get_candidates(partition, G)\n",
        "print(\"Candidates:\", Candidates)"
      ]
    },
    {
      "cell_type": "markdown",
      "metadata": {
        "id": "x0U9pkHAredG"
      },
      "source": [
        "Función $get\\_random\\_move(P, Alloc, Candidates)$. La función debe recibir la partición del conjunto de nodos ($P$), la información de la asignación de cada nodo ($Alloc$) y los nodos que son candidatos a ser movidos a otro subconjunto de la partición ($Candidates$). Debe regresar la información de un movimiento: nodo seleccionado del conjunto de nodos candidato, clase de color a la que pertenece y clase de color a la que debe moverse."
      ]
    },
    {
      "cell_type": "code",
      "execution_count": 7,
      "metadata": {
        "id": "pcGOZNrnsAIW"
      },
      "outputs": [
        {
          "name": "stdout",
          "output_type": "stream",
          "text": [
            "Node to move: 14\n",
            "Current class: 0\n",
            "New class: 12\n"
          ]
        }
      ],
      "source": [
        "# Función $get\\_random\\_move(P, Alloc, Candidates)$. La función debe recibir la partición del conjunto de nodos ($P$), la información de la asignación de cada nodo ($Alloc$) y los nodos que son candidatos a ser movidos a otro subconjunto de la partición ($Candidates$). Debe regresar la información de un movimiento: nodo seleccionado del conjunto de nodos candidato, clase de color a la que pertenece y clase de color a la que debe moverse.\n",
        "\n",
        "def get_random_move(P, Alloc, Candidates):\n",
        "    # Seleccionar un nodo candidato aleatorio\n",
        "    node = random.choice(list(Candidates))\n",
        "    # Obtener la clase de color actual del nodo\n",
        "    current_class = Alloc[node]\n",
        "    # Obtener las clases de color disponibles para mover el nodo\n",
        "    available_classes = [c for c in P.keys() if c != current_class]\n",
        "    # Seleccionar una clase de color aleatoria para mover el nodo\n",
        "    new_class = random.choice(available_classes)\n",
        "    return node, current_class, new_class\n",
        "\n",
        "# Ejemplo de uso\n",
        "node, current_class, new_class = get_random_move(partition, partition, Candidates)\n",
        "print(\"Node to move:\", node)\n",
        "print(\"Current class:\", current_class)\n",
        "print(\"New class:\", new_class)"
      ]
    },
    {
      "cell_type": "markdown",
      "metadata": {
        "id": "iUp5iGZas4sA"
      },
      "source": [
        "Función $evaluate\\_move(M, AdjList, P)$: La función debe recibir la información del movimiento ($M$), la lista de adyacencia de los nodos ($AdList$) y la partición del conjunto de nodos como argumentos. Debe regresar el cambio en el valor de la función objetivo."
      ]
    },
    {
      "cell_type": "code",
      "execution_count": 8,
      "metadata": {
        "id": "Qm0M_d7utKYr"
      },
      "outputs": [
        {
          "name": "stdout",
          "output_type": "stream",
          "text": [
            "Delta: -1\n"
          ]
        }
      ],
      "source": [
        "# Función $evaluate\\_move(M, AdjList, P)$: La función debe recibir la información del movimiento ($M$), la lista de adyacencia de los nodos ($AdList$) y la partición del conjunto de nodos como argumentos. Debe regresar el cambio en el valor de la función objetivo.\n",
        "\n",
        "def evaluate_move(M, AdjList, P):\n",
        "    node, current_class, new_class = M\n",
        "    # Inicializa el cambio en el valor de la función objetivo\n",
        "    delta = 0\n",
        "\n",
        "    # delta = |P_destination cap Si| - |P_source cap Si|\n",
        "    # Recorre los nodos vecinos del nodo seleccionado\n",
        "    for neighbor in AdjList[node]:\n",
        "        # Si el vecino está en la misma clase que el nodo seleccionado, decrementa el valor de delta\n",
        "        if P[neighbor] == current_class:\n",
        "            delta -= 1\n",
        "        # Si el vecino está en la nueva clase, incrementa el valor de delta\n",
        "        if P[neighbor] == new_class:\n",
        "            delta += 1\n",
        "    return delta\n",
        "\n",
        "# Ejemplo de uso\n",
        "delta = evaluate_move((node, current_class, new_class), G, partition)\n",
        "print(\"Delta:\", delta)"
      ]
    },
    {
      "cell_type": "markdown",
      "metadata": {
        "id": "-Qd7x3wKvSai"
      },
      "source": [
        "Función $check\\_tabu\\_status(M,T)$: La función debe recibir la información de un movimiento (M) y la lista tabú ($T$) como argumentos. Debe regresar $Verdadero$ si el movimiento tiene atributos tabú o $Falso$ en caso contrario."
      ]
    },
    {
      "cell_type": "code",
      "execution_count": 9,
      "metadata": {
        "id": "H8SSm_yGviZs"
      },
      "outputs": [],
      "source": [
        "# Función $check\\_tabu\\_status(M,T)$: La función debe recibir la información de un movimiento (M) y la lista tabú ($T$) como argumentos. Debe regresar $Verdadero$ si el movimiento tiene atributos tabú o $Falso$ en caso contrario.\n",
        "\n",
        "def check_tabu_status(M, T):\n",
        "    # Verifica si el movimiento está en la lista tabú\n",
        "    return M in T"
      ]
    },
    {
      "cell_type": "markdown",
      "metadata": {
        "id": "omBXws2SvoY2"
      },
      "source": [
        "Función $Aspiration\\_criterion(f,f\\_Best)$: La función debe recibir como argumento el valor de la función objetivo de la solución vecina ($f$) y el valor de la mejor solución obtenida hasta el momento ($f_Best$) . Debe devolver $Veradero$ si se staisface el criterio de aspiración o $Falso$ en caso constrario"
      ]
    },
    {
      "cell_type": "code",
      "execution_count": 10,
      "metadata": {
        "id": "MRY_RRBbw6Qf"
      },
      "outputs": [
        {
          "name": "stdout",
          "output_type": "stream",
          "text": [
            "Aspiration Criterion: True\n"
          ]
        }
      ],
      "source": [
        "# Función $Aspiration\\_criterion(f,f\\_Best)$: La función debe recibir como argumento el valor de la función objetivo de la solución vecina ($f$) y el valor de la mejor solución obtenida hasta el momento ($f_Best$) . Debe devolver $Veradero$ si se staisface el criterio de aspiración o $Falso$ en caso constrario\n",
        "\n",
        "def aspiration_criterion(f, f_Best):\n",
        "    # Verifica si la función objetivo de la solución vecina es mejor que la mejor solución encontrada\n",
        "    return f < f_Best\n",
        "\n",
        "# Ejemplo de uso\n",
        "f = 5  # Valor de la función objetivo de la solución vecina\n",
        "\n",
        "f_Best = 10  # Valor de la mejor solución encontrada\n",
        "print(\"Aspiration Criterion:\", aspiration_criterion(f, f_Best))"
      ]
    },
    {
      "cell_type": "markdown",
      "metadata": {
        "id": "-DqT_SVJwsps"
      },
      "source": [
        "Función $make\\_move(M,P)$:La función debe recibir como argumentos la información del movimiento ($M$), la partición del conjunto de nodos ($P$) y la información de la asignación de cada nodo ($Alloc$). Debe regresar la partición del conjunto de nodos y la información de la asignación de cada nodo actualizadas."
      ]
    },
    {
      "cell_type": "code",
      "execution_count": 11,
      "metadata": {
        "id": "k6f9Bq9UxuYe"
      },
      "outputs": [],
      "source": [
        "# Función $make\\_move(M,P)$:La función debe recibir como argumentos la información del movimiento ($M$), la partición del conjunto de nodos ($P$) y la información de la asignación de cada nodo ($Alloc$). Debe regresar la partición del conjunto de nodos y la información de la asignación de cada nodo actualizadas.\n",
        "\n",
        "def make_move(M, P, Alloc):\n",
        "    node, current_class, new_class = M\n",
        "    # Actualiza la partición del conjunto de nodos\n",
        "    P[node] = new_class\n",
        "    # Actualiza la asignación de cada nodo\n",
        "    Alloc[node] = new_class\n",
        "    return P, Alloc"
      ]
    },
    {
      "cell_type": "markdown",
      "metadata": {
        "id": "jTstN7yBxtR0"
      },
      "source": [
        "Función $update\\_tabu\\_status(M, T, nbiter)$: La función debe recibir como argumentos el movimiento efectuado ($M$), la lista tabú ($T$) y el número de la iteración en la que se efectuó el último movimiento ($nbiter$), Debe regresar la lista tabú actualizada."
      ]
    },
    {
      "cell_type": "code",
      "execution_count": 12,
      "metadata": {
        "id": "BEslmHFCzkEb"
      },
      "outputs": [],
      "source": [
        "# Función $update\\_tabu\\_status(M, T, nbiter)$: La función debe recibir como argumentos el movimiento efectuado ($M$), la lista tabú ($T$) y el número de la iteración en la que se efectuó el último movimiento ($nbiter$), Debe regresar la lista tabú actualizada.\n",
        "\n",
        "def update_tabu_status(M, T, nbiter):\n",
        "    # Agrega el movimiento a la lista tabú con el número de iteración actual\n",
        "    T[M] = nbiter\n",
        "    return T"
      ]
    },
    {
      "cell_type": "markdown",
      "metadata": {
        "id": "mRqqpKE-8Nn2"
      },
      "source": [
        "Funcion $Tabu\\_k\\_coloring()$. Debe pedir al usuario los valores de los parámetros de entrada y hacer la búsqueda tabú utilizando esos parámetros"
      ]
    },
    {
      "cell_type": "code",
      "execution_count": 13,
      "metadata": {
        "id": "fK29kQ0fcgoI"
      },
      "outputs": [],
      "source": [
        "# Funcion $Tabu\\_k\\_coloring()$. Debe pedir al usuario los valores de los parámetros de entrada y hacer la búsqueda tabú utilizando esos parámetros\n",
        "\n",
        "def Tabu_k_coloring():\n",
        "    # Pedir al usuario los valores de los parámetros de entrada\n",
        "    K = int(input(\"Ingrese el número de colores/clases: \"))\n",
        "    max_iter = int(input(\"Ingrese el número máximo de iteraciones: \"))\n",
        "    max_tabu_size = int(input(\"Ingrese el tamaño máximo de la lista tabú: \"))\n",
        "\n",
        "    # Inicializa la partición y la lista tabú\n",
        "    partition, objective_value = random_initial_solution(K, V, G)\n",
        "    T = {}\n",
        "    nbiter = 0\n",
        "\n",
        "    while nbiter < max_iter:\n",
        "        # Obtener los nodos candidatos\n",
        "        Candidates = get_candidates(partition, G)\n",
        "        if not Candidates:\n",
        "            break  # No hay nodos candidatos disponibles\n",
        "\n",
        "        # Obtener un movimiento aleatorio\n",
        "        M = get_random_move(partition, partition, Candidates)\n",
        "\n",
        "        # Verificar si el movimiento es tabú o si satisface el criterio de aspiración\n",
        "        if check_tabu_status(M, T) and not aspiration_criterion(objective_value + evaluate_move(M, G, partition), objective_value):\n",
        "            continue  # Ignorar el movimiento\n",
        "\n",
        "        # Evaluar el movimiento\n",
        "        delta = evaluate_move(M, G, partition)\n",
        "\n",
        "        # Actualizar la partición y la asignación de nodos\n",
        "        partition, partition = make_move(M, partition, partition)\n",
        "\n",
        "        # Actualizar la lista tabú\n",
        "        T = update_tabu_status(M, T, nbiter)\n",
        "\n",
        "        # Limitar el tamaño de la lista tabú\n",
        "        if len(T) > max_tabu_size:\n",
        "            del T[list(T.keys())[0]]  # Eliminar el movimiento más antiguo\n",
        "\n",
        "        # Actualizar el valor de la función objetivo\n",
        "        objective_value += delta\n",
        "\n",
        "        nbiter += 1\n",
        "\n",
        "    return partition, objective_value"
      ]
    },
    {
      "cell_type": "code",
      "execution_count": 14,
      "metadata": {},
      "outputs": [
        {
          "name": "stdout",
          "output_type": "stream",
          "text": [
            "Final Partition: {1: 5, 2: 98, 3: 1, 4: 1, 5: 6, 6: 3, 7: 1, 8: 7, 9: 5, 10: 9, 11: 1, 12: 3, 13: 6, 14: 8, 15: 7, 16: 1, 17: 5, 18: 1, 19: 5, 20: 9, 21: 4, 22: 53, 23: 1, 24: 1, 25: 5, 26: 5, 27: 46, 28: 2, 29: 1, 30: 3, 31: 66, 32: 17, 33: 6, 34: 1, 35: 0, 36: 5, 37: 1, 38: 39, 39: 5, 40: 2, 41: 0, 42: 8, 43: 5, 44: 5, 45: 5, 46: 6, 47: 5, 48: 6, 49: 5, 50: 1, 51: 7, 52: 5, 53: 5, 54: 5, 55: 0, 56: 3, 57: 70, 58: 4, 59: 2, 60: 6, 61: 7, 62: 9, 63: 7, 64: 3, 65: 3, 66: 4, 67: 5, 68: 2, 69: 2, 70: 1, 71: 7, 72: 5, 73: 57, 74: 7, 75: 0, 76: 2, 77: 2, 78: 2, 79: 8, 80: 7, 81: 0, 82: 9, 83: 9, 84: 8, 85: 64, 86: 9, 87: 9, 88: 4, 89: 8, 90: 9, 91: 7, 92: 8, 93: 9, 94: 7, 95: 6, 96: 4, 97: 9, 98: 6, 99: 4, 100: 6, 101: 2, 102: 9, 103: 2, 104: 6, 105: 4, 106: 0, 107: 8, 108: 3, 109: 4, 110: 5, 111: 6, 112: 2, 113: 8, 114: 4, 115: 3, 116: 115, 117: 2, 118: 1, 119: 8, 120: 3, 121: 7, 122: 2, 123: 3, 124: 5, 125: 6}\n",
            "Final Objective Value: 1292\n"
          ]
        }
      ],
      "source": [
        "# main\n",
        "if __name__ == \"__main__\":\n",
        "    final_partition, final_objective_value = Tabu_k_coloring()\n",
        "    print(\"Final Partition:\", final_partition)\n",
        "    print(\"Final Objective Value:\", final_objective_value)"
      ]
    }
  ],
  "metadata": {
    "colab": {
      "provenance": []
    },
    "kernelspec": {
      "display_name": "Python 3",
      "name": "python3"
    },
    "language_info": {
      "codemirror_mode": {
        "name": "ipython",
        "version": 3
      },
      "file_extension": ".py",
      "mimetype": "text/x-python",
      "name": "python",
      "nbconvert_exporter": "python",
      "pygments_lexer": "ipython3",
      "version": "3.12.1"
    }
  },
  "nbformat": 4,
  "nbformat_minor": 0
}
