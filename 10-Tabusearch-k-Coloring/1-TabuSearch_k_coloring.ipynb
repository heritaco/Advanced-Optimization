{
  "cells": [
    {
      "cell_type": "markdown",
      "metadata": {
        "id": "_CW6UHlRp7hm"
      },
      "source": [
        "# Implementación del algoritmo de búsqueda tabú para el problema de $k$- coloreado de un grafo descrito en:\n",
        "\n",
        "Hertz, A., and de Werra, D. Using tabu search technique for graph coloring. *Computing*, 39: 345-351, 1987."
      ]
    },
    {
      "cell_type": "markdown",
      "metadata": {
        "id": "maRwlCAsltPv"
      },
      "source": [
        "Función $read\\_data(FileName)$: La función debe recibir como argumento el nombre del archivo de datos ($FileName$). Debe abrir el archivo, leer cada una de las aristas del grafo y almacenar el grafo mediante los conjuntos de adyacencia de los nodos. Debe regresar el conjunto de nodos del grafo y las listas de adyacencia de cada uno de los nodos."
      ]
    },
    {
      "cell_type": "code",
      "execution_count": 27,
      "metadata": {
        "id": "ulTNbHsRQAxv"
      },
      "outputs": [],
      "source": [
        "def read_data(file_path):\n",
        "    \"\"\"\n",
        "    Reads data from a given file and returns it as a list of lines.\n",
        "    \"\"\"\n",
        "    nodos = set()\n",
        "    adj_list = dict()\n",
        "\n",
        "    with open(file_path, 'r') as file:\n",
        "        for line in file:\n",
        "            if line.strip():\n",
        "                u, v = map(int, line.strip().split())\n",
        "\n",
        "                nodos.add(u)\n",
        "                nodos.add(v)\n",
        "\n",
        "                if u not in adj_list:\n",
        "                    adj_list[u] = set()\n",
        "\n",
        "                if v not in adj_list:\n",
        "                    adj_list[v] = set()\n",
        "                \n",
        "                adj_list[u].add(v)\n",
        "                adj_list[v].add(u)\n",
        "                \n",
        "    return nodos, adj_list"
      ]
    },
    {
      "cell_type": "code",
      "execution_count": 28,
      "metadata": {},
      "outputs": [],
      "source": [
        "file_path = 'DSJC125-1.txt'"
      ]
    },
    {
      "cell_type": "code",
      "execution_count": 29,
      "metadata": {},
      "outputs": [],
      "source": [
        "nodos, adj_list = read_data(file_path)"
      ]
    },
    {
      "cell_type": "code",
      "execution_count": 33,
      "metadata": {},
      "outputs": [
        {
          "data": {
            "text/plain": [
              "{1, 13, 19, 30, 35, 65, 77, 82, 84, 92, 118, 121}"
            ]
          },
          "execution_count": 33,
          "metadata": {},
          "output_type": "execute_result"
        }
      ],
      "source": [
        "adj_list[5]"
      ]
    },
    {
      "cell_type": "markdown",
      "metadata": {
        "id": "aY8u5OFso9ji"
      },
      "source": [
        "Función $get\\_candidates(P)$: La función debe recibir la partición del conjunto de vértices ($P$) como argumento. Debe regresar el conjunto de nodos candidato que se pueden mover del subconjunto de vértices de la partición al que están asignados a otro subconjunto de la partición. Solo son elegibles aquellos nodos que son incidentes a aristas ilegales de la solución."
      ]
    },
    {
      "cell_type": "code",
      "execution_count": null,
      "metadata": {},
      "outputs": [],
      "source": [
        "def get_candidates(P):\n",
        "    \"\"\"\n",
        "    Todos los nodos que son adyacientes a aristas ilegales.\n",
        "    Regresa el conjunto de nodos candidatos que se pueden mover a otro color.\n",
        "    \n",
        "\n",
        "    Recibe una partición de vértices P (un diccionario donde las claves representan\n",
        "    cada subconjunto/colores y los valores son conjuntos de nodos asignados a cada uno)\n",
        "    y regresa el conjunto de nodos candidatos. Un nodo es candidato si está\n",
        "    incidente a alguna arista ilegal, es decir, a una arista cuyos extremos están en el\n",
        "    mismo subconjunto.\n",
        "    \"\"\"\n",
        "    candidates = set()  # Conjunto de nodos candidatos\n",
        "    \n",
        "    # Construir un mapeo de nodo a su subconjunto (color)\n",
        "    node_to_subset = {} # Diccionario para almacenar el subconjunto de cada nodo\n",
        "    for subset, nodes in P.items(): # Recorrer cada subconjunto y sus nodos\n",
        "        for node in nodes:  # Recorrer cada nodo en el subconjunto\n",
        "            node_to_subset[node] = subset   # Asignar el subconjunto al nodo\n",
        "\n",
        "    # Recorrer cada nodo y ver si tiene un vecino en el mismo subconjunto\n",
        "    for node, subset in node_to_subset.items(): # Recorrer cada nodo y su subconjunto\n",
        "        for neighbor in adj_list.get(node, []): # Obtener los vecinos del nodo\n",
        "            if node_to_subset.get(neighbor) == subset:\n",
        "                candidates.add(node)\n",
        "                break\n",
        "\n",
        "    return candidates"
      ]
    },
    {
      "cell_type": "code",
      "execution_count": 22,
      "metadata": {},
      "outputs": [],
      "source": [
        "candidates = get_candidates(adj_list)"
      ]
    },
    {
      "cell_type": "code",
      "execution_count": 25,
      "metadata": {},
      "outputs": [
        {
          "data": {
            "text/plain": [
              "{'101',\n",
              " '102',\n",
              " '105',\n",
              " '107',\n",
              " '108',\n",
              " '109',\n",
              " '11',\n",
              " '110',\n",
              " '115',\n",
              " '118',\n",
              " '16',\n",
              " '17',\n",
              " '19',\n",
              " '20',\n",
              " '22',\n",
              " '24',\n",
              " '25',\n",
              " '26',\n",
              " '29',\n",
              " '3',\n",
              " '33',\n",
              " '36',\n",
              " '38',\n",
              " '40',\n",
              " '41',\n",
              " '42',\n",
              " '44',\n",
              " '45',\n",
              " '46',\n",
              " '47',\n",
              " '49',\n",
              " '5',\n",
              " '51',\n",
              " '52',\n",
              " '53',\n",
              " '54',\n",
              " '59',\n",
              " '60',\n",
              " '61',\n",
              " '63',\n",
              " '65',\n",
              " '66',\n",
              " '72',\n",
              " '77',\n",
              " '80',\n",
              " '82',\n",
              " '83',\n",
              " '84',\n",
              " '89',\n",
              " '9',\n",
              " '91',\n",
              " '93',\n",
              " '96',\n",
              " '97',\n",
              " '98',\n",
              " '99'}"
            ]
          },
          "execution_count": 25,
          "metadata": {},
          "output_type": "execute_result"
        }
      ],
      "source": [
        "candidates"
      ]
    },
    {
      "cell_type": "code",
      "execution_count": 24,
      "metadata": {},
      "outputs": [
        {
          "data": {
            "text/plain": [
              "56"
            ]
          },
          "execution_count": 24,
          "metadata": {},
          "output_type": "execute_result"
        }
      ],
      "source": [
        "len(candidates)"
      ]
    },
    {
      "cell_type": "markdown",
      "metadata": {
        "id": "x0U9pkHAredG"
      },
      "source": [
        "Función $get\\_random\\_move()$. La función debe regresar la información de un movimiento: nodo seleccionado del conjunto de nodos candidato, clase de color a la que pertenece y clase de color a la que debe moverse."
      ]
    },
    {
      "cell_type": "code",
      "execution_count": null,
      "metadata": {
        "id": "pcGOZNrnsAIW"
      },
      "outputs": [],
      "source": []
    },
    {
      "cell_type": "markdown",
      "metadata": {
        "id": "iUp5iGZas4sA"
      },
      "source": [
        "Función $evaluate\\_move(M)$: La función debe recibir la información del movimiento ($M$) como argumento. Debe regresar el cambio en el valor de la función objetivo."
      ]
    },
    {
      "cell_type": "code",
      "execution_count": null,
      "metadata": {
        "id": "Qm0M_d7utKYr"
      },
      "outputs": [],
      "source": []
    },
    {
      "cell_type": "markdown",
      "metadata": {
        "id": "-Qd7x3wKvSai"
      },
      "source": [
        "Función $check\\_tabu\\_status(M,T)$: La función debe recibir la información de un movimiento (M) y la lista tabú ($T$) como argumentos. Debe regresar $Verdadero$ si el movimiento tiene atributos tabú o $Falso$ en caso contrario."
      ]
    },
    {
      "cell_type": "code",
      "execution_count": null,
      "metadata": {
        "id": "H8SSm_yGviZs"
      },
      "outputs": [],
      "source": []
    },
    {
      "cell_type": "markdown",
      "metadata": {
        "id": "omBXws2SvoY2"
      },
      "source": [
        "Función $Aspiration\\_criterion(F)$: La función debe recibir como argumento el valor de la función objetivo de la solución vecina (F) que genera el movimiento. Debe devolver $Veradero$ si se staisface el criterio de aspiración o $Falso$ en caso constrario"
      ]
    },
    {
      "cell_type": "code",
      "execution_count": null,
      "metadata": {
        "id": "MRY_RRBbw6Qf"
      },
      "outputs": [],
      "source": []
    },
    {
      "cell_type": "markdown",
      "metadata": {
        "id": "-DqT_SVJwsps"
      },
      "source": [
        "Función $make\\_move(M,P)$:La función debe recibir como argumentos la información del movimiento ($M$) y la partición del conjunto de nodos ($P$). Debe regresar la partición del conjunto de nodos actualizada."
      ]
    },
    {
      "cell_type": "code",
      "execution_count": null,
      "metadata": {
        "id": "k6f9Bq9UxuYe"
      },
      "outputs": [],
      "source": []
    },
    {
      "cell_type": "markdown",
      "metadata": {
        "id": "-3fx3Yv7yGJW"
      },
      "source": []
    },
    {
      "cell_type": "markdown",
      "metadata": {
        "id": "jTstN7yBxtR0"
      },
      "source": [
        "Función $update\\_tabu\\_status(M,T)$: La función debe recibir como argumentos el movimiento efectuado ($M$) y la lista tabú ($T$). Debe regresar la lista tabú actualizada."
      ]
    },
    {
      "cell_type": "code",
      "execution_count": null,
      "metadata": {
        "id": "BEslmHFCzkEb"
      },
      "outputs": [],
      "source": []
    }
  ],
  "metadata": {
    "colab": {
      "provenance": []
    },
    "kernelspec": {
      "display_name": "Python 3",
      "name": "python3"
    },
    "language_info": {
      "codemirror_mode": {
        "name": "ipython",
        "version": 3
      },
      "file_extension": ".py",
      "mimetype": "text/x-python",
      "name": "python",
      "nbconvert_exporter": "python",
      "pygments_lexer": "ipython3",
      "version": "3.12.1"
    }
  },
  "nbformat": 4,
  "nbformat_minor": 0
}
