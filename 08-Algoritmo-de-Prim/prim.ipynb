{
 "cells": [
  {
   "cell_type": "code",
   "execution_count": 74,
   "metadata": {},
   "outputs": [],
   "source": [
    "def prim(grafo):\n",
    "    # comenzar  desde el primer nodo del grafo\n",
    "    nodo_inicial = list(grafo.keys())[0]\n",
    "    mst = []  # Almacena las aristas del MST\n",
    "    visitados = set([nodo_inicial])  # Rastrear nodos visitados\n",
    "    aristas = []  # Almacena aristas para ser procesadas\n",
    "\n",
    "    # Agregar todas las aristas desde el nodo inicial a la lista\n",
    "    for vecino, peso in grafo[nodo_inicial]:\n",
    "        arista = (peso, nodo_inicial, vecino)\n",
    "        aristas.append(arista)\n",
    "\n",
    "    while aristas and len(visitados) < len(grafo):\n",
    "    # Encontrar la arista con el peso mínimo\n",
    "        peso_minimo, u, v = min(aristas, key=lambda x: x[0])\n",
    "        print(peso_minimo, u, v)\n",
    "        aristas.remove((peso_minimo, u, v))  # Eliminar la arista seleccionada\n",
    "        print(aristas)\n",
    "\n",
    "        if v not in visitados:\n",
    "            visitados.add(v)\n",
    "            print(visitados)\n",
    "            mst.append((u, v, peso_minimo))\n",
    "            print(mst)\n",
    "\n",
    "            # Agregar nuevas aristas desde el nodo recién visitado\n",
    "            for vecino, p in grafo[v]:\n",
    "                print(vecino, p)\n",
    "                if vecino not in visitados:\n",
    "                    print('agregando arista')\n",
    "                    aristas.append((p, v, vecino))\n",
    "\n",
    "    return mst\n"
   ]
  },
  {
   "cell_type": "code",
   "execution_count": 75,
   "metadata": {},
   "outputs": [],
   "source": [
    "grafo = {\n",
    "    1: [(3, 5),  (4, 7),  (6, 5) ],\n",
    "    2: [(5, 4),  (11, 4), (7, 2), (10, 6), (12, 10)],\n",
    "    3: [(1, 5),  (11, 1), (5, 1)],\n",
    "    4: [(1, 7),  (11, 1), (7, 3)],\n",
    "    5: [(3, 1),  (11, 2), (2, 4), (12, 15)],\n",
    "    6: [(1, 5),  (9, 10)],\n",
    "    7: [(4, 3),  (2, 2),  (10, 8),(9, 4)],\n",
    "    8: [(9, 7),  (10, 9)],\n",
    "    9: [(6, 10), (7, 4),  (8, 7)],\n",
    "    10:[(8, 9),  (7, 8),  (2, 6), (12,8)],\n",
    "    11:[(5, 2),  (4, 1),  (2, 4)],\n",
    "    12:[(5, 15), (10, 8)]\n",
    "}\n"
   ]
  },
  {
   "cell_type": "code",
   "execution_count": 76,
   "metadata": {},
   "outputs": [
    {
     "name": "stdout",
     "output_type": "stream",
     "text": [
      "3 5\n",
      "(5, 1, 3)\n",
      "4 7\n",
      "(7, 1, 4)\n",
      "6 5\n",
      "(5, 1, 6)\n",
      "5 1 3\n",
      "[(7, 1, 4), (5, 1, 6)]\n",
      "{1, 3}\n",
      "[(1, 3, 5)]\n",
      "1 5\n",
      "11 1\n",
      "agregando arista\n",
      "5 1\n",
      "agregando arista\n",
      "1 3 11\n",
      "[(7, 1, 4), (5, 1, 6), (1, 3, 5)]\n",
      "{11, 1, 3}\n",
      "[(1, 3, 5), (3, 11, 1)]\n",
      "5 2\n",
      "agregando arista\n",
      "4 1\n",
      "agregando arista\n",
      "2 4\n",
      "agregando arista\n",
      "1 3 5\n",
      "[(7, 1, 4), (5, 1, 6), (2, 11, 5), (1, 11, 4), (4, 11, 2)]\n",
      "{11, 1, 3, 5}\n",
      "[(1, 3, 5), (3, 11, 1), (3, 5, 1)]\n",
      "3 1\n",
      "11 2\n",
      "2 4\n",
      "agregando arista\n",
      "12 15\n",
      "agregando arista\n",
      "1 11 4\n",
      "[(7, 1, 4), (5, 1, 6), (2, 11, 5), (4, 11, 2), (4, 5, 2), (15, 5, 12)]\n",
      "{1, 3, 4, 5, 11}\n",
      "[(1, 3, 5), (3, 11, 1), (3, 5, 1), (11, 4, 1)]\n",
      "1 7\n",
      "11 1\n",
      "7 3\n",
      "agregando arista\n",
      "2 11 5\n",
      "[(7, 1, 4), (5, 1, 6), (4, 11, 2), (4, 5, 2), (15, 5, 12), (3, 4, 7)]\n",
      "3 4 7\n",
      "[(7, 1, 4), (5, 1, 6), (4, 11, 2), (4, 5, 2), (15, 5, 12)]\n",
      "{1, 3, 4, 5, 7, 11}\n",
      "[(1, 3, 5), (3, 11, 1), (3, 5, 1), (11, 4, 1), (4, 7, 3)]\n",
      "4 3\n",
      "2 2\n",
      "agregando arista\n",
      "10 8\n",
      "agregando arista\n",
      "9 4\n",
      "agregando arista\n",
      "2 7 2\n",
      "[(7, 1, 4), (5, 1, 6), (4, 11, 2), (4, 5, 2), (15, 5, 12), (8, 7, 10), (4, 7, 9)]\n",
      "{1, 2, 3, 4, 5, 7, 11}\n",
      "[(1, 3, 5), (3, 11, 1), (3, 5, 1), (11, 4, 1), (4, 7, 3), (7, 2, 2)]\n",
      "5 4\n",
      "11 4\n",
      "7 2\n",
      "10 6\n",
      "agregando arista\n",
      "12 10\n",
      "agregando arista\n",
      "4 11 2\n",
      "[(7, 1, 4), (5, 1, 6), (4, 5, 2), (15, 5, 12), (8, 7, 10), (4, 7, 9), (6, 2, 10), (10, 2, 12)]\n",
      "4 5 2\n",
      "[(7, 1, 4), (5, 1, 6), (15, 5, 12), (8, 7, 10), (4, 7, 9), (6, 2, 10), (10, 2, 12)]\n",
      "4 7 9\n",
      "[(7, 1, 4), (5, 1, 6), (15, 5, 12), (8, 7, 10), (6, 2, 10), (10, 2, 12)]\n",
      "{1, 2, 3, 4, 5, 7, 9, 11}\n",
      "[(1, 3, 5), (3, 11, 1), (3, 5, 1), (11, 4, 1), (4, 7, 3), (7, 2, 2), (7, 9, 4)]\n",
      "6 10\n",
      "agregando arista\n",
      "7 4\n",
      "8 7\n",
      "agregando arista\n",
      "5 1 6\n",
      "[(7, 1, 4), (15, 5, 12), (8, 7, 10), (6, 2, 10), (10, 2, 12), (10, 9, 6), (7, 9, 8)]\n",
      "{1, 2, 3, 4, 5, 6, 7, 9, 11}\n",
      "[(1, 3, 5), (3, 11, 1), (3, 5, 1), (11, 4, 1), (4, 7, 3), (7, 2, 2), (7, 9, 4), (1, 6, 5)]\n",
      "1 5\n",
      "9 10\n",
      "6 2 10\n",
      "[(7, 1, 4), (15, 5, 12), (8, 7, 10), (10, 2, 12), (10, 9, 6), (7, 9, 8)]\n",
      "{1, 2, 3, 4, 5, 6, 7, 9, 10, 11}\n",
      "[(1, 3, 5), (3, 11, 1), (3, 5, 1), (11, 4, 1), (4, 7, 3), (7, 2, 2), (7, 9, 4), (1, 6, 5), (2, 10, 6)]\n",
      "8 9\n",
      "agregando arista\n",
      "7 8\n",
      "2 6\n",
      "12 8\n",
      "agregando arista\n",
      "7 1 4\n",
      "[(15, 5, 12), (8, 7, 10), (10, 2, 12), (10, 9, 6), (7, 9, 8), (9, 10, 8), (8, 10, 12)]\n",
      "7 9 8\n",
      "[(15, 5, 12), (8, 7, 10), (10, 2, 12), (10, 9, 6), (9, 10, 8), (8, 10, 12)]\n",
      "{1, 2, 3, 4, 5, 6, 7, 8, 9, 10, 11}\n",
      "[(1, 3, 5), (3, 11, 1), (3, 5, 1), (11, 4, 1), (4, 7, 3), (7, 2, 2), (7, 9, 4), (1, 6, 5), (2, 10, 6), (9, 8, 7)]\n",
      "9 7\n",
      "10 9\n",
      "8 7 10\n",
      "[(15, 5, 12), (10, 2, 12), (10, 9, 6), (9, 10, 8), (8, 10, 12)]\n",
      "8 10 12\n",
      "[(15, 5, 12), (10, 2, 12), (10, 9, 6), (9, 10, 8)]\n",
      "{1, 2, 3, 4, 5, 6, 7, 8, 9, 10, 11, 12}\n",
      "[(1, 3, 5), (3, 11, 1), (3, 5, 1), (11, 4, 1), (4, 7, 3), (7, 2, 2), (7, 9, 4), (1, 6, 5), (2, 10, 6), (9, 8, 7), (10, 12, 8)]\n",
      "5 15\n",
      "10 8\n"
     ]
    }
   ],
   "source": [
    "\n",
    "# comenzar  desde el primer nodo del grafo\n",
    "nodo_inicial = list(grafo.keys())[0]\n",
    "mst = []  # Almacena las aristas del MST\n",
    "visitados = set([nodo_inicial])  # Rastrear nodos visitados\n",
    "aristas = []  # Almacena aristas para ser procesadas\n",
    "\n",
    "# Agregar todas las aristas desde el nodo inicial a la lista\n",
    "for vecino, peso in grafo[nodo_inicial]:\n",
    "    print(vecino, peso)\n",
    "    arista = (peso, nodo_inicial, vecino)\n",
    "    print(arista)\n",
    "    aristas.append(arista)\n",
    "\n",
    "while aristas and len(visitados) < len(grafo):\n",
    "# Encontrar la arista con el peso mínimo\n",
    "    peso_minimo, u, v = min(aristas, key=lambda x: x[0])\n",
    "    print(peso_minimo, u, v)\n",
    "    aristas.remove((peso_minimo, u, v))  # Eliminar la arista seleccionada\n",
    "    print(aristas)\n",
    "\n",
    "    if v not in visitados:\n",
    "        visitados.add(v)\n",
    "        print(visitados)\n",
    "        mst.append((u, v, peso_minimo))\n",
    "        print(mst)\n",
    "\n",
    "        # Agregar nuevas aristas desde el nodo recién visitado\n",
    "        for vecino, p in grafo[v]:\n",
    "            print(vecino, p)\n",
    "            if vecino not in visitados:\n",
    "                print('agregando arista')\n",
    "                aristas.append((p, v, vecino))\n"
   ]
  },
  {
   "cell_type": "code",
   "execution_count": 77,
   "metadata": {},
   "outputs": [
    {
     "data": {
      "text/plain": [
       "dict_keys([1, 2, 3, 4, 5, 6, 7, 8, 9, 10, 11, 12])"
      ]
     },
     "execution_count": 77,
     "metadata": {},
     "output_type": "execute_result"
    }
   ],
   "source": [
    "grafo.keys()"
   ]
  },
  {
   "cell_type": "code",
   "execution_count": 78,
   "metadata": {},
   "outputs": [
    {
     "data": {
      "text/plain": [
       "[1, 2, 3, 4, 5, 6, 7, 8, 9, 10, 11, 12]"
      ]
     },
     "execution_count": 78,
     "metadata": {},
     "output_type": "execute_result"
    }
   ],
   "source": [
    "list(grafo.keys())"
   ]
  },
  {
   "cell_type": "code",
   "execution_count": 79,
   "metadata": {},
   "outputs": [
    {
     "data": {
      "text/plain": [
       "1"
      ]
     },
     "execution_count": 79,
     "metadata": {},
     "output_type": "execute_result"
    }
   ],
   "source": [
    "list(grafo.keys())[0]"
   ]
  },
  {
   "cell_type": "code",
   "execution_count": 80,
   "metadata": {},
   "outputs": [
    {
     "data": {
      "text/plain": [
       "{1}"
      ]
     },
     "execution_count": 80,
     "metadata": {},
     "output_type": "execute_result"
    }
   ],
   "source": [
    "set([nodo_inicial])"
   ]
  },
  {
   "cell_type": "code",
   "execution_count": 81,
   "metadata": {},
   "outputs": [
    {
     "name": "stdout",
     "output_type": "stream",
     "text": [
      "3 5\n",
      "(5, 1, 3)\n",
      "4 7\n",
      "(7, 1, 4)\n",
      "6 5\n",
      "(5, 1, 6)\n"
     ]
    }
   ],
   "source": [
    "for vecino, peso in grafo[nodo_inicial]:\n",
    "    print(vecino, peso)\n",
    "    arista = (peso, nodo_inicial, vecino)\n",
    "    print(arista)\n",
    "    aristas.append(arista)"
   ]
  },
  {
   "cell_type": "code",
   "execution_count": 82,
   "metadata": {},
   "outputs": [
    {
     "data": {
      "text/plain": [
       "(15, 5, 12)"
      ]
     },
     "execution_count": 82,
     "metadata": {},
     "output_type": "execute_result"
    }
   ],
   "source": [
    "aristas[0] # 5 a 12 cuesta 15"
   ]
  },
  {
   "cell_type": "code",
   "execution_count": 83,
   "metadata": {},
   "outputs": [
    {
     "data": {
      "text/plain": [
       "15"
      ]
     },
     "execution_count": 83,
     "metadata": {},
     "output_type": "execute_result"
    }
   ],
   "source": [
    "aristas[0][0]"
   ]
  },
  {
   "cell_type": "code",
   "execution_count": 84,
   "metadata": {},
   "outputs": [
    {
     "name": "stdout",
     "output_type": "stream",
     "text": [
      "5 1 3\n",
      "[(7, 1, 4), (5, 1, 6)]\n",
      "{1, 3}\n",
      "[(1, 3, 5)]\n",
      "1 5\n",
      "11 1\n",
      "agregando arista\n",
      "5 1\n",
      "agregando arista\n",
      "1 3 11\n",
      "[(7, 1, 4), (5, 1, 6), (1, 3, 5)]\n",
      "{11, 1, 3}\n",
      "[(1, 3, 5), (3, 11, 1)]\n",
      "5 2\n",
      "agregando arista\n",
      "4 1\n",
      "agregando arista\n",
      "2 4\n",
      "agregando arista\n",
      "1 3 5\n",
      "[(7, 1, 4), (5, 1, 6), (2, 11, 5), (1, 11, 4), (4, 11, 2)]\n",
      "{11, 1, 3, 5}\n",
      "[(1, 3, 5), (3, 11, 1), (3, 5, 1)]\n",
      "3 1\n",
      "11 2\n",
      "2 4\n",
      "agregando arista\n",
      "12 15\n",
      "agregando arista\n",
      "1 11 4\n",
      "[(7, 1, 4), (5, 1, 6), (2, 11, 5), (4, 11, 2), (4, 5, 2), (15, 5, 12)]\n",
      "{1, 3, 4, 5, 11}\n",
      "[(1, 3, 5), (3, 11, 1), (3, 5, 1), (11, 4, 1)]\n",
      "1 7\n",
      "11 1\n",
      "7 3\n",
      "agregando arista\n",
      "2 11 5\n",
      "[(7, 1, 4), (5, 1, 6), (4, 11, 2), (4, 5, 2), (15, 5, 12), (3, 4, 7)]\n",
      "3 4 7\n",
      "[(7, 1, 4), (5, 1, 6), (4, 11, 2), (4, 5, 2), (15, 5, 12)]\n",
      "{1, 3, 4, 5, 7, 11}\n",
      "[(1, 3, 5), (3, 11, 1), (3, 5, 1), (11, 4, 1), (4, 7, 3)]\n",
      "4 3\n",
      "2 2\n",
      "agregando arista\n",
      "10 8\n",
      "agregando arista\n",
      "9 4\n",
      "agregando arista\n",
      "2 7 2\n",
      "[(7, 1, 4), (5, 1, 6), (4, 11, 2), (4, 5, 2), (15, 5, 12), (8, 7, 10), (4, 7, 9)]\n",
      "{1, 2, 3, 4, 5, 7, 11}\n",
      "[(1, 3, 5), (3, 11, 1), (3, 5, 1), (11, 4, 1), (4, 7, 3), (7, 2, 2)]\n",
      "5 4\n",
      "11 4\n",
      "7 2\n",
      "10 6\n",
      "agregando arista\n",
      "12 10\n",
      "agregando arista\n",
      "4 11 2\n",
      "[(7, 1, 4), (5, 1, 6), (4, 5, 2), (15, 5, 12), (8, 7, 10), (4, 7, 9), (6, 2, 10), (10, 2, 12)]\n",
      "4 5 2\n",
      "[(7, 1, 4), (5, 1, 6), (15, 5, 12), (8, 7, 10), (4, 7, 9), (6, 2, 10), (10, 2, 12)]\n",
      "4 7 9\n",
      "[(7, 1, 4), (5, 1, 6), (15, 5, 12), (8, 7, 10), (6, 2, 10), (10, 2, 12)]\n",
      "{1, 2, 3, 4, 5, 7, 9, 11}\n",
      "[(1, 3, 5), (3, 11, 1), (3, 5, 1), (11, 4, 1), (4, 7, 3), (7, 2, 2), (7, 9, 4)]\n",
      "6 10\n",
      "agregando arista\n",
      "7 4\n",
      "8 7\n",
      "agregando arista\n",
      "5 1 6\n",
      "[(7, 1, 4), (15, 5, 12), (8, 7, 10), (6, 2, 10), (10, 2, 12), (10, 9, 6), (7, 9, 8)]\n",
      "{1, 2, 3, 4, 5, 6, 7, 9, 11}\n",
      "[(1, 3, 5), (3, 11, 1), (3, 5, 1), (11, 4, 1), (4, 7, 3), (7, 2, 2), (7, 9, 4), (1, 6, 5)]\n",
      "1 5\n",
      "9 10\n",
      "6 2 10\n",
      "[(7, 1, 4), (15, 5, 12), (8, 7, 10), (10, 2, 12), (10, 9, 6), (7, 9, 8)]\n",
      "{1, 2, 3, 4, 5, 6, 7, 9, 10, 11}\n",
      "[(1, 3, 5), (3, 11, 1), (3, 5, 1), (11, 4, 1), (4, 7, 3), (7, 2, 2), (7, 9, 4), (1, 6, 5), (2, 10, 6)]\n",
      "8 9\n",
      "agregando arista\n",
      "7 8\n",
      "2 6\n",
      "12 8\n",
      "agregando arista\n",
      "7 1 4\n",
      "[(15, 5, 12), (8, 7, 10), (10, 2, 12), (10, 9, 6), (7, 9, 8), (9, 10, 8), (8, 10, 12)]\n",
      "7 9 8\n",
      "[(15, 5, 12), (8, 7, 10), (10, 2, 12), (10, 9, 6), (9, 10, 8), (8, 10, 12)]\n",
      "{1, 2, 3, 4, 5, 6, 7, 8, 9, 10, 11}\n",
      "[(1, 3, 5), (3, 11, 1), (3, 5, 1), (11, 4, 1), (4, 7, 3), (7, 2, 2), (7, 9, 4), (1, 6, 5), (2, 10, 6), (9, 8, 7)]\n",
      "9 7\n",
      "10 9\n",
      "8 7 10\n",
      "[(15, 5, 12), (10, 2, 12), (10, 9, 6), (9, 10, 8), (8, 10, 12)]\n",
      "8 10 12\n",
      "[(15, 5, 12), (10, 2, 12), (10, 9, 6), (9, 10, 8)]\n",
      "{1, 2, 3, 4, 5, 6, 7, 8, 9, 10, 11, 12}\n",
      "[(1, 3, 5), (3, 11, 1), (3, 5, 1), (11, 4, 1), (4, 7, 3), (7, 2, 2), (7, 9, 4), (1, 6, 5), (2, 10, 6), (9, 8, 7), (10, 12, 8)]\n",
      "5 15\n",
      "10 8\n"
     ]
    }
   ],
   "source": [
    "mst = prim(grafo)"
   ]
  },
  {
   "cell_type": "code",
   "execution_count": 85,
   "metadata": {},
   "outputs": [
    {
     "data": {
      "text/plain": [
       "[(1, 3, 5),\n",
       " (3, 11, 1),\n",
       " (3, 5, 1),\n",
       " (11, 4, 1),\n",
       " (4, 7, 3),\n",
       " (7, 2, 2),\n",
       " (7, 9, 4),\n",
       " (1, 6, 5),\n",
       " (2, 10, 6),\n",
       " (9, 8, 7),\n",
       " (10, 12, 8)]"
      ]
     },
     "execution_count": 85,
     "metadata": {},
     "output_type": "execute_result"
    }
   ],
   "source": [
    "mst"
   ]
  },
  {
   "cell_type": "code",
   "execution_count": 86,
   "metadata": {},
   "outputs": [
    {
     "name": "stdout",
     "output_type": "stream",
     "text": [
      "\n",
      "Árbol de Expansión Mínimo (MST):\n",
      "1 -- 3 (Peso: 5)\n",
      "3 -- 11 (Peso: 1)\n",
      "3 -- 5 (Peso: 1)\n",
      "11 -- 4 (Peso: 1)\n",
      "4 -- 7 (Peso: 3)\n",
      "7 -- 2 (Peso: 2)\n",
      "7 -- 9 (Peso: 4)\n",
      "1 -- 6 (Peso: 5)\n",
      "2 -- 10 (Peso: 6)\n",
      "9 -- 8 (Peso: 7)\n",
      "10 -- 12 (Peso: 8)\n",
      "\n",
      "Peso Total del MST: 43\n"
     ]
    }
   ],
   "source": [
    "peso_total = 0\n",
    "\n",
    "print(\"\\nÁrbol de Expansión Mínimo (MST):\")\n",
    "for nodo_u, nodo_v, peso in mst:\n",
    "    print(f\"{nodo_u} -- {nodo_v} (Peso: {peso})\")\n",
    "    peso_total += sum({peso})\n",
    "\n",
    "print(f\"\\nPeso Total del MST: {peso_total}\")"
   ]
  }
 ],
 "metadata": {
  "kernelspec": {
   "display_name": "Python 3",
   "language": "python",
   "name": "python3"
  },
  "language_info": {
   "codemirror_mode": {
    "name": "ipython",
    "version": 3
   },
   "file_extension": ".py",
   "mimetype": "text/x-python",
   "name": "python",
   "nbconvert_exporter": "python",
   "pygments_lexer": "ipython3",
   "version": "3.12.1"
  }
 },
 "nbformat": 4,
 "nbformat_minor": 2
}
