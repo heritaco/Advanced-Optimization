{
 "cells": [
  {
   "cell_type": "markdown",
   "metadata": {},
   "source": [
    "<div style=\"text-align: center; padding: 30px\">\n",
    "  <h1><strong>Actividades con Conflicto</strong></h1>\n",
    "  <h3><strong>Ejercicio 0</strong></h3>\n",
    "</div>"
   ]
  },
  {
   "cell_type": "markdown",
   "metadata": {},
   "source": [
    "El departamento de una universidad debe hacer la programación de los exámenes finales de los cursos que imparte dicho departamento. Cada examen tiene una duración de dos horas. Se necesita determinar el número de días necesario para la realización de dichos exámenes en los siguientes periodos de tiempo: 8:00 a 10:00, 10:15 a 12:15, 14:00 a 16:00 y 16:15 a 18:15, que dan como resultado cuatro periodos de dos horas por día, que deben servir para programar los exámenes de los cursos en distintos salones de clase. Para cada uno de los cursos, se proporciona una lista de los cursos que son incompatibles (ver Tabla 1), es decir, cursos que no se pueden programar al mismo tiempo, porque ambos están siendo por cursados por uno o varios de los estudiantes. Se requiere formular el problema para determinar el número mínimo de días necesarios para la realización de los exámenes de los 11 cursos. "
   ]
  },
  {
   "cell_type": "markdown",
   "metadata": {},
   "source": [
    "### **Uso de Python y el Solver SCIP**"
   ]
  },
  {
   "cell_type": "markdown",
   "metadata": {},
   "source": [
    "\n",
    "\n",
    "En Python, utilizamos el solver `SCIP` para definir y resolver este problema. Para declarar variables binarias, se utiliza el método:\n",
    "\n",
    "```python\n",
    "solver.BoolVar(name)\n",
    "```"
   ]
  },
  {
   "cell_type": "code",
   "execution_count": 15,
   "metadata": {},
   "outputs": [],
   "source": [
    "from ortools.linear_solver import pywraplp"
   ]
  },
  {
   "cell_type": "code",
   "execution_count": 16,
   "metadata": {},
   "outputs": [],
   "source": [
    "solver = pywraplp.Solver.CreateSolver('SCIP')"
   ]
  },
  {
   "cell_type": "markdown",
   "metadata": {},
   "source": [
    "### **Conjuntos de Índices**"
   ]
  },
  {
   "cell_type": "markdown",
   "metadata": {},
   "source": [
    "- $C$: Conjunto de cursos, $C = \\{1, 2, \\dots, 11\\}$\n",
    "- $P$: Conjunto de periodos, $P = \\{1, 2, \\dots, 11\\}$\n",
    "- $D$: Conjunto de días\n",
    "- $I$: Conjunto de pares $(i, j)$ tales que $i, j \\in C$ y están en conflicto."
   ]
  },
  {
   "cell_type": "markdown",
   "metadata": {},
   "source": [
    "### **Parámetros**"
   ]
  },
  {
   "cell_type": "markdown",
   "metadata": {},
   "source": [
    "Los parámetros capturan la información del problema, que en este caso se refiere a los cursos en conflicto."
   ]
  },
  {
   "cell_type": "markdown",
   "metadata": {},
   "source": [
    "$$\n",
    "\\forall i, j \\in C: \n",
    "a_{i,j} = \n",
    "\\begin{cases} \n",
    "1  \\text{si $i$ y $j$ están en conflicto}, \\\\ \n",
    "0   \\text{en otro caso}.\n",
    "\\end{cases}\n",
    "$$"
   ]
  },
  {
   "cell_type": "code",
   "execution_count": 17,
   "metadata": {},
   "outputs": [],
   "source": [
    "# Conjuntos\n",
    "C = range(1, 12)  # Cursos {1, 2, ..., 11}\n",
    "P = range(1, 5)   # Periodos {1, 2, 3, 4}\n",
    "D = range(1, 12)  # Días (máximo 11 días posibles)\n",
    "\n",
    "# Incompatibilidades (ejemplo: curso 1 es incompatible con cursos 2, 5, 7, 10 y 11)\n",
    "I = [(1, 2), (1, 5), (1, 7), (1, 10), (1, 11),\n",
    "     (2, 1), (2, 5), (2, 7), (2, 10), (2, 11),\n",
    "     (4, 3), (4, 5), (4, 6), (4, 7), (4, 10), (4, 11),\n",
    "     (3, 4), (3, 5), (3, 6), (3, 7), (3, 9), (3, 10), (3, 11),\n",
    "     (5, 1), (5, 2), (5, 3), (5, 4), (5, 6), (5, 7), (5, 8), (5, 9), (5, 10), (5, 11),\n",
    "     (6, 3), (6, 4), (6, 5), (6, 7), (6, 9), (6, 10), (6, 11),\n",
    "     (7, 1), (7, 2), (7, 3), (7, 4), (7, 5), (7, 6), (7, 8), (7, 9), (7, 10), (7, 11),\n",
    "     (8, 5), (8, 7), (8, 10), (8, 11),\n",
    "     (9, 3), (9, 5), (9, 6), (9, 7), (9, 10), (9, 11),\n",
    "     (10, 1), (10, 2), (10, 3), (10, 4), (10, 5), (10, 6), (10, 7), (10, 8), (10, 9), (10, 11),\n",
    "     (11, 1), (11, 2), (11, 3), (11, 4), (11, 5), (11, 6), (11, 7), (11, 8), (11, 9), (11, 10) \n",
    "     ]"
   ]
  },
  {
   "cell_type": "markdown",
   "metadata": {},
   "source": [
    "### **Variables de Decisión**"
   ]
  },
  {
   "cell_type": "markdown",
   "metadata": {},
   "source": [
    "Las variables de decisión están relacionadas con la respuesta al problema."
   ]
  },
  {
   "cell_type": "markdown",
   "metadata": {},
   "source": [
    "$$\n",
    "x_{i,j} = \n",
    "\\begin{cases} \n",
    "1   \\text{ si el examen del curso $i$ se asigna al periodo $j; \\quad \\forall i \\in C, \\forall j \\in P$} \\\\ \n",
    "0   \\text{ en otro caso}.\n",
    "\\end{cases}\n",
    "$$\n"
   ]
  },
  {
   "cell_type": "code",
   "execution_count": 18,
   "metadata": {},
   "outputs": [],
   "source": [
    "x = {}  # x[i, d, p] = 1 si el curso i se programa el día d en el periodo p\n",
    "for i in C: # Cursos\n",
    "    for d in D: # Días\n",
    "        for p in P: # Periodos\n",
    "            x[i, d, p] = solver.BoolVar(f'x[{i},{d},{p}]') \n",
    "            # Variable binaria (0, 1) para indicar si el curso i se programa el día d en el periodo p"
   ]
  },
  {
   "cell_type": "markdown",
   "metadata": {},
   "source": [
    "$$\n",
    "z_k = \n",
    "\\begin{cases} \n",
    "1  \\text{ si se utiliza el periodo $k; \\quad \\forall k \\in P$} \\\\ \n",
    "0  \\text{ en otro caso}.\n",
    "\\end{cases}\n",
    "$$\n"
   ]
  },
  {
   "cell_type": "code",
   "execution_count": 19,
   "metadata": {},
   "outputs": [],
   "source": [
    "z = {}  # z[d] = 1 si se utiliza el día d\n",
    "for d in D: # Días\n",
    "    z[d] = solver.BoolVar(f'z[{d}]') \n",
    "    # Variable binaria (0, 1) para indicar si se utiliza el día d "
   ]
  },
  {
   "cell_type": "markdown",
   "metadata": {},
   "source": [
    "\n",
    "$$\n",
    "y = \\text{ el número mínimo de días necesarios para programar los exámenes. }\n",
    "$$\n"
   ]
  },
  {
   "cell_type": "code",
   "execution_count": 20,
   "metadata": {},
   "outputs": [],
   "source": [
    "y = solver.IntVar(0, solver.infinity(), 'y')  # Número mínimo de días necesarios\n",
    "# Int.Var es una variable entera desde 0 a infinito con nombre y"
   ]
  },
  {
   "cell_type": "markdown",
   "metadata": {},
   "source": [
    "### **Función Objetivo**"
   ]
  },
  {
   "cell_type": "markdown",
   "metadata": {},
   "source": [
    "El objetivo es minimizar el número mínimo de días necesarios para programar los exámenes'"
   ]
  },
  {
   "cell_type": "markdown",
   "metadata": {},
   "source": [
    "$$\n",
    "\\min y\n",
    "$$"
   ]
  },
  {
   "cell_type": "code",
   "execution_count": 21,
   "metadata": {},
   "outputs": [],
   "source": [
    "solver.Minimize(y)"
   ]
  },
  {
   "cell_type": "markdown",
   "metadata": {},
   "source": [
    "### **Restricciones**"
   ]
  },
  {
   "cell_type": "markdown",
   "metadata": {},
   "source": [
    "Cada curso debe programarse exactamente una vez\n",
    "\n",
    "$$\n",
    "\\sum_{d \\in D} \\sum_{p \\in P} x_{i, d, p} = 1; \\quad \\forall i \\in C\n",
    "$$"
   ]
  },
  {
   "cell_type": "code",
   "execution_count": 22,
   "metadata": {},
   "outputs": [],
   "source": [
    "for i in C: # Cursos\n",
    "    solver.Add(sum(x[i, d, p] for d in D for p in P) == 1) \n",
    "    # Cada curso debe programarse exactamente una vez en un día y periodo"
   ]
  },
  {
   "cell_type": "markdown",
   "metadata": {},
   "source": [
    "Cursos incompatibles no pueden programarse al mismo tiempo\n",
    "\n",
    "$$\n",
    "x_{i, d, p} + x_{j, d, p} \\leq 1; \\quad \\forall (i, j) \\in I, \\, \\forall d \\in D, \\, \\forall p \\in P\n",
    "$$"
   ]
  },
  {
   "cell_type": "code",
   "execution_count": 23,
   "metadata": {},
   "outputs": [],
   "source": [
    "for (i, j) in I: # Cursos incompatibles\n",
    "    for d in D: # Días\n",
    "        for p in P: # Periodos\n",
    "            solver.Add(x[i, d, p] + x[j, d, p] <= 1) \n",
    "            # Cursos incompatibles no pueden programarse al mismo tiempo"
   ]
  },
  {
   "cell_type": "markdown",
   "metadata": {},
   "source": [
    "Si un periodo de un día se usa, $z_d = 1$"
   ]
  },
  {
   "cell_type": "markdown",
   "metadata": {},
   "source": [
    "\n",
    "$$\n",
    "\\sum_{i \\in C} \\sum_{p \\in P} x_{i, d, p} \\leq |C| \\cdot z_d; \\quad \\forall d \\in D\n",
    "$$"
   ]
  },
  {
   "cell_type": "code",
   "execution_count": 24,
   "metadata": {},
   "outputs": [],
   "source": [
    "for d in D: # Días \n",
    "    solver.Add(sum(x[i, d, p] for i in C for p in P) <= len(C) * z[d]) \n",
    "    # Si un periodo de un día se usa, z[d] = 1 "
   ]
  },
  {
   "cell_type": "markdown",
   "metadata": {},
   "source": [
    "\n",
    "$$\n",
    "y \\geq \\sum_{d \\in D} z_d\n",
    "$$"
   ]
  },
  {
   "cell_type": "code",
   "execution_count": 25,
   "metadata": {},
   "outputs": [
    {
     "data": {
      "text/plain": [
       "<ortools.linear_solver.pywraplp.Constraint; proxy of <Swig Object of type 'operations_research::MPConstraint *' at 0x0000024C256EBDB0> >"
      ]
     },
     "execution_count": 25,
     "metadata": {},
     "output_type": "execute_result"
    }
   ],
   "source": [
    "solver.Add(y >= sum(z[d] for d in D)) # Número mínimo de días necesarios "
   ]
  },
  {
   "cell_type": "markdown",
   "metadata": {},
   "source": [
    "### **Resolver**"
   ]
  },
  {
   "cell_type": "code",
   "execution_count": 26,
   "metadata": {},
   "outputs": [
    {
     "data": {
      "text/plain": [
       "0"
      ]
     },
     "execution_count": 26,
     "metadata": {},
     "output_type": "execute_result"
    }
   ],
   "source": [
    "solver.Solve() "
   ]
  },
  {
   "cell_type": "code",
   "execution_count": 27,
   "metadata": {},
   "outputs": [
    {
     "name": "stdout",
     "output_type": "stream",
     "text": [
      "Número mínimo de días: 2.0\n"
     ]
    }
   ],
   "source": [
    "print(f'Número mínimo de días: {solver.Objective().Value()}')"
   ]
  },
  {
   "cell_type": "code",
   "execution_count": null,
   "metadata": {},
   "outputs": [
    {
     "name": "stdout",
     "output_type": "stream",
     "text": [
      "Calendario de exámenes:\n",
      "Curso 1 en día 1 en periodo 1\n",
      "Curso 2 en día 1 en periodo 2\n",
      "Curso 3 en día 1 en periodo 1\n",
      "Curso 4 en día 1 en periodo 2\n",
      "Curso 5 en día 1 en periodo 3\n",
      "Curso 6 en día 1 en periodo 4\n",
      "Curso 7 en día 2 en periodo 1\n",
      "Curso 8 en día 1 en periodo 1\n",
      "Curso 9 en día 1 en periodo 2\n",
      "Curso 10 en día 2 en periodo 2\n",
      "Curso 11 en día 2 en periodo 3\n"
     ]
    }
   ],
   "source": [
    "for i in C: # Cursos\n",
    "    for d in D: # Días\n",
    "        for p in P: # Periodos\n",
    "            if x[i, d, p].solution_value() == 1: # Si el curso i se programa el día d en el periodo p\n",
    "                print(f\"Curso {i} en día {d} en periodo {p}\")"
   ]
  }
 ],
 "metadata": {
  "kernelspec": {
   "display_name": "Python 3",
   "language": "python",
   "name": "python3"
  },
  "language_info": {
   "codemirror_mode": {
    "name": "ipython",
    "version": 3
   },
   "file_extension": ".py",
   "mimetype": "text/x-python",
   "name": "python",
   "nbconvert_exporter": "python",
   "pygments_lexer": "ipython3",
   "version": "3.12.1"
  }
 },
 "nbformat": 4,
 "nbformat_minor": 2
}
