{
  "cells": [
    {
      "cell_type": "markdown",
      "metadata": {},
      "source": [
        "<div style=\"position: relative; text-align: center; padding: 30px;\">\n",
        "  <h1><strong>Gestión en Logística y Cadena de Suministro</strong></h1>\n",
        "  <h3><strong>Ejercicio 5</strong></h3>\n",
        "</div>"
      ]
    },
    {
      "cell_type": "markdown",
      "metadata": {},
      "source": [
        "El sudoku es un juego japonés. El objetivo del juego es rellenar con los números naturales del 1 al 9 cada una de las celdas vacías de una cuadrícula de $9 \\times 9$, dividida en 9 sub-cuadrículas de $3 \\times 3$, y que ha sido parcialmente rellenada con algunos valores en algunas de las celdas. El objetivo del juego es rellenar las celdas vacías de manera tal que en cada una de las filas, en cada una de las columnas y en cada una de las submatrices no debe haber números repetidos. Se requiere formular el problema de resolver un sudoku como un problema de programación matemática."
      ]
    },
    {
      "cell_type": "code",
      "execution_count": 1,
      "metadata": {},
      "outputs": [],
      "source": [
        "from ortools.linear_solver import pywraplp"
      ]
    },
    {
      "cell_type": "code",
      "execution_count": 2,
      "metadata": {},
      "outputs": [],
      "source": [
        "solver = pywraplp.Solver.CreateSolver('SCIP')"
      ]
    },
    {
      "cell_type": "markdown",
      "metadata": {},
      "source": [
        "### **Conjunto de índices**"
      ]
    },
    {
      "cell_type": "markdown",
      "metadata": {},
      "source": [
        "\n",
        "- **Filas:** $i \\in I = \\{1,2,\\dots,9\\}$\n",
        "- **Columnas:** $j \\in J = \\{1,2,\\dots,9\\}$\n",
        "- **Dígitos:** $k \\in K = \\{1,2,\\dots,9\\}$\n",
        "\n",
        "Para representar los bloques o subcuadrículas (3x3), se puede definir:\n",
        "\n",
        "- **Bloques:** $b \\in B = \\{1,2,\\dots,9\\}$\n",
        "\n",
        "  Cada bloque $b$ está compuesto por un conjunto de celdas. Una manera común de indexar los bloques es asignarles de la siguiente forma:\n",
        "\n",
        "  - Bloque $b$ contiene las celdas:\n",
        "    $$\n",
        "    \\{ (i,j) \\mid i \\in I_b,\\, j \\in J_b \\},\n",
        "    $$\n",
        "    donde los conjuntos $I_b$ y $J_b$ se definen de acuerdo con la posición del bloque. Por ejemplo:\n",
        "    - Bloque 1: $I_1 = \\{1,2,3\\}$, $J_1 = \\{1,2,3\\}$.\n",
        "    - Bloque 2: $I_2 = \\{1,2,3\\}$, $J_2 = \\{4,5,6\\}$.\n",
        "    - y así sucesivamente.\n",
        "\n",
        "También se pueden definir las siguientes funciones para identificar el bloque al que pertenece una celda:\n",
        "$$\n",
        "\\text{bloque}(i,j) = 3\\left(\\left\\lceil \\frac{i}{3} \\right\\rceil - 1\\right) + \\left\\lceil \\frac{j}{3} \\right\\rceil.\n",
        "$$"
      ]
    },
    {
      "cell_type": "markdown",
      "metadata": {},
      "source": [
        "### **Parámetros**"
      ]
    },
    {
      "cell_type": "markdown",
      "metadata": {},
      "source": [
        "- **Datos iniciales (pistas):**  \n",
        "  Sea $a_{ij}$ el dígito preasignado en la celda $(i,j)$ si es que existe, y 0 (o un valor nulo) si la celda está vacía.  \n",
        "  Por ejemplo, en un Sudoku dado, podríamos tener:\n",
        "  $$\n",
        "  a_{ij} =\n",
        "  \\begin{cases}\n",
        "  k, & \\text{si la celda } (i,j) \\text{ ya contiene el dígito } k, \\\\\n",
        "  0, & \\text{si la celda } (i,j) \\text{ está vacía.}\n",
        "  \\end{cases}\n",
        "  $$"
      ]
    },
    {
      "cell_type": "code",
      "execution_count": 3,
      "metadata": {},
      "outputs": [],
      "source": [
        "# definimos el sudoku a resolver:\n",
        "puzzle = [\n",
        "    [0, 0, 0,   0, 0, 0,    0, 0, 0],\n",
        "    [6, 2, 0,   0, 8, 5,    3, 0, 0],\n",
        "    [8, 0, 7,   0, 2, 4,    0, 1, 0],\n",
        "\n",
        "    [0, 0, 5,   7, 3, 2,    0, 6, 4],\n",
        "    [0, 8, 0,   0, 0, 0,    2, 0, 0],\n",
        "    [0, 0, 0,   0, 0, 0,    0, 0, 0],\n",
        "    \n",
        "    [7, 3, 0,   0, 0, 0,    0, 8, 6],\n",
        "    [0, 0, 0,   0, 0, 0,    0, 0, 0],\n",
        "    [0, 0, 0,   0, 6, 8,    0, 0, 0]\n",
        "]\n",
        "\n",
        "# Índices: filas, columnas y dígitos (0 a 8, para representar 1 a 9)\n",
        "n = 9\n",
        "N = range(n) # no necesitamos todas las filas, columnas y dígitos, pero es más fácil así"
      ]
    },
    {
      "cell_type": "markdown",
      "metadata": {},
      "source": [
        "### **Variables de decisión**"
      ]
    },
    {
      "cell_type": "markdown",
      "metadata": {},
      "source": [
        "Se define la variable binaria:\n",
        "\n",
        "$$\n",
        "x_{ijk} =\n",
        "\\begin{cases}\n",
        "1, & \\text{si se asigna el dígito } k \\text{ a la celda } (i,j), \\\\\n",
        "0, & \\text{en caso contrario.}\n",
        "\\end{cases}\n",
        "$$\n",
        "\n",
        "Esta variable toma valor 1 únicamente si en la celda $(i,j)$ se coloca el dígito $k$."
      ]
    },
    {
      "cell_type": "code",
      "execution_count": 4,
      "metadata": {},
      "outputs": [],
      "source": [
        "x = {}\n",
        "for i in N:\n",
        "    for j in N:\n",
        "        for k in N:\n",
        "            x[i, j, k] = solver.BoolVar(f'x_{i}_{j}_{k}') "
      ]
    },
    {
      "cell_type": "markdown",
      "metadata": {},
      "source": [
        "### **Función objetivo**"
      ]
    },
    {
      "cell_type": "markdown",
      "metadata": {},
      "source": [
        "El objetivo es encontrar una solución factible que cumpla con todas las restricciones del Sudoku, por lo que se puede definir una función objetivo trivial, por ejemplo:\n",
        "\n",
        "$$\n",
        "\\min \\; 0.\n",
        "$$\n",
        "\n",
        "Por lo mismo, cualquier constante sirve como función objetivo :)"
      ]
    },
    {
      "cell_type": "code",
      "execution_count": 5,
      "metadata": {},
      "outputs": [],
      "source": [
        "solver.Minimize(0)"
      ]
    },
    {
      "cell_type": "markdown",
      "metadata": {},
      "source": [
        "### **Restricciones**"
      ]
    },
    {
      "cell_type": "markdown",
      "metadata": {},
      "source": [
        "Cada celda $(i,j)$ debe contener exactamente un dígito:\n",
        "\n",
        "$$\n",
        "\\sum_{k \\in K} x_{ijk} = 1, \\quad \\forall \\, i \\in I, \\; \\forall \\, j \\in J.\n",
        "$$"
      ]
    },
    {
      "cell_type": "code",
      "execution_count": 6,
      "metadata": {},
      "outputs": [],
      "source": [
        "for i in N:\n",
        "    for j in N:\n",
        "        solver.Add(sum(x[i, j, k] for k in N) == 1)"
      ]
    },
    {
      "cell_type": "markdown",
      "metadata": {},
      "source": [
        "Cada dígito $k$ debe aparecer exactamente una vez en cada fila $i$:\n",
        "\n",
        "$$\n",
        "\\sum_{j \\in J} x_{ijk} = 1, \\quad \\forall \\, i \\in I, \\; \\forall \\, k \\in K.\n",
        "$$"
      ]
    },
    {
      "cell_type": "code",
      "execution_count": 7,
      "metadata": {},
      "outputs": [],
      "source": [
        "for i in N:\n",
        "    for k in N:\n",
        "        solver.Add(sum(x[i, j, k] for j in N) == 1)"
      ]
    },
    {
      "cell_type": "markdown",
      "metadata": {},
      "source": [
        "Cada dígito $k$ debe aparecer exactamente una vez en cada columna $j$:\n",
        "\n",
        "$$\n",
        "\\sum_{i \\in I} x_{ijk} = 1, \\quad \\forall \\, j \\in J, \\; \\forall \\, k \\in K.\n",
        "$$\n"
      ]
    },
    {
      "cell_type": "code",
      "execution_count": 8,
      "metadata": {},
      "outputs": [],
      "source": [
        "for j in N:\n",
        "    for k in N:\n",
        "        solver.Add(sum(x[i, j, k] for i in N) == 1)"
      ]
    },
    {
      "cell_type": "markdown",
      "metadata": {},
      "source": [
        "Cada dígito $k$ debe aparecer exactamente una vez en cada bloque $b$. Sea $C(b)$ el conjunto de celdas $(i,j)$ que pertenecen al bloque $b$. Entonces:\n",
        "\n",
        "$$\n",
        "\\sum_{(i,j) \\in C(b)} x_{ijk} = 1, \\quad \\forall \\, b \\in B, \\; \\forall \\, k \\in K.\n",
        "$$"
      ]
    },
    {
      "cell_type": "code",
      "execution_count": 9,
      "metadata": {},
      "outputs": [],
      "source": [
        "B = range(3)\n",
        "\n",
        "for block_i in B:\n",
        "    for block_j in B:\n",
        "        for k in N:\n",
        "            # Añade una restricción al solver indicando que la suma de x[i, j, k] \n",
        "            # en el bloque de 3x3 debe ser igual a 1, para que el número k \n",
        "            # aparezca una vez en cada bloque de 3x3\n",
        "            solver.Add(\n",
        "                sum(\n",
        "                    x[i, j, k]\n",
        "                    for i in range(block_i * 3, block_i * 3 + 3)\n",
        "                    for j in range(block_j * 3, block_j * 3 + 3)\n",
        "                ) == 1\n",
        "            )"
      ]
    },
    {
      "cell_type": "markdown",
      "metadata": {},
      "source": [
        "**Restricciones de Pistas (Datos Iniciales)**\n",
        "\n",
        "Para las celdas que ya tienen un dígito preasignado, se fija la variable correspondiente:\n",
        "\n",
        "$$\n",
        "x_{ij,k} = 1 \\quad \\text{si } a_{ij} = k, \\quad \\forall \\, (i,j) \\text{ tal que } a_{ij} \\neq 0.\n",
        "$$\n",
        "\n",
        "O de forma equivalente, se puede eliminar la libertad en la celda fijándola a ese valor."
      ]
    },
    {
      "cell_type": "code",
      "execution_count": 10,
      "metadata": {},
      "outputs": [],
      "source": [
        "for i in N:\n",
        "    for j in N:\n",
        "        # Si el valor en la posición (i, j) del puzzle no es 0\n",
        "        if puzzle[i][j] != 0:\n",
        "            # Calcula el índice k restando 1 al valor en la posición (i, j), ya que los índices van de 0 a 8\n",
        "            k = puzzle[i][j] - 1\n",
        "            # Añade una restricción al solver indicando que x[i, j, k] debe ser igual a 1\n",
        "            solver.Add(x[i, j, k] == 1)"
      ]
    },
    {
      "cell_type": "markdown",
      "metadata": {},
      "source": [
        "### **Resolver**"
      ]
    },
    {
      "cell_type": "code",
      "execution_count": 11,
      "metadata": {},
      "outputs": [
        {
          "name": "stdout",
          "output_type": "stream",
          "text": [
            "[3, 1, 4, 6, 9, 7, 5, 2, 8]\n",
            "[6, 2, 9, 1, 8, 5, 3, 4, 7]\n",
            "[8, 5, 7, 3, 2, 4, 6, 1, 9]\n",
            "[1, 9, 5, 7, 3, 2, 8, 6, 4]\n",
            "[4, 8, 6, 5, 1, 9, 2, 7, 3]\n",
            "[2, 7, 3, 8, 4, 6, 1, 9, 5]\n",
            "[7, 3, 2, 4, 5, 1, 9, 8, 6]\n",
            "[9, 6, 8, 2, 7, 3, 4, 5, 1]\n",
            "[5, 4, 1, 9, 6, 8, 7, 3, 2]\n"
          ]
        }
      ],
      "source": [
        "solver.Solve()\n",
        "\n",
        "solution = [[0 for _ in N] for _ in N]\n",
        "for i in N:\n",
        "    for j in N:\n",
        "        for k in N:\n",
        "            if x[i, j, k].solution_value() == 1: #si la variable x[i, j, k] es 1, entonces el dígito k+1 está en la posición (i, j)\n",
        "                solution[i][j] = k + 1  \n",
        "\n",
        "for row in solution:\n",
        "    print(row) #para ver nuestro sudoku resuelto"
      ]
    }
  ],
  "metadata": {
    "kernelspec": {
      "display_name": "Python 3",
      "language": "python",
      "name": "python3"
    },
    "language_info": {
      "codemirror_mode": {
        "name": "ipython",
        "version": 3
      },
      "file_extension": ".py",
      "mimetype": "text/x-python",
      "name": "python",
      "nbconvert_exporter": "python",
      "pygments_lexer": "ipython3",
      "version": "3.12.1"
    }
  },
  "nbformat": 4,
  "nbformat_minor": 4
}
