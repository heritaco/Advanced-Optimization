{
 "cells": [
  {
   "cell_type": "markdown",
   "metadata": {},
   "source": [
    "<div style=\"position: relative; text-align: center; padding: 30px;\">\n",
    "  <h1><strong>Travelling Salesman Problem</strong></h1>\n",
    "  <h3><strong>Ejercicio 5</strong></h3>\n",
    "</div>"
   ]
  },
  {
   "cell_type": "markdown",
   "metadata": {},
   "source": [
    "Implementar el modelo MTZ o el modelo de flujo en redes (o ambos) para el problema del TSP vistos en clase con la siguiente instancia del problema:"
   ]
  },
  {
   "cell_type": "code",
   "execution_count": 4,
   "metadata": {},
   "outputs": [],
   "source": [
    "from ortools.linear_solver import pywraplp"
   ]
  },
  {
   "cell_type": "code",
   "execution_count": 5,
   "metadata": {},
   "outputs": [],
   "source": [
    "solver = pywraplp.Solver.CreateSolver('SCIP')"
   ]
  },
  {
   "cell_type": "markdown",
   "metadata": {},
   "source": [
    "### **Conjunto de índices**"
   ]
  },
  {
   "cell_type": "markdown",
   "metadata": {},
   "source": [
    "Modelo del TSP con variables de flujo:  \n",
    "Sean $x_{ij} = 1$, $i, j \\in N : i \\neq j$ las variables de decisión que indican que se visita la ciudad $j$ inmediatamente después de la ciudad $i$ y $x_{ij} = 0$ en otro caso. Asimismo, sean $y_{ij} \\geq 0$, $i, j \\in N : i \\neq j$ las variables de decisión que denotan el flujo de la ciudad $i$ a la ciudad $j$. Se considera el parámetro $b_i$, $i \\in N$, con $b_1 = n - 1$ y $b_i = -1$, $i = 2, \\ldots, n$."
   ]
  },
  {
   "cell_type": "markdown",
   "metadata": {},
   "source": [
    "### **Parámetros**"
   ]
  },
  {
   "cell_type": "code",
   "execution_count": 6,
   "metadata": {},
   "outputs": [],
   "source": [
    "tij = [\n",
    "    [0, 26, 82, 65, 100, 145, 100],\n",
    "    [66, 0, 56, 39, 109, 156, 80],\n",
    "    [43, 57, 0, 16, 53, 100, 128],\n",
    "    [27, 41, 62, 0, 97, 144, 37],\n",
    "    [109, 135, 161, 174, 0, 47, 41],\n",
    "    [157, 161, 114, 130, 60, 0, 23],\n",
    "    [30, 101, 123, 89, 75, 105, 0]\n",
    "]\n",
    "\n",
    "n = len(tij)\n",
    "N = range(n)"
   ]
  },
  {
   "cell_type": "markdown",
   "metadata": {},
   "source": [
    "### **Variables de decisión**"
   ]
  },
  {
   "cell_type": "markdown",
   "metadata": {},
   "source": [
    "$$ y_{ij} \\geq 0 \\quad \\forall i, j \\in N : i \\neq j $$\n"
   ]
  },
  {
   "cell_type": "code",
   "execution_count": 7,
   "metadata": {},
   "outputs": [],
   "source": [
    "y = {}\n",
    "for i in N:\n",
    "    for j in N:\n",
    "        if i != j:\n",
    "            y[i, j] = solver.NumVar(0, solver.infinity(), f'y[{i},{j}]')"
   ]
  },
  {
   "cell_type": "markdown",
   "metadata": {},
   "source": [
    "$$ x_{ij} \\in \\{0, 1\\} \\quad \\forall i, j \\in N : i \\neq j $$"
   ]
  },
  {
   "cell_type": "code",
   "execution_count": 8,
   "metadata": {},
   "outputs": [],
   "source": [
    "x = {}\n",
    "for i in N:\n",
    "    for j in N:\n",
    "        if i != j:\n",
    "            x[i, j] = solver.BoolVar(f'x[{i},{j}]')"
   ]
  },
  {
   "cell_type": "markdown",
   "metadata": {},
   "source": [
    "### **Función objetivo**"
   ]
  },
  {
   "cell_type": "markdown",
   "metadata": {},
   "source": [
    "$$ \\min \\sum_{i \\in N} \\sum_{j \\in N : i \\neq j} t_{ij} x_{ij} $$"
   ]
  },
  {
   "cell_type": "code",
   "execution_count": 9,
   "metadata": {},
   "outputs": [],
   "source": [
    "camino = solver.Objective()\n",
    "\n",
    "camino = sum(tij[i][j] * x[i, j] for i in N for j in N if i != j)\n",
    "\n",
    "solver.Minimize(camino)"
   ]
  },
  {
   "cell_type": "markdown",
   "metadata": {},
   "source": [
    "### **Restricciones**"
   ]
  },
  {
   "cell_type": "markdown",
   "metadata": {},
   "source": [
    "$$ \\sum_{j \\in N : i \\neq j} x_{ij} = 1 \\quad \\forall i \\in N $$"
   ]
  },
  {
   "cell_type": "code",
   "execution_count": 10,
   "metadata": {},
   "outputs": [],
   "source": [
    "for i in N:\n",
    "    solver.Add(solver.Sum(x[i, j] for j in N if i != j) == 1)"
   ]
  },
  {
   "cell_type": "markdown",
   "metadata": {},
   "source": [
    "$$ \\sum_{i \\in N : i \\neq j} x_{ij} = 1 \\quad \\forall j \\in N $$"
   ]
  },
  {
   "cell_type": "code",
   "execution_count": 11,
   "metadata": {},
   "outputs": [],
   "source": [
    "for j in N:\n",
    "    solver.Add(solver.Sum(x[i, j] for i in N if i != j) == 1)"
   ]
  },
  {
   "cell_type": "markdown",
   "metadata": {},
   "source": [
    "$$ \\sum_{j \\in N : i \\neq j} y_{ij} - \\sum_{j \\in N : i \\neq j} y_{ji} = b_i \\quad \\forall i \\in N $$"
   ]
  },
  {
   "cell_type": "code",
   "execution_count": 12,
   "metadata": {},
   "outputs": [],
   "source": [
    "b = [n - 1] + [-1] * (n - 1) # b = [n - 1, -1, -1, ..., -1]\n",
    "for i in N:\n",
    "    solver.Add(solver.Sum(y[i, j] for j in N if i != j) - solver.Sum(y[j, i] for j in N if i != j) == b[i])"
   ]
  },
  {
   "cell_type": "markdown",
   "metadata": {},
   "source": [
    "\n",
    "$$ y_{ij} \\leq (n - 1) x_{ij} \\quad \\forall i, j \\in N : i \\neq j $$\n"
   ]
  },
  {
   "cell_type": "code",
   "execution_count": 13,
   "metadata": {},
   "outputs": [],
   "source": [
    "for i in N:\n",
    "    for j in N:\n",
    "        if i != j:\n",
    "            solver.Add(y[i, j] <= (n - 1) * x[i, j])"
   ]
  },
  {
   "cell_type": "markdown",
   "metadata": {},
   "source": [
    "### **Resolver**"
   ]
  },
  {
   "cell_type": "code",
   "execution_count": 14,
   "metadata": {},
   "outputs": [
    {
     "data": {
      "text/plain": [
       "0"
      ]
     },
     "execution_count": 14,
     "metadata": {},
     "output_type": "execute_result"
    }
   ],
   "source": [
    "solver.Solve()"
   ]
  },
  {
   "cell_type": "code",
   "execution_count": 15,
   "metadata": {},
   "outputs": [
    {
     "name": "stdout",
     "output_type": "stream",
     "text": [
      "Función objetivo = 280.0\n",
      "Ciudad 0 a ciudad 1\n",
      "Ciudad 1 a ciudad 3\n",
      "Ciudad 2 a ciudad 4\n",
      "Ciudad 3 a ciudad 2\n",
      "Ciudad 4 a ciudad 5\n",
      "Ciudad 5 a ciudad 6\n",
      "Ciudad 6 a ciudad 0\n"
     ]
    }
   ],
   "source": [
    "print('Función objetivo =', solver.Objective().Value())\n",
    "for i in N:\n",
    "    for j in N:\n",
    "        if i != j and x[i, j].solution_value() == 1:\n",
    "            print(f'Ciudad {i} a ciudad {j}')"
   ]
  }
 ],
 "metadata": {
  "kernelspec": {
   "display_name": "Python 3",
   "language": "python",
   "name": "python3"
  },
  "language_info": {
   "codemirror_mode": {
    "name": "ipython",
    "version": 3
   },
   "file_extension": ".py",
   "mimetype": "text/x-python",
   "name": "python",
   "nbconvert_exporter": "python",
   "pygments_lexer": "ipython3",
   "version": "3.12.1"
  }
 },
 "nbformat": 4,
 "nbformat_minor": 2
}
