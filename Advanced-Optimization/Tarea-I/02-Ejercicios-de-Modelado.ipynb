{
  "cells": [
    {
      "cell_type": "markdown",
      "metadata": {},
      "source": [
        "<div style=\"text-align: center; padding: 30px\">\n",
        "  <h1><strong>Ejercicios de Modelado</strong></h1>\n",
        "  <h3><strong>Ejercicio 2</strong></h3>\n",
        "</div>"
      ]
    },
    {
      "cell_type": "markdown",
      "metadata": {},
      "source": [
        "Se deben procesar varios trabajos en una máquina y no se permiten prioridades para procesar los trabajos. Sea $N = \\{1, 2, \\dots , n\\}$ el conjunto de trabajos a procesar. Sean también $p_{j}$ y $d_{j}$ , el tiempo de procesamiento y la fecha de vencimiento del trabajo $j ∈ N$ (expresados en días), respectivamente. Se requiere definir el orden en el que se procesarán los trabajos para minimizar la máxima tardanza (retraso). Definimos la tardanza de un trabajo como la diferencia entre su fecha de finalización y su fecha de entrega. Sea $C_{j}$ el tiempo de finalización del trabajo $j ∈ N$ , y sea $y_{jk}$ una variable de decisión binaria, que es igual a 1 si el trabajo $j$ se procesa antes que el trabajo $k$ e igual a 0 en caso contrario. Además, sea $L_{máx}$ la tardanza máxima."
      ]
    },
    {
      "cell_type": "markdown",
      "metadata": {},
      "source": [
        "### **Uso de Python y el Solver SCIP**"
      ]
    },
    {
      "cell_type": "markdown",
      "metadata": {},
      "source": [
        "\n",
        "\n",
        "En Python, utilizamos el solver `SCIP` para definir y resolver este problema. Para declarar variables binarias, se utiliza el método:\n",
        "\n",
        "```python\n",
        "solver.BoolVar(name)\n",
        "```"
      ]
    },
    {
      "cell_type": "code",
      "execution_count": 1,
      "metadata": {
        "trusted": true
      },
      "outputs": [],
      "source": [
        "from ortools.linear_solver import pywraplp"
      ]
    },
    {
      "cell_type": "code",
      "execution_count": 2,
      "metadata": {
        "trusted": true
      },
      "outputs": [],
      "source": [
        "solver = pywraplp.Solver.CreateSolver('SCIP')"
      ]
    },
    {
      "cell_type": "markdown",
      "metadata": {},
      "source": [
        "### **Conjuntos de Índices**"
      ]
    },
    {
      "cell_type": "markdown",
      "metadata": {},
      "source": [
        "- $N$: Conjunto de trabajos, $C = \\{1, 2, \\dots, 10\\}$"
      ]
    },
    {
      "cell_type": "markdown",
      "metadata": {},
      "source": [
        "### **Parámetros**"
      ]
    },
    {
      "cell_type": "markdown",
      "metadata": {},
      "source": [
        "Los parámetros capturan la información del problema."
      ]
    },
    {
      "cell_type": "markdown",
      "metadata": {},
      "source": [
        "- $ \\forall j \\in N: p_{j} = \\text {tiempo de procesamiento} $\n",
        "- $ \\forall j \\in N: d_{j} = \\text {fecha de vencimiento} $"
      ]
    },
    {
      "cell_type": "markdown",
      "metadata": {},
      "source": [
        "Donde se define la tardanza de un trabajo como la diferencia entre su fecha de finalización y su fecha de entrega"
      ]
    },
    {
      "cell_type": "code",
      "execution_count": 3,
      "metadata": {
        "trusted": true
      },
      "outputs": [],
      "source": [
        "# Conjuntos\n",
        "N = range(1, 11)  # Trabajos {1, 2, ..., 10}\n",
        "\n",
        "# Fecha de vencimiento\n",
        "d = [21, 25, 23, 24, 27, 30, 28, 31, 29, 22] \n",
        "#El último número de 'd' no estaba en la presentación, se incluyó para poder resolver el problema\n",
        "#Tiempo de procesamiento\n",
        "p = [3, 4, 2, 5, 6, 1, 4, 5, 7, 10]"
      ]
    },
    {
      "cell_type": "markdown",
      "metadata": {},
      "source": [
        "### **Variables de Decisión**"
      ]
    },
    {
      "cell_type": "markdown",
      "metadata": {},
      "source": [
        "Las variables de decisión están relacionadas con la respuesta al problema."
      ]
    },
    {
      "cell_type": "markdown",
      "metadata": {},
      "source": [
        "$$ \\forall j \\in N: C_{j} = \\text {tiempo de finalización} $$"
      ]
    },
    {
      "cell_type": "code",
      "execution_count": 4,
      "metadata": {},
      "outputs": [],
      "source": [
        "# Variable de tiempo de finalización para cada trabajo\n",
        "C = {}\n",
        "for j in N:\n",
        "    C[j] = solver.NumVar(0, solver.infinity(), f'C[{j}]')"
      ]
    },
    {
      "cell_type": "markdown",
      "metadata": {},
      "source": [
        "$$\n",
        "y_{j,k} = \n",
        "\\begin{cases} \n",
        "1   \\text{ si el trabajo $j$ se procesa antes que el trabajo $k; \\quad \\forall j \\in N, \\forall k \\in N$} \\\\ \n",
        "0   \\text{ en otro caso}.\n",
        "\\end{cases}\n",
        "$$\n"
      ]
    },
    {
      "cell_type": "code",
      "execution_count": 5,
      "metadata": {
        "trusted": true
      },
      "outputs": [],
      "source": [
        "x = {}  # x[j, k] = 1 si el curso i se programa el día d en el periodo p\n",
        "for j in N: # Trabajos\n",
        "    for k in N: # Trabajos\n",
        "        x[j, k] = solver.BoolVar(f'x[{j},{k}]') \n",
        "        # Variable binaria (0, 1)"
      ]
    },
    {
      "cell_type": "markdown",
      "metadata": {},
      "source": [
        "\n",
        "$$\n",
        "L_{máx} = \\text{ la tardanza máxima }\n",
        "$$\n"
      ]
    },
    {
      "cell_type": "code",
      "execution_count": 6,
      "metadata": {
        "trusted": true
      },
      "outputs": [],
      "source": [
        "L = solver.IntVar(0, solver.infinity(), 'L') #en días\n",
        "# Int.Var es una variable entera desde 0 a infinito con nombre L"
      ]
    },
    {
      "cell_type": "markdown",
      "metadata": {},
      "source": [
        "### **Función Objetivo**"
      ]
    },
    {
      "cell_type": "markdown",
      "metadata": {},
      "source": [
        "El objetivo es minimizar la tardanza máxima"
      ]
    },
    {
      "cell_type": "markdown",
      "metadata": {},
      "source": [
        "$$\n",
        "\\min L\n",
        "$$"
      ]
    },
    {
      "cell_type": "code",
      "execution_count": 7,
      "metadata": {
        "trusted": true
      },
      "outputs": [],
      "source": [
        "solver.Minimize(L)"
      ]
    },
    {
      "cell_type": "markdown",
      "metadata": {},
      "source": [
        "### **Restricciones**"
      ]
    },
    {
      "cell_type": "markdown",
      "metadata": {},
      "source": [
        "El tiempo de finalización de cada trabajo es mayor o igual a su tiempo\n",
        "de procesamiento\n",
        "$$\n",
        "C_{j} \\geq p_{j} \\quad \\forall j \\in N\n",
        "$$"
      ]
    },
    {
      "cell_type": "code",
      "execution_count": 8,
      "metadata": {
        "trusted": true
      },
      "outputs": [],
      "source": [
        "for j in N:\n",
        "    solver.Add(C[j] >= p[j-1]) "
      ]
    },
    {
      "cell_type": "markdown",
      "metadata": {},
      "source": [
        "Para cada par $(j, k)$ de trabajos, el trabajo $j$ se procesa antes que el\n",
        "trabajo $k$ o el trabajo $k$ se procesa antes que el trabajo $j$.\n",
        "$$\n",
        "C_{j} + p_{k} \\leq C_{k} + M(1-y_{jk})\n",
        "$$"
      ]
    },
    {
      "cell_type": "code",
      "execution_count": 9,
      "metadata": {
        "trusted": true
      },
      "outputs": [],
      "source": [
        "M = sum(p) # M es la suma de los tiempos de procesamiento de todos los trabajos, una cota superior para C[j]\n",
        "\n",
        "for j in N:\n",
        "    for k in N:\n",
        "        if j != k:\n",
        "            solver.Add(C[j] + p[k-1] <= C[k] + M*(1 - x[j, k]))"
      ]
    },
    {
      "cell_type": "markdown",
      "metadata": {},
      "source": [
        "$$\n",
        "C_{k} + p_{j} \\leq C_{j} + M y_{jk}\n",
        "$$"
      ]
    },
    {
      "cell_type": "code",
      "execution_count": 10,
      "metadata": {
        "trusted": true
      },
      "outputs": [],
      "source": [
        "for j in N:\n",
        "    for k in N:\n",
        "        if j != k:\n",
        "            solver.Add(C[k] + p[j-1] <= C[j] + M*(x[j, k]))"
      ]
    },
    {
      "cell_type": "markdown",
      "metadata": {},
      "source": [
        "$L_{máx}$ debe ser igual a la tardanza máxima."
      ]
    },
    {
      "cell_type": "markdown",
      "metadata": {},
      "source": [
        "$$\n",
        "L_{máx} \\geq C_{j} - d_{j} \\quad \\forall j \\in N\n",
        "$$"
      ]
    },
    {
      "cell_type": "code",
      "execution_count": 11,
      "metadata": {
        "trusted": true
      },
      "outputs": [],
      "source": [
        "for j in N: # Trabajos \n",
        "     solver.Add(L >= C[j] - d[j-1])"
      ]
    },
    {
      "cell_type": "markdown",
      "metadata": {},
      "source": [
        "### **Resolver**"
      ]
    },
    {
      "cell_type": "code",
      "execution_count": 12,
      "metadata": {
        "trusted": true
      },
      "outputs": [
        {
          "data": {
            "text/plain": [
              "0"
            ]
          },
          "execution_count": 12,
          "metadata": {},
          "output_type": "execute_result"
        }
      ],
      "source": [
        "solver.Solve()"
      ]
    },
    {
      "cell_type": "code",
      "execution_count": 13,
      "metadata": {
        "trusted": true
      },
      "outputs": [
        {
          "name": "stdout",
          "output_type": "stream",
          "text": [
            "La tardanza más grande: 16.000000000000085\n"
          ]
        }
      ],
      "source": [
        "print(f'La tardanza más grande: {solver.Objective().Value()}')"
      ]
    }
  ],
  "metadata": {
    "kernelspec": {
      "display_name": "Python 3",
      "language": "python",
      "name": "python3"
    },
    "language_info": {
      "codemirror_mode": {
        "name": "ipython",
        "version": 3
      },
      "file_extension": ".py",
      "mimetype": "text/x-python",
      "name": "python",
      "nbconvert_exporter": "python",
      "pygments_lexer": "ipython3",
      "version": "3.12.1"
    }
  },
  "nbformat": 4,
  "nbformat_minor": 4
}
