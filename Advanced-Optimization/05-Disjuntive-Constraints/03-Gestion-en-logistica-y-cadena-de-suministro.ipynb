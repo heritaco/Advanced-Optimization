{
 "cells": [
  {
   "cell_type": "markdown",
   "metadata": {},
   "source": [
    "<div style=\"position: relative; text-align: center; padding: 30px;\">\n",
    "  <h1><strong>Disjuntive Constraints</strong></h1>\n",
    "</div>"
   ]
  },
  {
   "cell_type": "markdown",
   "metadata": {},
   "source": [
    "Capitulo 9 del libro"
   ]
  },
  {
   "cell_type": "markdown",
   "metadata": {},
   "source": [
    "Primero encontramos las regiones para encontrar la zona factible."
   ]
  },
  {
   "cell_type": "markdown",
   "metadata": {},
   "source": [
    "Cuando $\\delta$ es porque la desigualdad se cumplió, es como una indicadora."
   ]
  },
  {
   "cell_type": "markdown",
   "metadata": {},
   "source": [
    "Lo que tratamos de hacer es cambiar las implicaciones a desigualdades"
   ]
  },
  {
   "cell_type": "markdown",
   "metadata": {},
   "source": [
    "El valor mas grande que toma $x_2$ es 4. $M$ Es una cota superior para la diferencia entre el lado derecho y el izquierdo de la desigualdad."
   ]
  },
  {
   "cell_type": "markdown",
   "metadata": {},
   "source": [
    "$a_j$ es el valor más grande que puede tomar y se resta con la parte derecha de la desigualdad"
   ]
  },
  {
   "cell_type": "markdown",
   "metadata": {},
   "source": [
    "$$\n",
    "\\delta_1 = 1 \\implies x_2 \\leq 3\n",
    "$$\n",
    "\n",
    "$$\n",
    "\\max x_2 = 4\n",
    "$$\n",
    "\n",
    "$$\n",
    "4 - 3 = 1\n",
    "$$"
   ]
  },
  {
   "cell_type": "markdown",
   "metadata": {},
   "source": [
    "15 - 8 = 7 eso es delta"
   ]
  },
  {
   "cell_type": "markdown",
   "metadata": {},
   "source": [
    "### **Problema**"
   ]
  },
  {
   "cell_type": "markdown",
   "metadata": {},
   "source": [
    "Tenemos las siguientes regiones:"
   ]
  },
  {
   "cell_type": "markdown",
   "metadata": {},
   "source": [
    "$$\n",
    "\\begin{aligned}\n",
    "OABJ & = \\begin{cases} \n",
    "x_2 \\leq 3 \\\\\n",
    "x_1 + x_2 \\leq 4 \\\\\n",
    "\\end{cases} \\\\\n",
    "\\\\\n",
    "\n",
    "ODH & = \\begin{cases} \n",
    "-x_1 + x_2 \\leq 0 \\\\\n",
    "3x_1 - x_2 \\leq 8 \\\\\n",
    "\\end{cases} \\\\\n",
    "\\\\\n",
    "\n",
    "OKFG & = \\begin{cases} \n",
    "x_2 \\leq 1 \\\\\n",
    "x_1 \\leq 5 \\\\\n",
    "\\end{cases}\n",
    "\\end{aligned}\n",
    "$$"
   ]
  }
 ],
 "metadata": {
  "language_info": {
   "name": "python"
  }
 },
 "nbformat": 4,
 "nbformat_minor": 2
}
