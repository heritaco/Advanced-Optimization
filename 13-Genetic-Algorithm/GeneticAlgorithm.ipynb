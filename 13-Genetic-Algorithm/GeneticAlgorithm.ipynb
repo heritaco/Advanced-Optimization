{
  "nbformat": 4,
  "nbformat_minor": 0,
  "metadata": {
    "colab": {
      "provenance": []
    },
    "kernelspec": {
      "name": "python3",
      "display_name": "Python 3"
    },
    "language_info": {
      "name": "python"
    }
  },
  "cells": [
    {
      "cell_type": "markdown",
      "source": [
        "Incluir módulos"
      ],
      "metadata": {
        "id": "41n_4QTF-uQJ"
      }
    },
    {
      "cell_type": "code",
      "execution_count": null,
      "metadata": {
        "id": "bTrIUg7d-ni2"
      },
      "outputs": [],
      "source": [
        "import numpy as np\n",
        "import math\n",
        "import random"
      ]
    },
    {
      "cell_type": "markdown",
      "source": [
        "Definición de valores para los parámetros del algoritmo genético"
      ],
      "metadata": {
        "id": "S6xPowEd_Ceh"
      }
    },
    {
      "cell_type": "code",
      "source": [
        "#Parámetros\n",
        "NUM_BITS = 22\n",
        "INTERVAL_MIN = -1\n",
        "INTERVAL_MAX = 2\n",
        "POP_SIZE = 250\n",
        "NUM_GENERATIONS = 250\n",
        "SELECTION_RATE = 0.25"
      ],
      "metadata": {
        "id": "TPWTAzRg_Q27"
      },
      "execution_count": null,
      "outputs": []
    },
    {
      "cell_type": "markdown",
      "source": [
        "Función fitness_function. Debe recibir un valor de $x$ y regresar el valor de $f(x)=x \\sin \\left( 10 \\pi x \\right) + 1$"
      ],
      "metadata": {
        "id": "pf0oi5c3XIQD"
      }
    },
    {
      "cell_type": "code",
      "source": [
        "def fitness_function(x):\n",
        "  return x*np.sin(10*np.pi*x)+1"
      ],
      "metadata": {
        "id": "vRFojEkLXhIC"
      },
      "execution_count": null,
      "outputs": []
    },
    {
      "cell_type": "markdown",
      "source": [
        "Función decode. Recibe una cadena de bits y regresa un valor de $x \\in [-1,2]$\n"
      ],
      "metadata": {
        "id": "D8v9o4_nc1PI"
      }
    },
    {
      "cell_type": "code",
      "source": [
        "def decode(chromosome):\n",
        "  suma=int(chromosome, 2)\n",
        "  x=-1+(INTERVAL_MAX-INTERVAL_MIN)*suma/(2**(NUM_BITS)-1)\n",
        "  return x"
      ],
      "metadata": {
        "id": "74KykFQ3dHw8"
      },
      "execution_count": null,
      "outputs": []
    },
    {
      "cell_type": "markdown",
      "source": [
        "Función generate_initial_population. Genera una población de cadenas de bits de tamaño POP_SIZE"
      ],
      "metadata": {
        "id": "19iasSRLdPqs"
      }
    },
    {
      "cell_type": "code",
      "source": [
        "def generate_initial_population():\n",
        "  popu = set()\n",
        "  while len(popu) < POP_SIZE:\n",
        "    cromo = \"\"\n",
        "    for j in range(NUM_BITS):\n",
        "      z = str(random.randint(0,1))\n",
        "      cromo = cromo + z\n",
        "    popu.add(cromo)\n",
        "  return list(popu)"
      ],
      "metadata": {
        "id": "3AK_Zag3uEDo"
      },
      "execution_count": null,
      "outputs": []
    },
    {
      "cell_type": "markdown",
      "source": [
        "Función evaluate. Recibe la población y regresa los valores de fitness de cada una de las soluciones representadas por los cromosomas de la población."
      ],
      "metadata": {
        "id": "jIPUfyjDdewB"
      }
    },
    {
      "cell_type": "code",
      "source": [
        "def evaluate(poblacion):\n",
        "  fitness = [fitness_function(decode(i))for i in poblacion]\n",
        "  return fitness"
      ],
      "metadata": {
        "id": "etEU8vOddvbM"
      },
      "execution_count": null,
      "outputs": []
    },
    {
      "cell_type": "markdown",
      "source": [],
      "metadata": {
        "id": "xL6otRIu-pTA"
      }
    },
    {
      "cell_type": "markdown",
      "source": [
        "Función selection. Recibe una población de cromosomas y regresa los cromosomas seleccionados. El parámetro SELECTION_RATE define el porcentaje de cromosomas a seleccionar de la población."
      ],
      "metadata": {
        "id": "m4kRTqildv7O"
      }
    },
    {
      "cell_type": "code",
      "source": [
        "def selection(population):\n",
        "  return random.sample(population, int(len(population)*SELECTION_RATE))\n",
        "\n",
        "print(selection(poblacion))\n",
        "print(len(selection(poblacion)))"
      ],
      "metadata": {
        "id": "t4h69B67eov5"
      },
      "execution_count": null,
      "outputs": []
    },
    {
      "cell_type": "markdown",
      "source": [
        "Función crossover. Recibe los cromosomas de los dos padres y regresa los cromosomas de los dos descendientes (hijos)."
      ],
      "metadata": {
        "id": "M1rZ_NjgepWO"
      }
    },
    {
      "cell_type": "code",
      "source": [
        "def crossover(padre1,padre2):\n",
        "  i = np.random.randint(0,len(padre1),1)[0]\n",
        "  hijo1 = padre1[:i] + padre2[i+1:]\n",
        "  hijo2 = padre2[:i] + padre1[i+1:]\n",
        "  return hijo1, hijo2"
      ],
      "metadata": {
        "id": "jkMQ5K_CfFBB"
      },
      "execution_count": null,
      "outputs": []
    },
    {
      "cell_type": "markdown",
      "source": [
        "Función replace. Recibe la población, los valores de fitness de cada uno de los cromosomas de la población y el cromosoma de un descendiente y sustituye la peor solución de la población con el descenciente, siempre y cuando el fitness del descendiente sea mejor que el del peor de la población."
      ],
      "metadata": {
        "id": "Y_qJOyw2fF0n"
      }
    },
    {
      "cell_type": "code",
      "source": [
        "def replace(poblacion, fitness, hijos):\n",
        "  for i in hijos:\n",
        "      if i not in poblacion:\n",
        "        fitness_hijo = fitness_function(decode(i))\n",
        "        peor = np.argmin(fitness)\n",
        "        if fitness_hijo > peor:\n",
        "          poblacion[peor] = i\n",
        "          fitness[peor] = fitness_hijo"
      ],
      "metadata": {
        "id": "41j2OMb3fsKE"
      },
      "execution_count": null,
      "outputs": []
    },
    {
      "cell_type": "markdown",
      "source": [
        "Función print_population. Despliega la población ordenada de mayor a menor con respecto al valor de fitness de cada cromosoma."
      ],
      "metadata": {
        "id": "d5emONmYgD6w"
      }
    },
    {
      "cell_type": "code",
      "source": [
        "def print_population(poblacion, fitness):\n",
        "\n",
        "  datos = list(zip(poblacion, fitness))\n",
        "  datos=sorted(datos,key=lambda x:x[1], reverse=True)\n",
        "\n",
        "  for i in datos:\n",
        "    print(f\"Cromosoma {i}valor:{decode(poblacion(i))} valor de fitness: {fitness_function(decode(i))}\")"
      ],
      "metadata": {
        "id": "SKWbmEfxgT88"
      },
      "execution_count": 1,
      "outputs": []
    },
    {
      "cell_type": "markdown",
      "source": [
        "Función genetic algorithm. Código del algoritmo genético"
      ],
      "metadata": {
        "id": "Nz5SgoNhf5I3"
      }
    },
    {
      "cell_type": "code",
      "source": [
        "def genetic_algorithm ():\n",
        "  poblacion = generate_initial_population()\n",
        "  fitness = evaluate(poblacion)\n",
        "\n",
        "  for i in range(NUM_GENERATIONS):\n",
        "    random_poblacion = selection(poblacion)\n",
        "    hijos = []\n",
        "    for j in range(len(random_poblacion)/2):\n",
        "      padre1 = random_poblacion[j]\n",
        "      padre2 = random_poblacion[len(random_poblacion)-j]\n",
        "\n",
        "      hijo1, hijo2 = crossover(padre1,padre2)\n",
        "      hijos.append(hijo1,hijo2)\n",
        "    replace(poblacion, fitness, hijos)\n"
      ],
      "metadata": {
        "id": "WLAFhvstgC0W"
      },
      "execution_count": 2,
      "outputs": []
    },
    {
      "cell_type": "code",
      "source": [],
      "metadata": {
        "id": "NnjlNJ_7l5J_"
      },
      "execution_count": null,
      "outputs": []
    }
  ]
}