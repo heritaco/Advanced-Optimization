{
 "cells": [
  {
   "cell_type": "code",
   "execution_count": 4,
   "metadata": {},
   "outputs": [],
   "source": [
    "from ortools.linear_solver import pywraplp"
   ]
  },
  {
   "cell_type": "code",
   "execution_count": 5,
   "metadata": {},
   "outputs": [],
   "source": [
    "# Create the solver\n",
    "solver = pywraplp.Solver.CreateSolver('GLOP')\n",
    "epsilon=1e-6"
   ]
  },
  {
   "cell_type": "code",
   "execution_count": 6,
   "metadata": {},
   "outputs": [],
   "source": [
    "# Sets\n",
    "O = {1,7,9,12,15,28,31,37}\n",
    "\n",
    "D = {\n",
    "    3,4,5,10,11,14,16,18,\n",
    "    20,21,22,23,24,25,30,\n",
    "    32,34,36,39,40,45,47,\n",
    "    50,51,55,63,68,71,79,\n",
    "    83,84,85,93,94,100\n",
    "    }\n",
    "\n",
    "P = set(range(1,101))"
   ]
  },
  {
   "cell_type": "code",
   "execution_count": 7,
   "metadata": {},
   "outputs": [],
   "source": [
    "# Dictionaries\n",
    "o={\n",
    "    1: 708, 7: 735, 9: 612, 12: 444,\n",
    "    15: 575, 28: 397, 31: 486, 37: 1758\n",
    "    }\n",
    "\n",
    "d={\n",
    "   3: 195, 4: 136, 5: 234, 10: 224,\n",
    "   11: 123, 14: 159, 16: 142, 18: 130,\n",
    "   20: 165, 21: 243, 22: 148, 23: 219,\n",
    "   24: 230, 25: 201, 30: 237, 32: 223,\n",
    "   34: 177, 36: 135, 39: 150, 40: 132,\n",
    "   45: 166, 47: 110, 50: 132, 51: 108,\n",
    "   55: 132, 63: 181, 68: 207, 71: 152,\n",
    "   79:198, 83: 102, 84: 119, 85: 120,\n",
    "   93: 106, 94: 114, 100: 165\n",
    "   }\n",
    "\n",
    "c={\n",
    "   (1,2): 3, (1,29): 0.6, (2,3): 4.6, (3,4): 0.1, (4,5): 2.8, (4,27): 2.7,\n",
    "   (4,33): 4.5, (5,6): 3.1, (5,7): 0.8, (6,7): 6.9, (6,63): 8.3, (7,8): 3.9,\n",
    "   (8,9): 1.4, (8,52): 3.1, (8,53): 6.6, (9,10): 8.4, (9,48): 9.2, (9,83): 7.5,\n",
    "   (9,99): 2.8, (10,11): 5.9, (11,12): 1, (11,37): 0.4, (12,13): 2.8, (13,8): 7.7,\n",
    "   (13,14): 6.3, (13,42): 0.3, (14,15): 0.9, (14,85): 9, (15,16): 10, (15,50): 3.1,\n",
    "   (15,69): 4.6, (16,17): 9.8, (16,79): 9.6, (17,18): 7, (18,19): 9.4, (18,75): 10,\n",
    "   (19,7): 0.9, (19,20): 2.2, (19,60): 5.3, (19,92): 7, (20,19): 3, (20,21): 1.4,\n",
    "   (20,93): 3.5, (21,14): 8.2, (21,22): 8.7, (21,81): 3.4, (22,23): 8.2, (22,52): 1.1,\n",
    "   (23,24): 5.5, (24,25): 0.2, (24,59): 6.3, (25,26): 3.2, (25,99): 1.9, (26,27): 7.7,\n",
    "   (26,29): 2, (26,32): 2.6, (27,14): 4.8, (27,28): 9.5, (28,29): 2.9, (29,30): 5.9,\n",
    "   (30,31): 9.1, (30,57): 3.7, (30,70): 0.5, (31,32): 8.9, (31,63): 8.2, (31,69): 5.3,\n",
    "   (32,33): 5, (33,34): 4, (33,49): 7.7, (34,35): 8.8, (34,94): 5.2, (35,7): 0.7,\n",
    "   (35,36): 9.4, (35,60): 0.5, (35,80): 4.6, (36,37): 6, (37,38): 2.1, (37,81): 1.4,\n",
    "   (38,16): 7, (38,18): 2.7, (38,39): 8.9, (39,21): 5.9, (39,40): 4.7, (39,76): 8.9,\n",
    "   (40,41): 6.3, (41,42): 4.5, (41,44): 8, (41,76): 4.2, (42,43): 4.6, (42,45): 6.8,\n",
    "   (42,57): 0.5, (42,85): 3.4, (43,44): 2.4, (44,12): 5.6, (44,45): 7.7, (45,46): 6,\n",
    "   (45,59): 3.3, (45,68): 1.9, (46,47): 4.5, (47,48): 5, (48,49): 9.3, (48,98): 5.3,\n",
    "   (49,8): 9.6, (49,50): 2.2, (50,27): 1.6, (50,51): 8.4, (51,52): 1.6, (52,53): 8.5,\n",
    "   (52,95): 9.6, (53,54): 6.8, (54,17): 4.5, (54,40): 5.2, (54,55): 9.3, (54,59): 7.5,\n",
    "   (54,86): 3.5, (55,56): 3.7, (56,30): 7.6, (56,57): 2.6, (57,58): 2.9, (58,17): 6,\n",
    "   (58,47): 6.8, (58,59): 3.8, (58,73): 3.7, (59,60): 1, (60,27): 8.6, (60,52): 3.4,\n",
    "   (60,61): 3.2, (61,62): 6.7, (61,65): 7.3, (62,7): 5.5, (62,38): 5.6, (62,63): 6.6,\n",
    "   (62,94): 9.6, (63,64): 5.2, (64,51): 8.9, (64,65): 1.9, (65,66): 3.9, (65,94): 6.1,\n",
    "   (66,67): 1.2, (67,68): 8.6, (68,4): 2.8, (68,69): 7.2, (69,70): 7.3, (70,30): 7.4,\n",
    "   (70,71): 6.5, (71,72): 0.2, (72,73): 0.8, (73,4): 4.1, (73,33): 8.8, (73,74): 9.6,\n",
    "   (74,53): 5, (74,75): 4.3, (75,22): 4.8, (75,76): 3.9, (76,77): 6.1, (77,78): 9,\n",
    "   (78,79): 0.8, (79,3): 5.7, (79,80): 5.8, (80,5): 9, (80,81): 9.1, (80,91): 8.4,\n",
    "   (81,30): 9.9, (81,82): 5.8, (81,95): 5.4, (82,83): 1.3, (83,84): 7.9, (84,85): 5.9,\n",
    "   (85,13): 2.2, (85,69): 5.1, (85,86): 2.8, (86,87): 4.6, (87,88): 2.4, (87,91): 1.7,\n",
    "   (88,33): 0.8, (88,89): 6.3, (89,90): 8.1, (90,91): 1.4, (90,95): 9.6, (91,75): 3.3,\n",
    "   (91,76): 5.1, (91,78): 3.2, (91,92): 5.2, (92,93): 6.4, (93,94): 7.5, (94,90): 6.3,\n",
    "   (94,95): 7.1, (95,1): 3.1, (95,30): 9.6, (95,55): 4.7, (95,96): 5.1, (96,5): 8.7,\n",
    "   (96,97): 7.5, (97,66): 8.1, (97,98): 5.7, (98,99): 3.1, (99,3): 4.9, (99,32): 3.5,\n",
    "   (99,100): 4.9, (100,1): 8.8\n",
    "   }"
   ]
  },
  {
   "cell_type": "code",
   "execution_count": 8,
   "metadata": {},
   "outputs": [],
   "source": [
    "# Variables\n",
    "x = {} # Initialize the dictionary of variables\n",
    "for i in P: \n",
    "    for j in P:\n",
    "        if c.get((i, j), 0) != 0: # If the cost is not zero\n",
    "            x[i, j] = solver.NumVar(0, solver.infinity(), f'x_{i}_{j}') # Create the variable"
   ]
  },
  {
   "cell_type": "code",
   "execution_count": 9,
   "metadata": {},
   "outputs": [],
   "source": [
    "# Objective function\n",
    "Cost = solver.Objective()\n",
    "Cost = sum(c[i, j] * x[i, j] for i in P for j in P if c.get((i, j), 0) != 0)\n",
    "solver.Minimize(Cost)"
   ]
  },
  {
   "cell_type": "code",
   "execution_count": 10,
   "metadata": {},
   "outputs": [],
   "source": [
    "# Constraints\n",
    "for i in O:\n",
    "    solver.Add(sum(x[j, i] for j in P if c.get((j, i), 0) != 0) + o[i] == sum(x[i,j] for j in P if c.get((i, j),0) != 0))\n",
    "\n",
    "for i in D:\n",
    "    solver.Add(sum(x[j, i] for j in P if c.get((j, i), 0) != 0) - d[i] == sum(x[i, j] for j in P if c.get((i, j), 0) != 0))\n",
    "\n",
    "for i in P - set(O) - set(D):\n",
    "    solver.Add(sum(x[j, i] for j in P if c.get((j, i), 0) != 0) == sum(x[i, j] for j in P if c.get((i, j), 0) != 0))"
   ]
  },
  {
   "cell_type": "code",
   "execution_count": 11,
   "metadata": {},
   "outputs": [
    {
     "data": {
      "text/plain": [
       "0"
      ]
     },
     "execution_count": 11,
     "metadata": {},
     "output_type": "execute_result"
    }
   ],
   "source": [
    "# Solve the problem\n",
    "solver.Solve()"
   ]
  },
  {
   "cell_type": "code",
   "execution_count": 12,
   "metadata": {},
   "outputs": [
    {
     "name": "stdout",
     "output_type": "stream",
     "text": [
      "Costo mínimo: 89025000.0\n",
      "Enviar 606000 barriles del puerto 1 al puerto 2\n",
      "Enviar 102000 barriles del puerto 1 al puerto 29\n",
      "Enviar 606000 barriles del puerto 2 al puerto 3\n",
      "Enviar 411000 barriles del puerto 3 al puerto 4\n",
      "Enviar 234000 barriles del puerto 4 al puerto 5\n",
      "Enviar 41000 barriles del puerto 4 al puerto 33\n",
      "Enviar 735000 barriles del puerto 7 al puerto 8\n",
      "Enviar 473000 barriles del puerto 8 al puerto 9\n",
      "Enviar 130000 barriles del puerto 8 al puerto 52\n",
      "Enviar 132000 barriles del puerto 8 al puerto 53\n",
      "Enviar 347000 barriles del puerto 9 al puerto 10\n",
      "Enviar 221000 barriles del puerto 9 al puerto 83\n",
      "Enviar 517000 barriles del puerto 9 al puerto 99\n",
      "Enviar 123000 barriles del puerto 10 al puerto 11\n",
      "Enviar 444000 barriles del puerto 12 al puerto 13\n",
      "Enviar 444000 barriles del puerto 13 al puerto 42\n",
      "Enviar 176000 barriles del puerto 15 al puerto 16\n",
      "Enviar 399000 barriles del puerto 15 al puerto 50\n",
      "Enviar 198000 barriles del puerto 16 al puerto 79\n",
      "Enviar 271000 barriles del puerto 18 al puerto 19\n",
      "Enviar 798000 barriles del puerto 18 al puerto 75\n",
      "Enviar 271000 barriles del puerto 19 al puerto 20\n",
      "Enviar 106000 barriles del puerto 20 al puerto 93\n",
      "Enviar 650000 barriles del puerto 22 al puerto 23\n",
      "Enviar 431000 barriles del puerto 23 al puerto 24\n",
      "Enviar 201000 barriles del puerto 24 al puerto 25\n",
      "Enviar 159000 barriles del puerto 27 al puerto 14\n",
      "Enviar 397000 barriles del puerto 28 al puerto 29\n",
      "Enviar 499000 barriles del puerto 29 al puerto 30\n",
      "Enviar 110000 barriles del puerto 30 al puerto 57\n",
      "Enviar 152000 barriles del puerto 30 al puerto 70\n",
      "Enviar 142000 barriles del puerto 31 al puerto 32\n",
      "Enviar 344000 barriles del puerto 31 al puerto 63\n",
      "Enviar 271000 barriles del puerto 32 al puerto 33\n",
      "Enviar 312000 barriles del puerto 33 al puerto 34\n",
      "Enviar 135000 barriles del puerto 34 al puerto 35\n",
      "Enviar 135000 barriles del puerto 35 al puerto 36\n",
      "Enviar 1756000 barriles del puerto 37 al puerto 38\n",
      "Enviar 2000 barriles del puerto 37 al puerto 81\n",
      "Enviar 164000 barriles del puerto 38 al puerto 16\n",
      "Enviar 1199000 barriles del puerto 38 al puerto 18\n",
      "Enviar 393000 barriles del puerto 38 al puerto 39\n",
      "Enviar 243000 barriles del puerto 39 al puerto 21\n",
      "Enviar 324000 barriles del puerto 42 al puerto 45\n",
      "Enviar 120000 barriles del puerto 42 al puerto 85\n",
      "Enviar 158000 barriles del puerto 45 al puerto 68\n",
      "Enviar 159000 barriles del puerto 50 al puerto 27\n",
      "Enviar 108000 barriles del puerto 50 al puerto 51\n",
      "Enviar 130000 barriles del puerto 52 al puerto 95\n",
      "Enviar 132000 barriles del puerto 53 al puerto 54\n",
      "Enviar 132000 barriles del puerto 54 al puerto 40\n",
      "Enviar 110000 barriles del puerto 57 al puerto 58\n",
      "Enviar 110000 barriles del puerto 58 al puerto 47\n",
      "Enviar 163000 barriles del puerto 63 al puerto 64\n",
      "Enviar 163000 barriles del puerto 64 al puerto 65\n",
      "Enviar 49000 barriles del puerto 65 al puerto 66\n",
      "Enviar 114000 barriles del puerto 65 al puerto 94\n",
      "Enviar 49000 barriles del puerto 66 al puerto 67\n",
      "Enviar 49000 barriles del puerto 67 al puerto 68\n",
      "Enviar 152000 barriles del puerto 70 al puerto 71\n",
      "Enviar 798000 barriles del puerto 75 al puerto 22\n",
      "Enviar 2000 barriles del puerto 81 al puerto 95\n",
      "Enviar 119000 barriles del puerto 83 al puerto 84\n",
      "Enviar 132000 barriles del puerto 95 al puerto 55\n",
      "Enviar 352000 barriles del puerto 99 al puerto 32\n",
      "Enviar 165000 barriles del puerto 99 al puerto 100\n"
     ]
    }
   ],
   "source": [
    "# Print the results\n",
    "print(f'Costo mínimo: {solver.Objective().Value()*1000}')\n",
    "for i in P:\n",
    "    for j in P:\n",
    "        if c.get((i, j), 0) != 0 and x[i, j].solution_value() > epsilon:\n",
    "            print(f'Enviar {round(x[i, j].solution_value())*1000} barriles del puerto {i} al puerto {j}')"
   ]
  }
 ],
 "metadata": {
  "kernelspec": {
   "display_name": "Python 3",
   "language": "python",
   "name": "python3"
  },
  "language_info": {
   "codemirror_mode": {
    "name": "ipython",
    "version": 3
   },
   "file_extension": ".py",
   "mimetype": "text/x-python",
   "name": "python",
   "nbconvert_exporter": "python",
   "pygments_lexer": "ipython3",
   "version": "3.12.1"
  }
 },
 "nbformat": 4,
 "nbformat_minor": 2
}
