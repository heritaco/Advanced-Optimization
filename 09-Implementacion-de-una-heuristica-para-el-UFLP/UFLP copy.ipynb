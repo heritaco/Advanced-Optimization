{
 "cells": [
  {
   "cell_type": "markdown",
   "metadata": {},
   "source": [
    "$|J| \\quad |I|$\n",
    "\n",
    "$n_i \\quad f_i \\quad c_{ij}$"
   ]
  },
  {
   "cell_type": "code",
   "execution_count": 1,
   "metadata": {},
   "outputs": [],
   "source": [
    "with open('UFLP-1.txt', 'r') as file:\n",
    "    # Leer la primera línea (n = ubicaciones potenciales, m = puntos de demanda)\n",
    "    n, m = map(int, file.readline().split())\n",
    "\n",
    "    fixed_costs = []\n",
    "    assignment_costs = []\n",
    "\n",
    "    # Leer las siguientes líneas con los costos fijos y de asignación\n",
    "    for _ in range(n):\n",
    "        data = list(map(int, file.readline().split()))\n",
    "        fixed_costs.append(data[1])  # Segundo valor es el costo fijo\n",
    "        assignment_costs.append(data[2:])  # Los siguientes son los costos de asignación\n"
   ]
  },
  {
   "cell_type": "code",
   "execution_count": 2,
   "metadata": {},
   "outputs": [
    {
     "data": {
      "text/plain": [
       "50"
      ]
     },
     "execution_count": 2,
     "metadata": {},
     "output_type": "execute_result"
    }
   ],
   "source": [
    "n"
   ]
  },
  {
   "cell_type": "code",
   "execution_count": 3,
   "metadata": {},
   "outputs": [
    {
     "data": {
      "text/plain": [
       "100"
      ]
     },
     "execution_count": 3,
     "metadata": {},
     "output_type": "execute_result"
    }
   ],
   "source": [
    "m"
   ]
  },
  {
   "cell_type": "code",
   "execution_count": 7,
   "metadata": {},
   "outputs": [
    {
     "data": {
      "text/plain": [
       "4751"
      ]
     },
     "execution_count": 7,
     "metadata": {},
     "output_type": "execute_result"
    }
   ],
   "source": [
    "fixed_costs[0]"
   ]
  },
  {
   "cell_type": "code",
   "execution_count": 6,
   "metadata": {},
   "outputs": [
    {
     "data": {
      "text/plain": [
       "[707,\n",
       " 164,\n",
       " 75,\n",
       " 771,\n",
       " 276,\n",
       " 81,\n",
       " 460,\n",
       " 376,\n",
       " 900,\n",
       " 47,\n",
       " 700,\n",
       " 664,\n",
       " 271,\n",
       " 158,\n",
       " 623,\n",
       " 522,\n",
       " 953,\n",
       " 105,\n",
       " 914,\n",
       " 927,\n",
       " 726,\n",
       " 600,\n",
       " 294,\n",
       " 33,\n",
       " 113,\n",
       " 176,\n",
       " 349,\n",
       " 427,\n",
       " 420,\n",
       " 828,\n",
       " 124,\n",
       " 778,\n",
       " 147,\n",
       " 471,\n",
       " 62,\n",
       " 583,\n",
       " 108,\n",
       " 665,\n",
       " 384,\n",
       " 253,\n",
       " 101,\n",
       " 603,\n",
       " 515,\n",
       " 232,\n",
       " 476,\n",
       " 803,\n",
       " 629,\n",
       " 388,\n",
       " 441,\n",
       " 492,\n",
       " 929,\n",
       " 381,\n",
       " 457,\n",
       " 143,\n",
       " 741,\n",
       " 234,\n",
       " 558,\n",
       " 136,\n",
       " 17,\n",
       " 823,\n",
       " 938,\n",
       " 10,\n",
       " 351,\n",
       " 513,\n",
       " 662,\n",
       " 272,\n",
       " 87,\n",
       " 636,\n",
       " 829,\n",
       " 242,\n",
       " 628,\n",
       " 62,\n",
       " 40,\n",
       " 894,\n",
       " 524,\n",
       " 552,\n",
       " 514,\n",
       " 157,\n",
       " 449,\n",
       " 135,\n",
       " 692,\n",
       " 663,\n",
       " 645,\n",
       " 206,\n",
       " 676,\n",
       " 389,\n",
       " 942,\n",
       " 588,\n",
       " 345,\n",
       " 180,\n",
       " 930,\n",
       " 253,\n",
       " 495,\n",
       " 606,\n",
       " 401,\n",
       " 939,\n",
       " 839,\n",
       " 139,\n",
       " 626,\n",
       " 369]"
      ]
     },
     "execution_count": 6,
     "metadata": {},
     "output_type": "execute_result"
    }
   ],
   "source": [
    "assignment_costs[0]"
   ]
  },
  {
   "cell_type": "code",
   "execution_count": null,
   "metadata": {},
   "outputs": [
    {
     "ename": "TypeError",
     "evalue": "list indices must be integers or slices, not tuple",
     "output_type": "error",
     "traceback": [
      "\u001b[1;31m---------------------------------------------------------------------------\u001b[0m",
      "\u001b[1;31mTypeError\u001b[0m                                 Traceback (most recent call last)",
      "Cell \u001b[1;32mIn[20], line 106\u001b[0m\n\u001b[0;32m    103\u001b[0m     \u001b[38;5;28;01mreturn\u001b[39;00m fixed_cost \u001b[38;5;241m+\u001b[39m assignment_cost\n\u001b[0;32m    105\u001b[0m \u001b[38;5;66;03m# Example usage:\u001b[39;00m\n\u001b[1;32m--> 106\u001b[0m selected_facilities, allocations, initial_cost \u001b[38;5;241m=\u001b[39m \u001b[43madd_heuristic\u001b[49m\u001b[43m(\u001b[49m\u001b[43mn\u001b[49m\u001b[43m,\u001b[49m\u001b[43m \u001b[49m\u001b[43mm\u001b[49m\u001b[43m,\u001b[49m\u001b[43m \u001b[49m\u001b[43mfixed_costs\u001b[49m\u001b[43m,\u001b[49m\u001b[43m \u001b[49m\u001b[43massignment_costs\u001b[49m\u001b[43m)\u001b[49m\n\u001b[0;32m    107\u001b[0m selected_facilities, allocations, improved_cost \u001b[38;5;241m=\u001b[39m local_search(n, m, fixed_costs, assignment_costs, selected_facilities, allocations)\n\u001b[0;32m    108\u001b[0m \u001b[38;5;28mprint\u001b[39m(\u001b[38;5;124mf\u001b[39m\u001b[38;5;124m\"\u001b[39m\u001b[38;5;124mInitial cost: \u001b[39m\u001b[38;5;132;01m{\u001b[39;00minitial_cost\u001b[38;5;132;01m}\u001b[39;00m\u001b[38;5;124m, Improved cost: \u001b[39m\u001b[38;5;132;01m{\u001b[39;00mimproved_cost\u001b[38;5;132;01m}\u001b[39;00m\u001b[38;5;124m\"\u001b[39m)\n",
      "Cell \u001b[1;32mIn[20], line 26\u001b[0m, in \u001b[0;36madd_heuristic\u001b[1;34m(n, m, fixed_costs, assignment_costs)\u001b[0m\n\u001b[0;32m     24\u001b[0m         g[j] \u001b[38;5;241m=\u001b[39m np\u001b[38;5;241m.\u001b[39minf  \u001b[38;5;66;03m# No considerar instalaciones ya seleccionadas\u001b[39;00m\n\u001b[0;32m     25\u001b[0m     \u001b[38;5;28;01melse\u001b[39;00m:\n\u001b[1;32m---> 26\u001b[0m         g[j] \u001b[38;5;241m=\u001b[39m fixed_costs[j] \u001b[38;5;241m+\u001b[39m \u001b[38;5;28;43msum\u001b[39;49m\u001b[43m(\u001b[49m\n\u001b[0;32m     27\u001b[0m \u001b[43m            \u001b[49m\u001b[38;5;28;43mmin\u001b[39;49m\u001b[43m(\u001b[49m\u001b[43massignment_costs\u001b[49m\u001b[43m[\u001b[49m\u001b[43mi\u001b[49m\u001b[43m,\u001b[49m\u001b[43m \u001b[49m\u001b[43mj\u001b[49m\u001b[43m]\u001b[49m\u001b[43m \u001b[49m\u001b[38;5;241;43m-\u001b[39;49m\u001b[43m \u001b[49m\u001b[43massignment_costs\u001b[49m\u001b[43m[\u001b[49m\u001b[43mi\u001b[49m\u001b[43m,\u001b[49m\u001b[43m \u001b[49m\u001b[43mallocations\u001b[49m\u001b[43m[\u001b[49m\u001b[43mi\u001b[49m\u001b[43m]\u001b[49m\u001b[43m]\u001b[49m\u001b[43m,\u001b[49m\u001b[43m \u001b[49m\u001b[38;5;241;43m0\u001b[39;49m\u001b[43m)\u001b[49m\n\u001b[0;32m     28\u001b[0m \u001b[43m            \u001b[49m\u001b[38;5;28;43;01mfor\u001b[39;49;00m\u001b[43m \u001b[49m\u001b[43mi\u001b[49m\u001b[43m \u001b[49m\u001b[38;5;129;43;01min\u001b[39;49;00m\u001b[43m \u001b[49m\u001b[38;5;28;43mrange\u001b[39;49m\u001b[43m(\u001b[49m\u001b[43mm\u001b[49m\u001b[43m)\u001b[49m\n\u001b[0;32m     29\u001b[0m \u001b[43m        \u001b[49m\u001b[43m)\u001b[49m\n\u001b[0;32m     31\u001b[0m j_star \u001b[38;5;241m=\u001b[39m np\u001b[38;5;241m.\u001b[39margmin(g)\n\u001b[0;32m     32\u001b[0m \u001b[38;5;28;01mif\u001b[39;00m g[j_star] \u001b[38;5;241m>\u001b[39m\u001b[38;5;241m=\u001b[39m \u001b[38;5;241m0\u001b[39m:\n",
      "Cell \u001b[1;32mIn[20], line 27\u001b[0m, in \u001b[0;36m<genexpr>\u001b[1;34m(.0)\u001b[0m\n\u001b[0;32m     24\u001b[0m         g[j] \u001b[38;5;241m=\u001b[39m np\u001b[38;5;241m.\u001b[39minf  \u001b[38;5;66;03m# No considerar instalaciones ya seleccionadas\u001b[39;00m\n\u001b[0;32m     25\u001b[0m     \u001b[38;5;28;01melse\u001b[39;00m:\n\u001b[0;32m     26\u001b[0m         g[j] \u001b[38;5;241m=\u001b[39m fixed_costs[j] \u001b[38;5;241m+\u001b[39m \u001b[38;5;28msum\u001b[39m(\n\u001b[1;32m---> 27\u001b[0m             \u001b[38;5;28mmin\u001b[39m(\u001b[43massignment_costs\u001b[49m\u001b[43m[\u001b[49m\u001b[43mi\u001b[49m\u001b[43m,\u001b[49m\u001b[43m \u001b[49m\u001b[43mj\u001b[49m\u001b[43m]\u001b[49m \u001b[38;5;241m-\u001b[39m assignment_costs[i, allocations[i]], \u001b[38;5;241m0\u001b[39m)\n\u001b[0;32m     28\u001b[0m             \u001b[38;5;28;01mfor\u001b[39;00m i \u001b[38;5;129;01min\u001b[39;00m \u001b[38;5;28mrange\u001b[39m(m)\n\u001b[0;32m     29\u001b[0m         )\n\u001b[0;32m     31\u001b[0m j_star \u001b[38;5;241m=\u001b[39m np\u001b[38;5;241m.\u001b[39margmin(g)\n\u001b[0;32m     32\u001b[0m \u001b[38;5;28;01mif\u001b[39;00m g[j_star] \u001b[38;5;241m>\u001b[39m\u001b[38;5;241m=\u001b[39m \u001b[38;5;241m0\u001b[39m:\n",
      "\u001b[1;31mTypeError\u001b[0m: list indices must be integers or slices, not tuple"
     ]
    }
   ],
   "source": [
    "import numpy as np\n",
    "import numpy as np\n",
    "\n",
    "def initialize_uflp(n, m, fixed_costs, assignment_costs):\n",
    "    selected_facilities = set()  # Conjunto de instalaciones seleccionadas\n",
    "    allocations = np.full(m, -1)  # Almacena a qué instalación se asigna cada punto de demanda\n",
    "    return selected_facilities, allocations\n",
    "\n",
    "def add_heuristic(n, m, fixed_costs, assignment_costs):\n",
    "    \"\"\"Implementa la heurística ADD para obtener una solución inicial.\"\"\"\n",
    "    selected_facilities, allocations = initialize_uflp(n, m, fixed_costs, assignment_costs)\n",
    "\n",
    "    # Paso 1: Seleccionar la primera instalación\n",
    "    costs = np.sum(assignment_costs, axis=1) + fixed_costs\n",
    "    j_star = np.argmin(costs)\n",
    "    selected_facilities.add(j_star)\n",
    "    allocations[:] = j_star  # Asignar todos los puntos de demanda a esta instalación\n",
    "    total_cost = costs[j_star]\n",
    "\n",
    "    # Paso 2: Agregar instalaciones mientras haya reducción en el costo\n",
    "    while True:\n",
    "        g = np.zeros(n)\n",
    "        for j in range(n):\n",
    "            if j in selected_facilities:\n",
    "                g[j] = np.inf  # No considerar instalaciones ya seleccionadas\n",
    "            else:\n",
    "                g[j] = fixed_costs[j] + sum(\n",
    "                    min(assignment_costs[i, j] - assignment_costs[i, allocations[i]], 0)\n",
    "                    for i in range(m)\n",
    "                )\n",
    "        \n",
    "        j_star = np.argmin(g)\n",
    "        if g[j_star] >= 0:\n",
    "            break  # Si no hay mejora, detenerse\n",
    "\n",
    "        selected_facilities.add(j_star)\n",
    "        total_cost += g[j_star]\n",
    "\n",
    "        # Reasignar puntos de demanda si es más barato con la nueva instalación\n",
    "        for i in range(m):\n",
    "            if assignment_costs[i, j_star] < assignment_costs[i, allocations[i]]:\n",
    "                allocations[i] = j_star\n",
    "\n",
    "    return selected_facilities, allocations, total_cost\n",
    "\n",
    "def local_search(n, m, fixed_costs, assignment_costs, selected_facilities, allocations):\n",
    "    \"\"\"Búsqueda local para mejorar la solución.\"\"\"\n",
    "    improved = True\n",
    "    best_cost = calculate_cost(fixed_costs, assignment_costs, selected_facilities, allocations)\n",
    "    \n",
    "    while improved:\n",
    "        improved = False\n",
    "        current_facilities = list(selected_facilities)\n",
    "\n",
    "        # Intentar eliminar una instalación\n",
    "        for j in current_facilities:\n",
    "            if len(selected_facilities) == 1:\n",
    "                break  # No podemos eliminar la última instalación\n",
    "            \n",
    "            new_facilities = selected_facilities - {j}\n",
    "            new_allocations = np.full(m, -1)\n",
    "\n",
    "            # Asignar cada punto de demanda a la mejor instalación disponible\n",
    "            for i in range(m):\n",
    "                best_j = min(new_facilities, key=lambda x: assignment_costs[i, x])\n",
    "                new_allocations[i] = best_j\n",
    "\n",
    "            new_cost = calculate_cost(fixed_costs, assignment_costs, new_facilities, new_allocations)\n",
    "            if new_cost < best_cost:\n",
    "                selected_facilities = new_facilities\n",
    "                allocations = new_allocations\n",
    "                best_cost = new_cost\n",
    "                improved = True\n",
    "                break  # Aplicar el primer mejoramiento encontrado\n",
    "\n",
    "        # Intentar agregar una nueva instalación si no hubo mejora con eliminación\n",
    "        if not improved:\n",
    "            for j in range(n):\n",
    "                if j in selected_facilities:\n",
    "                    continue  # No considerar instalaciones ya seleccionadas\n",
    "\n",
    "                new_facilities = selected_facilities | {j}\n",
    "                new_allocations = np.full(m, -1)\n",
    "\n",
    "                # Reasignar cada punto de demanda a la mejor instalación disponible\n",
    "                for i in range(m):\n",
    "                    best_j = min(new_facilities, key=lambda x: assignment_costs[i, x])\n",
    "                    new_allocations[i] = best_j\n",
    "\n",
    "                new_cost = calculate_cost(fixed_costs, assignment_costs, new_facilities, new_allocations)\n",
    "                if new_cost < best_cost:\n",
    "                    selected_facilities = new_facilities\n",
    "                    allocations = new_allocations\n",
    "                    best_cost = new_cost\n",
    "                    improved = True\n",
    "                    break\n",
    "\n",
    "    return selected_facilities, allocations, best_cost\n",
    "\n",
    "def calculate_cost(fixed_costs, assignment_costs, facilities, allocations):\n",
    "    \"\"\"Calcula el costo total de la solución dada.\"\"\"\n",
    "    fixed_cost = sum(fixed_costs[j] for j in facilities)\n",
    "    assignment_cost = sum(assignment_costs[i, allocations[i]] for i in range(len(allocations)))\n",
    "    return fixed_cost + assignment_cost\n",
    "\n",
    "# Example usage:\n",
    "selected_facilities, allocations, initial_cost = add_heuristic(n, m, fixed_costs, assignment_costs)\n",
    "selected_facilities, allocations, improved_cost = local_search(n, m, fixed_costs, assignment_costs, selected_facilities, allocations)\n",
    "print(f\"Initial cost: {initial_cost}, Improved cost: {improved_cost}\")\n"
   ]
  },
  {
   "cell_type": "code",
   "execution_count": null,
   "metadata": {},
   "outputs": [],
   "source": [
    "def read_uflp_instance(file_path):\n",
    "    with open(file_path, 'r') as file:\n",
    "        # Leer la primera línea (n = ubicaciones potenciales, m = puntos de demanda)\n",
    "        n, m = map(int, file.readline().split())\n",
    "\n",
    "        fixed_costs = []\n",
    "        assignment_costs = []\n",
    "\n",
    "        # Leer las siguientes líneas con los costos fijos y de asignación\n",
    "        for _ in range(n):\n",
    "            data = list(map(int, file.readline().split()))\n",
    "            fixed_costs.append(data[1])  # Segundo valor es el costo fijo\n",
    "            assignment_costs.append(data[2:])  # Los siguientes son los costos de asignación\n",
    "\n",
    "    return n, m, fixed_costs, assignment_costs\n",
    "\n",
    "# "
   ]
  },
  {
   "cell_type": "code",
   "execution_count": 12,
   "metadata": {},
   "outputs": [
    {
     "ename": "ValueError",
     "evalue": "operands could not be broadcast together with shapes (100,) (50,) ",
     "output_type": "error",
     "traceback": [
      "\u001b[1;31m---------------------------------------------------------------------------\u001b[0m",
      "\u001b[1;31mValueError\u001b[0m                                Traceback (most recent call last)",
      "Cell \u001b[1;32mIn[12], line 8\u001b[0m\n\u001b[0;32m      5\u001b[0m \u001b[38;5;66;03m# Crear el modelo y ejecutar la heurística\u001b[39;00m\n\u001b[0;32m      6\u001b[0m uflp \u001b[38;5;241m=\u001b[39m UFLP(n, m, fixed_costs, assignment_costs)\n\u001b[1;32m----> 8\u001b[0m \u001b[38;5;28mprint\u001b[39m(\u001b[38;5;124m\"\u001b[39m\u001b[38;5;124mCosto inicial (heurística ADD):\u001b[39m\u001b[38;5;124m\"\u001b[39m, \u001b[43muflp\u001b[49m\u001b[38;5;241;43m.\u001b[39;49m\u001b[43madd_heuristic\u001b[49m\u001b[43m(\u001b[49m\u001b[43m)\u001b[49m)\n\u001b[0;32m      9\u001b[0m \u001b[38;5;28mprint\u001b[39m(\u001b[38;5;124m\"\u001b[39m\u001b[38;5;124mCosto mejorado (búsqueda local):\u001b[39m\u001b[38;5;124m\"\u001b[39m, uflp\u001b[38;5;241m.\u001b[39mlocal_search())\n\u001b[0;32m     10\u001b[0m \u001b[38;5;28mprint\u001b[39m(\u001b[38;5;124m\"\u001b[39m\u001b[38;5;124mUbicaciones seleccionadas:\u001b[39m\u001b[38;5;124m\"\u001b[39m, uflp\u001b[38;5;241m.\u001b[39mselected_facilities)\n",
      "Cell \u001b[1;32mIn[8], line 18\u001b[0m, in \u001b[0;36mUFLP.add_heuristic\u001b[1;34m(self)\u001b[0m\n\u001b[0;32m     15\u001b[0m \u001b[38;5;28mself\u001b[39m\u001b[38;5;241m.\u001b[39mallocations \u001b[38;5;241m=\u001b[39m np\u001b[38;5;241m.\u001b[39mfull(\u001b[38;5;28mself\u001b[39m\u001b[38;5;241m.\u001b[39mm, \u001b[38;5;241m-\u001b[39m\u001b[38;5;241m1\u001b[39m)\n\u001b[0;32m     17\u001b[0m \u001b[38;5;66;03m# Paso 1: Seleccionar la primera instalación\u001b[39;00m\n\u001b[1;32m---> 18\u001b[0m costs \u001b[38;5;241m=\u001b[39m \u001b[38;5;28;43mself\u001b[39;49m\u001b[38;5;241;43m.\u001b[39;49m\u001b[43massignment_costs\u001b[49m\u001b[38;5;241;43m.\u001b[39;49m\u001b[43msum\u001b[49m\u001b[43m(\u001b[49m\u001b[43maxis\u001b[49m\u001b[38;5;241;43m=\u001b[39;49m\u001b[38;5;241;43m0\u001b[39;49m\u001b[43m)\u001b[49m\u001b[43m \u001b[49m\u001b[38;5;241;43m+\u001b[39;49m\u001b[43m \u001b[49m\u001b[38;5;28;43mself\u001b[39;49m\u001b[38;5;241;43m.\u001b[39;49m\u001b[43mfixed_costs\u001b[49m\n\u001b[0;32m     19\u001b[0m j_star \u001b[38;5;241m=\u001b[39m np\u001b[38;5;241m.\u001b[39margmin(costs)\n\u001b[0;32m     20\u001b[0m \u001b[38;5;28mself\u001b[39m\u001b[38;5;241m.\u001b[39mselected_facilities\u001b[38;5;241m.\u001b[39madd(j_star)\n",
      "\u001b[1;31mValueError\u001b[0m: operands could not be broadcast together with shapes (100,) (50,) "
     ]
    }
   ],
   "source": [
    "# Leer datos del archivo\n",
    "file_path = \"UFLP-1.txt\"  # Reemplaza con la ruta correcta si es necesario\n",
    "n, m, fixed_costs, assignment_costs = read_uflp_instance(file_path)\n",
    "\n",
    "# Crear el modelo y ejecutar la heurística\n",
    "uflp = UFLP(n, m, fixed_costs, assignment_costs)\n",
    "\n",
    "print(\"Costo inicial (heurística ADD):\", uflp.add_heuristic())\n",
    "print(\"Costo mejorado (búsqueda local):\", uflp.local_search())\n",
    "print(\"Ubicaciones seleccionadas:\", uflp.selected_facilities)\n",
    "print(\"Asignaciones de demanda:\", uflp.allocations)\n"
   ]
  },
  {
   "cell_type": "code",
   "execution_count": 9,
   "metadata": {},
   "outputs": [],
   "source": [
    "\n",
    "\n",
    "uflp = UFLP(n, m, fixed_costs, assignment_costs)\n",
    "\n"
   ]
  },
  {
   "cell_type": "code",
   "execution_count": 10,
   "metadata": {},
   "outputs": [
    {
     "ename": "ValueError",
     "evalue": "operands could not be broadcast together with shapes (100,) (50,) ",
     "output_type": "error",
     "traceback": [
      "\u001b[1;31m---------------------------------------------------------------------------\u001b[0m",
      "\u001b[1;31mValueError\u001b[0m                                Traceback (most recent call last)",
      "Cell \u001b[1;32mIn[10], line 1\u001b[0m\n\u001b[1;32m----> 1\u001b[0m \u001b[38;5;28mprint\u001b[39m(\u001b[38;5;124m\"\u001b[39m\u001b[38;5;124mCosto inicial (heurística ADD):\u001b[39m\u001b[38;5;124m\"\u001b[39m, \u001b[43muflp\u001b[49m\u001b[38;5;241;43m.\u001b[39;49m\u001b[43madd_heuristic\u001b[49m\u001b[43m(\u001b[49m\u001b[43m)\u001b[49m)\n",
      "Cell \u001b[1;32mIn[8], line 18\u001b[0m, in \u001b[0;36mUFLP.add_heuristic\u001b[1;34m(self)\u001b[0m\n\u001b[0;32m     15\u001b[0m \u001b[38;5;28mself\u001b[39m\u001b[38;5;241m.\u001b[39mallocations \u001b[38;5;241m=\u001b[39m np\u001b[38;5;241m.\u001b[39mfull(\u001b[38;5;28mself\u001b[39m\u001b[38;5;241m.\u001b[39mm, \u001b[38;5;241m-\u001b[39m\u001b[38;5;241m1\u001b[39m)\n\u001b[0;32m     17\u001b[0m \u001b[38;5;66;03m# Paso 1: Seleccionar la primera instalación\u001b[39;00m\n\u001b[1;32m---> 18\u001b[0m costs \u001b[38;5;241m=\u001b[39m \u001b[38;5;28;43mself\u001b[39;49m\u001b[38;5;241;43m.\u001b[39;49m\u001b[43massignment_costs\u001b[49m\u001b[38;5;241;43m.\u001b[39;49m\u001b[43msum\u001b[49m\u001b[43m(\u001b[49m\u001b[43maxis\u001b[49m\u001b[38;5;241;43m=\u001b[39;49m\u001b[38;5;241;43m0\u001b[39;49m\u001b[43m)\u001b[49m\u001b[43m \u001b[49m\u001b[38;5;241;43m+\u001b[39;49m\u001b[43m \u001b[49m\u001b[38;5;28;43mself\u001b[39;49m\u001b[38;5;241;43m.\u001b[39;49m\u001b[43mfixed_costs\u001b[49m\n\u001b[0;32m     19\u001b[0m j_star \u001b[38;5;241m=\u001b[39m np\u001b[38;5;241m.\u001b[39margmin(costs)\n\u001b[0;32m     20\u001b[0m \u001b[38;5;28mself\u001b[39m\u001b[38;5;241m.\u001b[39mselected_facilities\u001b[38;5;241m.\u001b[39madd(j_star)\n",
      "\u001b[1;31mValueError\u001b[0m: operands could not be broadcast together with shapes (100,) (50,) "
     ]
    }
   ],
   "source": [
    "print(\"Costo inicial (heurística ADD):\", uflp.add_heuristic())\n"
   ]
  }
 ],
 "metadata": {
  "kernelspec": {
   "display_name": "Python 3",
   "language": "python",
   "name": "python3"
  },
  "language_info": {
   "codemirror_mode": {
    "name": "ipython",
    "version": 3
   },
   "file_extension": ".py",
   "mimetype": "text/x-python",
   "name": "python",
   "nbconvert_exporter": "python",
   "pygments_lexer": "ipython3",
   "version": "3.12.1"
  }
 },
 "nbformat": 4,
 "nbformat_minor": 2
}
