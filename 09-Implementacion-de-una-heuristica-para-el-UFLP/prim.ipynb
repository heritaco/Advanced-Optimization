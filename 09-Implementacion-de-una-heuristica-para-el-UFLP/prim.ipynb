{
 "cells": [
  {
   "cell_type": "markdown",
   "metadata": {},
   "source": [
    "# **UFLP**"
   ]
  },
  {
   "cell_type": "code",
   "execution_count": 1,
   "metadata": {},
   "outputs": [
    {
     "name": "stdout",
     "output_type": "stream",
     "text": [
      "Problema con 50 ubicaciones potenciales y 100 puntos de demanda\n"
     ]
    }
   ],
   "source": [
    "nombre_archivo = \"UFLP-1.txt\"\n",
    "with open(nombre_archivo, 'r') as f:\n",
    "    lineas = f.readlines()\n",
    "\n",
    "n, m = map(int, lineas[0].split())\n",
    "# n son las ubicaciones potenciales\n",
    "# m son los puntos de demanda\n",
    "\n",
    "# inicializar listas para costos\n",
    "f_j = [0] * (n + 1)  # costos fijos (indexados desde 1)\n",
    "\n",
    "c_ij = [[0] * (n + 1) for _ in range(m + 1)]  # costos de asignación (indexados desde 1), por eso es m + 1\n",
    "\n",
    "# leer los datos para cada ubicación potencial\n",
    "for j in range(1, n + 1):\n",
    "    datos = list(map(int, lineas[j].split()))\n",
    "    idx = datos[0]  # indice de la ubicación\n",
    "    f_j[idx] = datos[1]  # costo fijo\n",
    "    # costos de asignación para cada punto de demanda\n",
    "    for i in range(1, m + 1):\n",
    "        c_ij[i][idx] = datos[i + 1]\n",
    "\n",
    "print(f\"Problema con {n} ubicaciones potenciales y {m} puntos de demanda\")"
   ]
  },
  {
   "cell_type": "code",
   "execution_count": 11,
   "metadata": {},
   "outputs": [
    {
     "data": {
      "text/plain": [
       "100"
      ]
     },
     "execution_count": 11,
     "metadata": {},
     "output_type": "execute_result"
    }
   ],
   "source": [
    "c_ij[1][2]\n",
    "\n",
    "# que llegue a i desde j cuesta c_ij[1][2]"
   ]
  },
  {
   "cell_type": "code",
   "execution_count": 12,
   "metadata": {},
   "outputs": [
    {
     "data": {
      "text/plain": [
       "395"
      ]
     },
     "execution_count": 12,
     "metadata": {},
     "output_type": "execute_result"
    }
   ],
   "source": [
    "c_ij[1][3]\n",
    "\n",
    "# que llegue a i desde j cuesta c_ij[1][3]"
   ]
  },
  {
   "cell_type": "code",
   "execution_count": 13,
   "metadata": {},
   "outputs": [
    {
     "data": {
      "text/plain": [
       "771"
      ]
     },
     "execution_count": 13,
     "metadata": {},
     "output_type": "execute_result"
    }
   ],
   "source": [
    "c_ij[4][1]\n",
    "\n",
    "# que llegue a i desde j cuesta c_ij[4][1]"
   ]
  },
  {
   "cell_type": "code",
   "execution_count": 14,
   "metadata": {},
   "outputs": [
    {
     "data": {
      "text/plain": [
       "369"
      ]
     },
     "execution_count": 14,
     "metadata": {},
     "output_type": "execute_result"
    }
   ],
   "source": [
    "c_ij[100][1]\n",
    "\n",
    "# que llegue a i desde j cuesta c_ij[100][1]\n",
    "\n",
    "# que llegue a i desde j cuesta c_ij[i][j]"
   ]
  },
  {
   "cell_type": "markdown",
   "metadata": {},
   "source": [
    "Algoritmo ADD"
   ]
  },
  {
   "cell_type": "code",
   "execution_count": null,
   "metadata": {},
   "outputs": [
    {
     "name": "stdout",
     "output_type": "stream",
     "text": [
      "Ejecutando algoritmo ADD:\n",
      "Ubicación inicial: 44\n",
      "44\n",
      "45854\n",
      "Costo total inicial: 45854\n",
      "Solución inicial:\n",
      "  Instalaciones seleccionadas: [11, 14, 15, 33, 44]\n",
      "  Costo total: 23468\n"
     ]
    }
   ],
   "source": [
    "print(\"Ejecutando algoritmo ADD:\")\n",
    "# ADD: Asignación Directa Determinística\n",
    "\n",
    "# conjunto de ubicaciones seleccionadas\n",
    "J_estrella = set()\n",
    "\n",
    "# arreglo que indica la ubicación seleccionada donde se asigna la demanda del punto i\n",
    "alloc_i = [0] * (m + 1)\n",
    "\n",
    "# costo de la solución\n",
    "f = 0\n",
    "# se declara igual a cero para que no haya problemas con la suma de f_j[j] \n",
    "\n",
    "# calcular la función voraz adaptativa inicial\n",
    "# la funcion voraz adaptativa es g(j) = Σ max(0, c_i,alloc_i - c_ij) - f_j\n",
    "# significa\n",
    "g = [0] * (n + 1)\n",
    "for j in range(1, n + 1):\n",
    "    g[j] = sum(c_ij[i][j] for i in range(1, m + 1)) + f_j[j]\n",
    "\n",
    "# encontrar la mejor ubicación inicial (mínimo g(j))\n",
    "j_estrella = 1 # decir que la mejor ubicación es la primera\n",
    "for j in range(2, n + 1):  # recorrer las ubicaciones\n",
    "    if g[j] < g[j_estrella]:    # si el costo de la ubicación actual es menor al costo de la mejor ubicación\n",
    "        j_estrella = j  # la mejor ubicación es la actual\n",
    "\n",
    "print(f\"Ubicación inicial: {j_estrella}\")\n",
    "# actualizar conjuntos y costos\n",
    "J_estrella.add(j_estrella)\n",
    "\n",
    "# asignar demandas a cada ubicación seleccionada\n",
    "for i in range(1, m + 1):\n",
    "    alloc_i[i] = j_estrella\n",
    "\n",
    "# el costo total es la suma de los costos fijos de las ubicaciones seleccionadas\n",
    "f = g[j_estrella]   # g ya es la suma mas pequeña\n",
    "\n",
    "\n",
    "# repetir hasta que no haya mejora\n",
    "while True:\n",
    "    # calcular la función voraz adaptativa para ubicaciones no seleccionadas\n",
    "    g = [0] * (n + 1)\n",
    "    for j in range(1, n + 1):\n",
    "        if j not in J_estrella:\n",
    "            # calcular g(j) = Σ max(0, c_i,alloc_i - c_ij) - f_j\n",
    "            suma = 0\n",
    "            for i in range(1, m + 1):\n",
    "                diferencia = c_ij[i][alloc_i[i]] - c_ij[i][j]\n",
    "                if diferencia > 0:\n",
    "                    suma += diferencia\n",
    "            g[j] = suma - f_j[j]\n",
    "    \n",
    "    # encontrar la mejor ubicación entre las no seleccionadas\n",
    "    mejor_j = -1\n",
    "    mejor_g = float('-inf')\n",
    "    for j in range(1, n + 1):\n",
    "        if j not in J_estrella and g[j] > mejor_g:\n",
    "            mejor_j = j\n",
    "            mejor_g = g[j]\n",
    "    \n",
    "    # si no hay mejora, terminar\n",
    "    if mejor_j == -1 or mejor_g <= 0:\n",
    "        break\n",
    "    \n",
    "    # actualizar conjuntos y costos\n",
    "    j_estrella = mejor_j\n",
    "    J_estrella.add(j_estrella)\n",
    "    \n",
    "    # reasignar demandas si es beneficioso\n",
    "    for i in range(1, m + 1):\n",
    "        if c_ij[i][j_estrella] < c_ij[i][alloc_i[i]]:\n",
    "            alloc_i[i] = j_estrella\n",
    "    \n",
    "    # actualizar costo total\n",
    "    f = f - mejor_g\n",
    "\n",
    "# calcular costo inicial para verificar\n",
    "costo_fijo_inicial = sum(f_j[j] for j in J_estrella)\n",
    "costo_asignacion_inicial = sum(c_ij[i][alloc_i[i]] for i in range(1, m + 1))\n",
    "costo_inicial = costo_fijo_inicial + costo_asignacion_inicial\n",
    "\n",
    "print(f\"Solución inicial:\")\n",
    "print(f\"  Instalaciones seleccionadas: {sorted(J_estrella)}\")\n",
    "print(f\"  Costo total: {costo_inicial}\")\n",
    "\n"
   ]
  },
  {
   "cell_type": "markdown",
   "metadata": {},
   "source": [
    "Búsqueda Local"
   ]
  },
  {
   "cell_type": "code",
   "execution_count": 16,
   "metadata": {},
   "outputs": [
    {
     "name": "stdout",
     "output_type": "stream",
     "text": [
      "Aplicando búsqueda local:\n",
      "Solución mejorada:\n",
      "  Instalaciones seleccionadas: [11, 14, 15, 33, 44]\n",
      "  Costo total: 23468\n",
      "No se logró mejorar la solución inicial\n"
     ]
    }
   ],
   "source": [
    "print(\"Aplicando búsqueda local:\")\n",
    "\n",
    "mejora = True\n",
    "iteraciones = 0\n",
    "max_iteraciones = 1000  \n",
    "costo_actual = costo_inicial\n",
    "\n",
    "while mejora and iteraciones < max_iteraciones:\n",
    "    mejora = False\n",
    "    iteraciones += 1\n",
    "    \n",
    "    # quito una instalación y la sustituyo por otra\n",
    "    for j_quitar in list(J_estrella):\n",
    "        # parar si solo hay una instalación\n",
    "        if len(J_estrella) <= 1:\n",
    "            break\n",
    "            \n",
    "        # intentar cada posible sustitución\n",
    "        for j_añadir in range(1, n + 1):\n",
    "            if j_añadir in J_estrella or j_añadir == j_quitar:\n",
    "                continue  # ignorar si ya está seleccionada o es la misma\n",
    "                \n",
    "            # copias para evaluar la sustitución\n",
    "            temp_J_estrella = J_estrella.copy()\n",
    "            temp_J_estrella.remove(j_quitar)\n",
    "            temp_J_estrella.add(j_añadir)\n",
    "            temp_alloc_i = alloc_i.copy()\n",
    "            \n",
    "            # reasignar todos los puntos de demanda a la mejor instalación\n",
    "            for i in range(1, m + 1):\n",
    "                # Si el punto estaba asignado a la instalación que quitamos\n",
    "                # o si la nueva instalación ofrece un costo menor, reasignar\n",
    "                if temp_alloc_i[i] == j_quitar or c_ij[i][j_añadir] < c_ij[i][temp_alloc_i[i]]:\n",
    "                    # buscar la mejor instalación entre todas las disponibles\n",
    "                    mejor_instalacion = -1\n",
    "                    mejor_costo = float('inf')\n",
    "                    \n",
    "                    for j in temp_J_estrella:\n",
    "                        if c_ij[i][j] < mejor_costo:\n",
    "                            mejor_costo = c_ij[i][j]\n",
    "                            mejor_instalacion = j\n",
    "                            \n",
    "                    temp_alloc_i[i] = mejor_instalacion\n",
    "            \n",
    "            # nuevo costo total\n",
    "            nuevo_costo_fijo = sum(f_j[j] for j in temp_J_estrella)\n",
    "            nuevo_costo_asignacion = sum(c_ij[i][temp_alloc_i[i]] for i in range(1, m + 1))\n",
    "            nuevo_costo = nuevo_costo_fijo + nuevo_costo_asignacion\n",
    "            \n",
    "            # si hay mejora, actualizar la solución\n",
    "            if nuevo_costo < costo_actual:\n",
    "                J_estrella = temp_J_estrella\n",
    "                alloc_i = temp_alloc_i\n",
    "                costo_actual = nuevo_costo\n",
    "                mejora = True\n",
    "                break\n",
    "                \n",
    "        if mejora:\n",
    "            # si encontramos una mejora, pasamos a la siguiente iteración\n",
    "            break\n",
    "\n",
    "print(f\"Solución mejorada:\")\n",
    "print(f\"  Instalaciones seleccionadas: {sorted(J_estrella)}\")\n",
    "print(f\"  Costo total: {costo_actual}\")\n",
    " \n",
    "if costo_actual < costo_inicial:\n",
    "    mejora_porcentaje = (costo_inicial - costo_actual) / costo_inicial * 100\n",
    "    print(f\"Mejora lograda: {mejora_porcentaje:.2f}%\")\n",
    "else:\n",
    "    print(\"No se logró mejorar la solución inicial\")"
   ]
  }
 ],
 "metadata": {
  "kernelspec": {
   "display_name": "data-mining",
   "language": "python",
   "name": "python3"
  },
  "language_info": {
   "codemirror_mode": {
    "name": "ipython",
    "version": 3
   },
   "file_extension": ".py",
   "mimetype": "text/x-python",
   "name": "python",
   "nbconvert_exporter": "python",
   "pygments_lexer": "ipython3",
   "version": "3.12.8"
  }
 },
 "nbformat": 4,
 "nbformat_minor": 2
}
