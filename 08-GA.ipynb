{
 "cells": [
  {
   "cell_type": "markdown",
   "id": "eaf22093",
   "metadata": {},
   "source": [
    "<style>\n",
    "body {\n",
    "    max-width: 900px;\n",
    "    margin: 40px auto;\n",
    "    padding: 0 20px;\n",
    "    font-family: \"Georgia\", serif;\n",
    "    line-height: 1.6;\n",
    "}\n",
    "</style>\n",
    "\n",
    "<div style=\"text-align: center; padding: 60px 60px\">\n",
    "  <h1 style=\"font-weight: bold; font-size: 3.1em\">\n",
    "    GA-UFLP-8\n",
    "  </h1>\n",
    "</div>"
   ]
  },
  {
   "cell_type": "markdown",
   "id": "083fe91b",
   "metadata": {},
   "source": [
    "## **CONFIGURACIÓN DE LA NOTEBOOK**"
   ]
  },
  {
   "cell_type": "code",
   "execution_count": 1,
   "id": "7e3c946d",
   "metadata": {},
   "outputs": [],
   "source": [
    "import pandas as pd\n",
    "import matplotlib.pyplot as plt\n",
    "import seaborn as sns\n",
    "import os"
   ]
  },
  {
   "cell_type": "code",
   "execution_count": 2,
   "id": "85c9a8e6",
   "metadata": {},
   "outputs": [],
   "source": [
    "from cargar_datos import *\n",
    "from ga_uflp import *"
   ]
  },
  {
   "cell_type": "code",
   "execution_count": 3,
   "id": "8fc15d00",
   "metadata": {},
   "outputs": [],
   "source": [
    "sns.set(style=\"whitegrid\")\n",
    "sns.set_palette(\"tab10\")\n",
    "\n",
    "# Personalizacion global con matplotlib\n",
    "plt.rcParams.update({\n",
    "    'axes.titlesize': 20,        # Tamaño del titulo\n",
    "    'axes.titleweight': 'bold',  # Negrita en el titulo\n",
    "    'xtick.labelsize': 8,        # Tamaño de los xticks\n",
    "    'ytick.labelsize': 8,         # Tamaño de los yticks\n",
    "    'grid.color': 'gray',         # Color de las lineas del grid\n",
    "    'grid.linestyle': '--',       # Estilo de linea (puede ser '-', '--', '-.', ':')\n",
    "    'grid.linewidth': 0.5,        # Grosor del grid\n",
    "    'axes.grid': True,            # Asegura que el grid esté activado\n",
    "    'axes.grid.axis': 'both',     # Aplica el grid a ambos ejes\n",
    "    'lines.linewidth': 1.2,       # Grosor de las lineas\n",
    "    'figure.figsize': (12, 6),   # Tamaño de la figura\n",
    "})"
   ]
  },
  {
   "cell_type": "markdown",
   "id": "c5f1c605",
   "metadata": {},
   "source": [
    "# **CARGAR DATOS**"
   ]
  },
  {
   "cell_type": "code",
   "execution_count": 4,
   "id": "e6044fd3",
   "metadata": {},
   "outputs": [],
   "source": [
    "file_name = 'UFLP-8'"
   ]
  },
  {
   "cell_type": "code",
   "execution_count": 5,
   "id": "7a4640f1",
   "metadata": {},
   "outputs": [],
   "source": [
    "n_instalaciones, n_clientes, costos_fijos, costos_de_transporte = cargar_datos('datos/'+file_name+'.txt')"
   ]
  },
  {
   "cell_type": "markdown",
   "id": "a0c6770d",
   "metadata": {},
   "source": [
    "# **HIPERPARÁMETROS**"
   ]
  },
  {
   "cell_type": "code",
   "execution_count": 6,
   "id": "21017a55",
   "metadata": {},
   "outputs": [],
   "source": [
    "num_ejecuciones = 9\n",
    "resultados = {}\n",
    "random_seed = 8\n",
    "\n",
    "path = \"resultados\"\n",
    "os.makedirs(os.path.join(path, file_name), exist_ok=True)"
   ]
  },
  {
   "cell_type": "code",
   "execution_count": 7,
   "id": "f790d2ac",
   "metadata": {},
   "outputs": [],
   "source": [
    "configuraciones = [\n",
    "    # Mejor solucion\n",
    "    {\n",
    "        \"tamaño_de_poblacion\": 321,\n",
    "        \"tasa_de_mutacion\": 0.6,\n",
    "        \"tasa_de_crossover\": 0.6,\n",
    "        \"tamaño_del_torneo\": 16,\n",
    "        \"maximo_de_generaciones\": 1000,\n",
    "        \"tipo_de_crossover\": \"un_punto\"\n",
    "    },\n",
    "    # Solucion mas rapida\n",
    "    {\n",
    "        \"tamaño_de_poblacion\": 30,\n",
    "        \"tasa_de_mutacion\": 0.1,\n",
    "        \"tasa_de_crossover\": 0.8,\n",
    "        \"tamaño_del_torneo\": 3,\n",
    "        \"maximo_de_generaciones\": 1000,\n",
    "        \"tipo_de_crossover\": \"uniforme\"\n",
    "    }\n",
    "]"
   ]
  },
  {
   "cell_type": "markdown",
   "id": "672ab756",
   "metadata": {},
   "source": [
    "# **EJECUCIÓN**"
   ]
  },
  {
   "cell_type": "code",
   "execution_count": 8,
   "id": "e76efde3",
   "metadata": {},
   "outputs": [
    {
     "name": "stdout",
     "output_type": "stream",
     "text": [
      "Ejecutando GA para UFLP-8 con semilla aleatoria: 8\n",
      "\n",
      "--- Ejecutando configuracion: TamPob_321_TasaMut_0.6_TasaCruz_0.6_TamTorneo_16_MaxGen_1000_un_punto ---\n"
     ]
    },
    {
     "ename": "KeyboardInterrupt",
     "evalue": "",
     "output_type": "error",
     "traceback": [
      "\u001b[1;31m---------------------------------------------------------------------------\u001b[0m",
      "\u001b[1;31mKeyboardInterrupt\u001b[0m                         Traceback (most recent call last)",
      "Cell \u001b[1;32mIn[8], line 19\u001b[0m\n\u001b[0;32m     16\u001b[0m \u001b[38;5;28;01melse\u001b[39;00m:\n\u001b[0;32m     17\u001b[0m     \u001b[38;5;28;01mraise\u001b[39;00m \u001b[38;5;167;01mValueError\u001b[39;00m(\u001b[38;5;124mf\u001b[39m\u001b[38;5;124m\"\u001b[39m\u001b[38;5;124mTipo de crossover desconocido: \u001b[39m\u001b[38;5;132;01m{\u001b[39;00mconfig[\u001b[38;5;124m'\u001b[39m\u001b[38;5;124mtipo_de_crossover\u001b[39m\u001b[38;5;124m'\u001b[39m]\u001b[38;5;132;01m}\u001b[39;00m\u001b[38;5;124m\"\u001b[39m)\n\u001b[1;32m---> 19\u001b[0m mejor_solucion, mejor_fitness, historial_de_fitnesses, tiempo_de_ejecucion, num_generaciones \u001b[38;5;241m=\u001b[39m ga\u001b[38;5;241m.\u001b[39mrun()\n\u001b[0;32m     20\u001b[0m resultados[nombre_configuracion]\u001b[38;5;241m.\u001b[39mappend({\n\u001b[0;32m     21\u001b[0m     \u001b[38;5;124m\"\u001b[39m\u001b[38;5;124mmejor_solucion\u001b[39m\u001b[38;5;124m\"\u001b[39m: mejor_solucion\u001b[38;5;241m+\u001b[39m\u001b[38;5;241m1\u001b[39m,\n\u001b[0;32m     22\u001b[0m     \u001b[38;5;124m\"\u001b[39m\u001b[38;5;124mmejor_costo\u001b[39m\u001b[38;5;124m\"\u001b[39m: mejor_fitness,\n\u001b[1;32m   (...)\u001b[0m\n\u001b[0;32m     26\u001b[0m     \u001b[38;5;124m\"\u001b[39m\u001b[38;5;124mcostos_de_transporte\u001b[39m\u001b[38;5;124m\"\u001b[39m: ga\u001b[38;5;241m.\u001b[39mcostos_transporte\n\u001b[0;32m     27\u001b[0m })\n\u001b[0;32m     28\u001b[0m \u001b[38;5;28mprint\u001b[39m(\u001b[38;5;124mf\u001b[39m\u001b[38;5;124m\"\u001b[39m\u001b[38;5;124mEjecucion \u001b[39m\u001b[38;5;132;01m{\u001b[39;00mejecucion\u001b[38;5;250m \u001b[39m\u001b[38;5;241m+\u001b[39m\u001b[38;5;250m \u001b[39m\u001b[38;5;241m1\u001b[39m\u001b[38;5;132;01m}\u001b[39;00m\u001b[38;5;124m/\u001b[39m\u001b[38;5;132;01m{\u001b[39;00mnum_ejecuciones\u001b[38;5;132;01m}\u001b[39;00m\u001b[38;5;124m: Mejor Costo = \u001b[39m\u001b[38;5;132;01m{\u001b[39;00mmejor_fitness\u001b[38;5;132;01m:\u001b[39;00m\u001b[38;5;124m.2f\u001b[39m\u001b[38;5;132;01m}\u001b[39;00m\u001b[38;5;124m, Tiempo = \u001b[39m\u001b[38;5;132;01m{\u001b[39;00mtiempo_de_ejecucion\u001b[38;5;132;01m:\u001b[39;00m\u001b[38;5;124m.2f\u001b[39m\u001b[38;5;132;01m}\u001b[39;00m\u001b[38;5;124ms, Generaciones = \u001b[39m\u001b[38;5;132;01m{\u001b[39;00mnum_generaciones\u001b[38;5;132;01m}\u001b[39;00m\u001b[38;5;124m\"\u001b[39m)\n",
      "File \u001b[1;32m~\\Downloads\\Advanced-Optimization-main\\Advanced-Optimization-main\\13-Genetic-Algorithm\\ga_uflp.py:185\u001b[0m, in \u001b[0;36mUFLP_GA.run\u001b[1;34m(self)\u001b[0m\n\u001b[0;32m    183\u001b[0m         nueva_poblacion\u001b[38;5;241m.\u001b[39mappend(\u001b[38;5;28mself\u001b[39m\u001b[38;5;241m.\u001b[39m_mutar(descendiente2))\n\u001b[0;32m    184\u001b[0m     \u001b[38;5;28;01melse\u001b[39;00m:\n\u001b[1;32m--> 185\u001b[0m         nueva_poblacion\u001b[38;5;241m.\u001b[39mappend(\u001b[38;5;28mself\u001b[39m\u001b[38;5;241m.\u001b[39m_mutar({\u001b[38;5;124m'\u001b[39m\u001b[38;5;124msolucion\u001b[39m\u001b[38;5;124m'\u001b[39m: padre1[\u001b[38;5;124m'\u001b[39m\u001b[38;5;124msolucion\u001b[39m\u001b[38;5;124m'\u001b[39m]\u001b[38;5;241m.\u001b[39mcopy(), \u001b[38;5;124m'\u001b[39m\u001b[38;5;124mfitness\u001b[39m\u001b[38;5;124m'\u001b[39m: \u001b[38;5;28;01mNone\u001b[39;00m}))\n\u001b[0;32m    186\u001b[0m         nueva_poblacion\u001b[38;5;241m.\u001b[39mappend(\u001b[38;5;28mself\u001b[39m\u001b[38;5;241m.\u001b[39m_mutar({\u001b[38;5;124m'\u001b[39m\u001b[38;5;124msolucion\u001b[39m\u001b[38;5;124m'\u001b[39m: padre2[\u001b[38;5;124m'\u001b[39m\u001b[38;5;124msolucion\u001b[39m\u001b[38;5;124m'\u001b[39m]\u001b[38;5;241m.\u001b[39mcopy(), \u001b[38;5;124m'\u001b[39m\u001b[38;5;124mfitness\u001b[39m\u001b[38;5;124m'\u001b[39m: \u001b[38;5;28;01mNone\u001b[39;00m}))\n\u001b[0;32m    188\u001b[0m \u001b[38;5;28mself\u001b[39m\u001b[38;5;241m.\u001b[39m_reemplazo(nueva_poblacion)\n",
      "\u001b[1;31mKeyboardInterrupt\u001b[0m: "
     ]
    }
   ],
   "source": [
    "print(f\"Ejecutando GA para {file_name} con semilla aleatoria: {random_seed}\\n\")\n",
    "\n",
    "for config in configuraciones:\n",
    "    nombre_configuracion = f\"TamPob_{config['tamaño_de_poblacion']}_TasaMut_{config['tasa_de_mutacion']}_TasaCruz_{config['tasa_de_crossover']}_TamTorneo_{config['tamaño_del_torneo']}_MaxGen_{config['maximo_de_generaciones']}_{config['tipo_de_crossover']}\"\n",
    "    print(f\"--- Ejecutando configuracion: {nombre_configuracion} ---\")\n",
    "    resultados[nombre_configuracion] = []\n",
    "\n",
    "    for ejecucion in range(num_ejecuciones):\n",
    "        ga = UFLP_GA(n_instalaciones, n_clientes, costos_fijos, costos_de_transporte,\n",
    "                     config[\"tamaño_de_poblacion\"], config[\"tasa_de_mutacion\"], config[\"tasa_de_crossover\"],\n",
    "                     config[\"tamaño_del_torneo\"], config[\"maximo_de_generaciones\"])\n",
    "        if config[\"tipo_de_crossover\"] == \"uniforme\":\n",
    "            ga._operador_de_crossover = ga._crossover_uniforme\n",
    "        elif config[\"tipo_de_crossover\"] == \"un_punto\":\n",
    "            ga._operador_de_crossover = ga._crossover_un_punto\n",
    "        else:\n",
    "            raise ValueError(f\"Tipo de crossover desconocido: {config['tipo_de_crossover']}\")\n",
    "\n",
    "        mejor_solucion, mejor_fitness, historial_de_fitnesses, tiempo_de_ejecucion, num_generaciones = ga.run()\n",
    "        resultados[nombre_configuracion].append({\n",
    "            \"mejor_solucion\": mejor_solucion+1,\n",
    "            \"mejor_costo\": mejor_fitness,\n",
    "            \"tiempo_de_ejecucion\": tiempo_de_ejecucion,\n",
    "            \"num_generaciones\": num_generaciones,\n",
    "            \"historial_de_fitnesses\": historial_de_fitnesses,\n",
    "            \"costos_de_transporte\": ga.costos_transporte\n",
    "        })\n",
    "        print(f\"Ejecucion {ejecucion + 1}/{num_ejecuciones}: Mejor Costo = {mejor_fitness:.2f}, Tiempo = {tiempo_de_ejecucion:.2f}s, Generaciones = {num_generaciones}\")\n",
    "    print(\"\\n\")"
   ]
  },
  {
   "cell_type": "markdown",
   "id": "3f0bd0ee",
   "metadata": {},
   "source": [
    "# **RESUMEN**"
   ]
  },
  {
   "cell_type": "code",
   "execution_count": null,
   "id": "8d0a8274",
   "metadata": {},
   "outputs": [],
   "source": [
    "tablas_resumen = {}\n",
    "for nombre_configuracion, resultados_ejecuciones in resultados.items():\n",
    "    costos = [res[\"mejor_costo\"] for res in resultados_ejecuciones]\n",
    "    tiempos = [res[\"tiempo_de_ejecucion\"] for res in resultados_ejecuciones]\n",
    "    mejor_costo = min(costos)\n",
    "    peor_costo = max(costos)\n",
    "    costo_promedio = np.mean(costos)\n",
    "    desviacion_estandar_costo = np.std(costos)\n",
    "    tiempo_promedio = np.mean(tiempos)\n",
    "    desviacion_porcentual = (peor_costo - mejor_costo) / mejor_costo * 100 if mejor_costo != 0 else np.inf\n",
    "\n",
    "    tablas_resumen[nombre_configuracion] = pd.DataFrame({\n",
    "        \"Métrica\": [\"Mejor Costo\", \"Peor Costo\", \"Costo Promedio\", \"Desviacion Estandar Costo\", \"Tiempo Promedio de Ejecucion (s)\", \"Desviacion Porcentual (%)\"],\n",
    "        \"Valor\": [f\"{mejor_costo:.2f}\", f\"{peor_costo:.2f}\", f\"{costo_promedio:.2f}\", f\"{desviacion_estandar_costo:.2f}\", f\"{tiempo_promedio:.2f}\", f\"{desviacion_porcentual:.2f}\"]\n",
    "    })\n",
    "\n",
    "    os.makedirs(os.path.join(path, file_name, nombre_configuracion), exist_ok=True)"
   ]
  },
  {
   "cell_type": "code",
   "execution_count": null,
   "id": "7674b233",
   "metadata": {},
   "outputs": [],
   "source": [
    "print(\"\\n--- Estadisticas de Resumen por Configuracion ---\")\n",
    "for nombre_configuracion, resumen_df in tablas_resumen.items():\n",
    "    print(f\"\\nConfiguracion: {nombre_configuracion}\")\n",
    "    print(resumen_df.to_string(index=False))\n",
    "    resumen_df.to_csv(os.path.join(path, file_name, nombre_configuracion, f\"resumen.csv\"), index=False)"
   ]
  },
  {
   "cell_type": "markdown",
   "id": "6c2089bd",
   "metadata": {},
   "source": [
    "# **GRÁFICAS**"
   ]
  },
  {
   "cell_type": "code",
   "execution_count": null,
   "id": "ef312c57",
   "metadata": {},
   "outputs": [],
   "source": [
    "plt.figure(figsize=(12, 6))\n",
    "for nombre_configuracion, resultados_ejecuciones in resultados.items():\n",
    "    for i, res in enumerate(resultados_ejecuciones):\n",
    "        plt.plot(res[\"historial_de_fitnesses\"], label=f\"{nombre_configuracion} (Ejecucion {i+1})\" if i == 0 else \"\", alpha=0.3)\n",
    "    longitud_minima = min(len(res[\"historial_de_fitnesses\"]) for res in resultados_ejecuciones)\n",
    "    historiales_truncados = [res[\"historial_de_fitnesses\"][:longitud_minima] for res in resultados_ejecuciones]\n",
    "    historial_promedio_fitnesses = np.mean(historiales_truncados, axis=0)\n",
    "    plt.plot(historial_promedio_fitnesses, label=f\"Prom. {nombre_configuracion}\", linewidth=2)\n",
    "    plt.xlabel(\"Generacion\")\n",
    "    plt.ylabel(\"Mejor fitness\")\n",
    "    plt.title(\"Curva de Convergencia del Mejor Fitness\")\n",
    "    plt.legend(loc='upper right', fontsize='small')\n",
    "    plt.grid(True)\n",
    "    plt.savefig(os.path.join(path, file_name, nombre_configuracion, f\"curvas_convergencia.pdf\"), bbox_inches='tight')\n",
    "    plt.close()"
   ]
  },
  {
   "cell_type": "code",
   "execution_count": null,
   "id": "5ffe2b81",
   "metadata": {},
   "outputs": [],
   "source": [
    "for nombre_configuracion, resultados_ejecuciones in resultados.items():\n",
    "    plt.figure(figsize=(4, 6))\n",
    "    costos = [res[\"mejor_costo\"] for res in resultados_ejecuciones]\n",
    "    plt.boxplot(costos, positions=[list(resultados.keys()).index(nombre_configuracion)], patch_artist=True, widths=0.5)\n",
    "    plt.xlabel(\"Configuracion\")\n",
    "    plt.ylabel(\"Mejor Costo\")\n",
    "    plt.title(\"Mejores Costos\")\n",
    "    plt.grid(True, axis='y')\n",
    "    plt.savefig(os.path.join(path, file_name, nombre_configuracion, \"boxplot_mejores_costos.pdf\"), bbox_inches='tight')\n",
    "    plt.close()"
   ]
  },
  {
   "cell_type": "code",
   "execution_count": null,
   "id": "03d0d58d",
   "metadata": {},
   "outputs": [],
   "source": [
    "for nombre_configuracion, resultados_ejecuciones in resultados.items():\n",
    "    texto = \"\"\n",
    "    mejor_ejecucion = min(resultados_ejecuciones, key=lambda x: x[\"mejor_costo\"])\n",
    "    texto += f\"\\nConfiguracion: {nombre_configuracion}\\n\"\n",
    "    texto += f\"  Mejor Solucion (Instalaciones Abiertas): {mejor_ejecucion['mejor_solucion']}\\n\"\n",
    "    texto += f\"  Mejor Costo: {mejor_ejecucion['mejor_costo']:.2f}\\n\"\n",
    "    texto += f\"\\nSemilla aleatoria utilizada para reproducibilidad: {random_seed}\\n\"\n",
    "\n",
    "    texto += f\"\\nTiempo de Ejecucion: {mejor_ejecucion['tiempo_de_ejecucion']:.2f} segundos\\n\"\n",
    "\n",
    "    ruta_archivo = os.path.join(path, file_name, nombre_configuracion, \"mejores_soluciones.txt\")\n",
    "    with open(ruta_archivo, \"w\") as f:\n",
    "        f.write(texto)\n",
    "\n",
    "    print(\"Texto guardado en\", ruta_archivo)"
   ]
  },
  {
   "cell_type": "markdown",
   "id": "4529e58b",
   "metadata": {},
   "source": [
    "# **COMPARACIÓN**"
   ]
  },
  {
   "cell_type": "code",
   "execution_count": null,
   "id": "b5ed0015",
   "metadata": {},
   "outputs": [],
   "source": [
    "# obtener el nombre completo de las configuraciones\n",
    "nombrecompleto = \"\"\n",
    "for config in resultados.keys():\n",
    "    nombrecompleto += config"
   ]
  },
  {
   "cell_type": "code",
   "execution_count": null,
   "id": "0e3a500c",
   "metadata": {},
   "outputs": [],
   "source": [
    "plt.figure(figsize=(12, 6))\n",
    "for nombre_configuracion, resultados_ejecuciones in resultados.items():\n",
    "    for i, res in enumerate(resultados_ejecuciones):\n",
    "        plt.plot(res[\"historial_de_fitnesses\"], label=f\"{nombre_configuracion} (Ejecucion {i+1})\" if i == 0 else \"\", alpha=0.3)\n",
    "    longitud_minima = min(len(res[\"historial_de_fitnesses\"]) for res in resultados_ejecuciones)\n",
    "    historiales_truncados = [res[\"historial_de_fitnesses\"][:longitud_minima] for res in resultados_ejecuciones]\n",
    "    historial_promedio_fitnesses = np.mean(historiales_truncados, axis=0)\n",
    "    plt.plot(historial_promedio_fitnesses, label=f\"Prom. {nombre_configuracion}\", linewidth=2, color=sns.color_palette(\"tab10\")[list(resultados.keys()).index(nombre_configuracion)])\n",
    "plt.xlabel(\"Generacion\")\n",
    "plt.ylabel(\"Mejor fitness\")\n",
    "plt.title(\"Curva de Convergencia del Mejor Fitness\")\n",
    "plt.legend(loc='upper right', fontsize='small')\n",
    "plt.savefig(os.path.join(path, file_name, f\"comparacion-convergencia.pdf\"), bbox_inches='tight')\n",
    "plt.show()\n",
    "plt.close()"
   ]
  },
  {
   "cell_type": "code",
   "execution_count": null,
   "id": "42126b50",
   "metadata": {},
   "outputs": [],
   "source": [
    "datos_costos = {nombre_configuracion: [res[\"mejor_costo\"] for res in resultados_ejecuciones] for nombre_configuracion, resultados_ejecuciones in resultados.items()}\n",
    "plt.figure()\n",
    "sns.boxplot(data=pd.DataFrame(datos_costos)).set(\n",
    "    xlabel=\"Configuracion\",\n",
    "    ylabel=\"Mejor Costo\",\n",
    "    title=\"Comparacion de Distribuciones del Mejor Costo\"\n",
    ")\n",
    "plt.savefig(os.path.join(path, file_name, f\"comparacion-soluciones.pdf\"), bbox_inches='tight')\n",
    "plt.show()\n",
    "plt.close()"
   ]
  },
  {
   "cell_type": "code",
   "execution_count": null,
   "id": "a01ce6ce-d4c3-4e3d-82fa-400c140dcc08",
   "metadata": {
    "tags": []
   },
   "outputs": [],
   "source": [
    "import matplotlib.pyplot as plt\n",
    "from matplotlib.backends.backend_pdf import PdfPages\n",
    "import os\n",
    "\n",
    "# Ruta del PDF de salida\n",
    "pdf_path = os.path.join(path, file_name, \"resumenes_tablas.pdf\")\n",
    "\n",
    "# Guardar todas las tablas en un solo PDF\n",
    "with PdfPages(pdf_path) as pdf:\n",
    "    for nombre_configuracion, resumen_df in tablas_resumen.items():\n",
    "        fig, ax = plt.subplots(figsize=(12, 0.5 * len(resumen_df) + 2))  # Tamaño ajustado a la cantidad de filas\n",
    "        ax.axis('off')\n",
    "        ax.axis('tight')\n",
    "\n",
    "        # Crear tabla\n",
    "        tabla = ax.table(cellText=resumen_df.values,\n",
    "                         colLabels=resumen_df.columns,\n",
    "                         loc='center',\n",
    "                         cellLoc='center',\n",
    "                         colColours=[\"#2C3E50\"] * len(resumen_df.columns))  # Encabezado con color\n",
    "\n",
    "        # Formato\n",
    "        tabla.auto_set_font_size(False)\n",
    "        tabla.set_fontsize(10)\n",
    "        tabla.scale(1, 1.5)\n",
    "\n",
    "        # Aplicar estilos a las celdas\n",
    "        for (row, col), cell in tabla.get_celld().items():\n",
    "            cell.set_edgecolor('black')  # Borde negro para todas las celdas\n",
    "            if row == 0:\n",
    "                cell.set_text_props(weight='bold', color='white')  # Encabezado blanco y en negrita\n",
    "                cell.set_facecolor('#2C3E50')  # Fondo del encabezado\n",
    "            else:\n",
    "                cell.set_facecolor('#F2F2F2' if row % 2 == 0 else 'white')  # Alternar colores de fila\n",
    "\n",
    "        # Título por configuración\n",
    "        plt.title(f\"Configuración: {nombre_configuracion}_ejec_{num_ejecuciones}\", fontsize=14, weight='bold', pad=-50)\n",
    "        pdf.savefig(fig, bbox_inches='tight')\n",
    "        plt.show()\n",
    "        plt.close()"
   ]
  }
 ],
 "metadata": {
  "kernelspec": {
   "display_name": "Python 3 (ipykernel)",
   "language": "python",
   "name": "python3"
  },
  "language_info": {
   "codemirror_mode": {
    "name": "ipython",
    "version": 3
   },
   "file_extension": ".py",
   "mimetype": "text/x-python",
   "name": "python",
   "nbconvert_exporter": "python",
   "pygments_lexer": "ipython3",
   "version": "3.11.5"
  }
 },
 "nbformat": 4,
 "nbformat_minor": 5
}
