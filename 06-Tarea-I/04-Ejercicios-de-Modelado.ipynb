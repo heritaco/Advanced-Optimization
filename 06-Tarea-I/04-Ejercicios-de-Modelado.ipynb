{
  "cells": [
    {
      "cell_type": "markdown",
      "metadata": {},
      "source": [
        "<div style=\"position: relative; text-align: center; padding: 30px;\">\n",
        "  <h1><strong>Ejercicios de Modelado</strong></h1>\n",
        "  <h3><strong>Ejercicio 4</strong></h3>\n",
        "</div>"
      ]
    },
    {
      "cell_type": "markdown",
      "metadata": {},
      "source": [
        "Supongamos una situación donde se tienen $n$ trabajos y $m$ máquinas y cada trabajo debe procesarse en cada máquina. Para cada trabajo, el orden de procesamiento en las máquinas es fijo, es decir, el trabajo $j$ debe procesarse primero en la máquina $j(1)$ y luego en la máquina $j(2)$, y así sucesivamente. Una máquina solo puede procesar un trabajo a la vez, y una vez que se inicia un trabajo en cualquier máquina, debe procesarse hasta su finalización. \n",
        "\n",
        "El objetivo es minimizar la suma de los tiempos de finalización de todos los trabajos. Los datos que especifican una instancia del problema son $m$, $n$ y $p_{ij}$ para $j = 1, \\dots, n$ y $i = 1, \\dots, m$, que es el tiempo de procesamiento del trabajo $j$ en la máquina $i$, y el orden de procesamiento en las máquinas, $j(1), \\dots, j(m)$, para el trabajo $j$, $j = 1, \\dots, n$. Formule el problema.  \n",
        "\n",
        "Sean $t_{ij}$, $i = 1, \\dots, m$, $j = 1, \\dots, n$, variables de decisión que denotan el tiempo de inicio del trabajo $j$ en la máquina $i$ y sean también $y_{ijk}$, $i = 1, \\dots, m$, $j, k = 1, \\dots, n : j < k$, variables binarias que toman el valor de 1 si el trabajo $j$ precede al trabajo $k$ en la máquina $i$ y 0 en otro caso.  \n"
      ]
    },
    {
      "cell_type": "code",
      "execution_count": 6,
      "metadata": {},
      "outputs": [],
      "source": [
        "from ortools.linear_solver import pywraplp"
      ]
    },
    {
      "cell_type": "code",
      "execution_count": 7,
      "metadata": {},
      "outputs": [],
      "source": [
        "solver = pywraplp.Solver.CreateSolver('SCIP')"
      ]
    },
    {
      "cell_type": "markdown",
      "metadata": {},
      "source": [
        "### **Conjunto de índices**"
      ]
    },
    {
      "cell_type": "markdown",
      "metadata": {},
      "source": [
        "- $N$: Conjunto de trabajos, $C = \\{1, 2, \\dots, 7\\}$\n",
        "- $M$: Conjunto de máquinas, $P = \\{1, 2, \\dots, 3\\}$"
      ]
    },
    {
      "cell_type": "code",
      "execution_count": 8,
      "metadata": {
        "trusted": true
      },
      "outputs": [],
      "source": [
        "m = 4 # número de máquinas\n",
        "n = 8 # número de trabajos\n",
        "N = range(n)  # trabajos \n",
        "M = range(m)  # máquinas"
      ]
    },
    {
      "cell_type": "markdown",
      "metadata": {},
      "source": [
        "### **Parámetros**"
      ]
    },
    {
      "cell_type": "markdown",
      "metadata": {},
      "source": [
        "- $ \\forall i \\in M, \\forall j \\in N: p_{i,j} = \\text {tiempos de procesamiento} $\n",
        "- $ \\forall j \\in N: orders_{j} = \\text {orden de procesamiento para el trabajo j} $"
      ]
    },
    {
      "cell_type": "code",
      "execution_count": null,
      "metadata": {
        "trusted": true
      },
      "outputs": [],
      "source": [
        "#matriz de tiempos de procesamiento p[i][j] para i = 0,...,3 y j = 0,...,7\n",
        "p = [\n",
        "    [10, 5, 7, 9, 6, 12, 11, 4],\n",
        "    [6, 6, 4, 10, 3, 12, 11, 5],\n",
        "    [9, 7, 6, 8, 4, 2, 3, 3],\n",
        "    [4, 6, 8, 3, 6, 9, 2, 1]\n",
        "]\n",
        "\n",
        "#orden de procesamiento de cada trabajo\n",
        "#cada lista indica, para el trabajo j, el orden de las máquinas.\n",
        "orders = [\n",
        "    [2, 1, 3, 0],  # Trabajo 1: 3 2 4 1\n",
        "    [0, 1, 3, 2],  # Trabajo 2: 1 2 4 3\n",
        "    [0, 1, 2, 3],  # Trabajo 3: 1 2 3 4\n",
        "    [3, 0, 2, 1],  # Trabajo 4: 4 1 3 2\n",
        "    [3, 0, 1, 2],  # Trabajo 5: 4 1 2 3\n",
        "    [2, 0, 1, 3],  # Trabajo 6: 3 1 2 4\n",
        "    [2, 0, 3, 1],  # Trabajo 7: 3 1 4 2\n",
        "    [2, 1, 0, 3],  # Trabajo 8: 3 2 1 4\n",
        "]\n",
        "\n",
        "\n",
        "#cota superior p\n",
        "MM = 1000 # es MM porque M es el número de máquinas :P"
      ]
    },
    {
      "cell_type": "markdown",
      "metadata": {},
      "source": [
        "### **Variables de decisión**"
      ]
    },
    {
      "cell_type": "code",
      "execution_count": 10,
      "metadata": {
        "trusted": true
      },
      "outputs": [],
      "source": [
        "# Crear variables:\n",
        "# t[i, j]: tiempo de inicio del trabajo j en la máquina i.\n",
        "t = {}\n",
        "for i in M:\n",
        "    for j in N:\n",
        "        t[(i, j)] = solver.NumVar(0, solver.infinity(), f't_{i}_{j}') # t es un número real no negativo\n",
        "\n",
        "# y[i, j, k]: variable binaria que es 1 si en la máquina i el trabajo j precede al trabajo k (para j < k)\n",
        "y = {}\n",
        "for i in M:\n",
        "    for j in N:\n",
        "        for k in range(j + 1, n):\n",
        "            y[(i, j, k)] = solver.BoolVar(f'y_{i}_{j}_{k}')\n"
      ]
    },
    {
      "cell_type": "markdown",
      "metadata": {},
      "source": [
        "### **Función objetivo**"
      ]
    },
    {
      "cell_type": "markdown",
      "metadata": {},
      "source": [
        "Minimizar la suma de los tiempos de inicio en la última máquina para cada trabajo\n",
        "\n",
        "$$\n",
        "\\text{Minimizar} \\sum_{j=1}^{m} t_{j(m),j}\n",
        "$$"
      ]
    },
    {
      "cell_type": "code",
      "execution_count": 11,
      "metadata": {
        "trusted": true
      },
      "outputs": [],
      "source": [
        "tiempo = solver.Objective()\n",
        "\n",
        "tiempo = sum([t[(orders[j][-1], j)] for j in N])\n",
        "\n",
        "solver.Minimize(tiempo)"
      ]
    },
    {
      "cell_type": "markdown",
      "metadata": {},
      "source": [
        "La última máquina para el trabajo $j$ es $orders[j][-1]$"
      ]
    },
    {
      "cell_type": "markdown",
      "metadata": {},
      "source": [
        "### **Restricciones**"
      ]
    },
    {
      "cell_type": "markdown",
      "metadata": {},
      "source": [
        "$$\n",
        "t_{ij} \\geq 0, \\quad i = 1, . . . , m, \\quad j = 1, . . . , n\n",
        "$$"
      ]
    },
    {
      "cell_type": "markdown",
      "metadata": {},
      "source": [
        "$$\n",
        "y_{ijk} \\in \\{0, 1\\}, \\quad i = 1, . . . , m, \\quad j, k = 1, . . . , n : j < k\n",
        "$$"
      ]
    },
    {
      "cell_type": "markdown",
      "metadata": {},
      "source": [
        "Orden de procesamiento de cada trabajo"
      ]
    },
    {
      "cell_type": "markdown",
      "metadata": {},
      "source": [
        "$$\n",
        "t_{j(r+1),j} \\geq t_{j(r),j} + p_{j(r),j}, \\quad r = 1, . . . , m − 1, \\quad j = 1, . . . , n\n",
        "$$"
      ]
    },
    {
      "cell_type": "code",
      "execution_count": 12,
      "metadata": {
        "trusted": true
      },
      "outputs": [],
      "source": [
        "for j in N:\n",
        "    mach_order = orders[j] # secuencia de máquinas para el trabajo j\n",
        "    for r in range(m - 1): # para cada máquina en la secuencia\n",
        "        i_r = mach_order[r]     # máquina en la posición r para el trabajo j\n",
        "        i_next = mach_order[r + 1]  # siguiente máquina en la secuencia\n",
        "        solver.Add(t[(i_next, j)] >= t[(i_r, j)] + p[i_r][j])\n"
      ]
    },
    {
      "cell_type": "markdown",
      "metadata": {},
      "source": [
        "Restricciones de solapamiento en cada máquina"
      ]
    },
    {
      "cell_type": "markdown",
      "metadata": {},
      "source": [
        "$$\n",
        "t_{ij} + p_{ij} \\leq t_{ik} + M (1 − y_{ijk}), \\quad i = 1, . . . , m, \\quad j, k = 1, . . . , n : j < k\n",
        "$$"
      ]
    },
    {
      "cell_type": "code",
      "execution_count": 13,
      "metadata": {},
      "outputs": [],
      "source": [
        "for i in M:\n",
        "    for j in N:\n",
        "        for k in range(j + 1, n):\n",
        "            #si el trabajo j se procesa antes que el trabajo k en la máquina i:\n",
        "            solver.Add(t[(i, j)] + p[i][j] <= t[(i, k)] + MM * (1 - y[(i, j, k)]))"
      ]
    },
    {
      "cell_type": "markdown",
      "metadata": {},
      "source": [
        "$$\n",
        "t_{ik} + p_{ik} \\leq t_{ij} + M y_{ijk}, \\quad i = 1, . . . , m, \\quad j, k = 1, . . . , n : j < k\n",
        "$$"
      ]
    },
    {
      "cell_type": "code",
      "execution_count": 14,
      "metadata": {},
      "outputs": [],
      "source": [
        "for i in M:\n",
        "    for j in N:\n",
        "        for k in range(j + 1, n): # si el trabajo k se procesa antes que el trabajo j en la misma máquina\n",
        "            #si el trabajo k se procesa antes que el trabajo j en la misma máquina:\n",
        "            solver.Add(t[(i, k)] + p[i][k] <= t[(i, j)] + MM * y[(i, j, k)])"
      ]
    },
    {
      "cell_type": "markdown",
      "metadata": {},
      "source": [
        "### **Resolver**"
      ]
    },
    {
      "cell_type": "code",
      "execution_count": 15,
      "metadata": {
        "trusted": true
      },
      "outputs": [],
      "source": [
        "status = solver.Solve()"
      ]
    },
    {
      "cell_type": "code",
      "execution_count": 16,
      "metadata": {},
      "outputs": [
        {
          "name": "stdout",
          "output_type": "stream",
          "text": [
            "Tiempo: 292.0000000000002\n"
          ]
        }
      ],
      "source": [
        "print('Tiempo:', solver.Objective().Value())"
      ]
    },
    {
      "cell_type": "code",
      "execution_count": null,
      "metadata": {},
      "outputs": [
        {
          "name": "stdout",
          "output_type": "stream",
          "text": [
            "\n",
            "Tiempos de inicio por máquina y trabajo:\n",
            "t[0][0] = 42.00000000000007; t[0][1] = 16.999999999999964; t[0][2] = 0.0; t[0][3] = 33.00000000000007; t[0][4] = 6.999999999999943; t[0][5] = 51.99999999999994; t[0][6] = 21.999999999999986; t[0][7] = 12.999999999999979; \n",
            "t[1][0] = 31.000000000000128; t[1][1] = 21.999999999999968; t[1][2] = 7.999999999999972; t[1][3] = 50.00000000000008; t[1][4] = 15.0; t[1][5] = 63.99999999999995; t[1][6] = 37.00000000000024; t[1][7] = 2.999999999999972; \n",
            "t[2][0] = 22.000000000000128; t[2][1] = 33.99999999999992; t[2][2] = 11.999999999999973; t[2][3] = 42.00000000000007; t[2][4] = 18.0; t[2][5] = 31.999999999999922; t[2][6] = 3.000000000000007; t[2][7] = -2.8094592911604636e-14; \n",
            "t[3][0] = 37.00000000000013; t[3][1] = 27.999999999999925; t[3][2] = 17.99999999999997; t[3][3] = 6.000000000000165; t[3][4] = -2.7305351989126187e-11; t[3][5] = 75.99999999999994; t[3][6] = 35.00000000000024; t[3][7] = 16.99999999999998; \n"
          ]
        }
      ],
      "source": [
        "print(\"\\nTiempos de inicio por máquina y trabajo:\")\n",
        "for i in M:\n",
        "    for j in N:\n",
        "        print(f\"t[{i}][{j}] = {t[(i, j)].solution_value()}\", end=\"; \")\n",
        "    print() # nueva línea"
      ]
    }
  ],
  "metadata": {
    "kernelspec": {
      "display_name": "Python 3",
      "language": "python",
      "name": "python3"
    },
    "language_info": {
      "codemirror_mode": {
        "name": "ipython",
        "version": 3
      },
      "file_extension": ".py",
      "mimetype": "text/x-python",
      "name": "python",
      "nbconvert_exporter": "python",
      "pygments_lexer": "ipython3",
      "version": "3.12.1"
    }
  },
  "nbformat": 4,
  "nbformat_minor": 4
}
